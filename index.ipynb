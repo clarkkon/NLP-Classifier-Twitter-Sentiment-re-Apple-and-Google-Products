{
 "cells": [
  {
   "cell_type": "markdown",
   "metadata": {
    "id": "yh4VUrc3TaDf"
   },
   "source": [
    "# NLP Classifer: Twitter Sentiment on Apple and Google Products (Phase 4 Project Submission)"
   ]
  },
  {
   "cell_type": "markdown",
   "metadata": {
    "id": "gBFCMQE_TaDi"
   },
   "source": [
    "* Student name: Konnor Clark\n",
    "* Student pace: self paced\n",
    "* Scheduled project review date/time: 05.11.2023\n",
    "* Instructor name: Morgan Jones\n",
    "* Blog post URL: https://datadruid.blogspot.com/"
   ]
  },
  {
   "cell_type": "markdown",
   "metadata": {
    "id": "MuNtsAUYTaDj"
   },
   "source": [
    "## Project Goal:\n",
    "\n"
   ]
  },
  {
   "cell_type": "markdown",
   "metadata": {
    "id": "xRskuDT9hZnq"
   },
   "source": [
    "This project aims to classify tweets from Twitter as containing positive, negative, or neutral sentiment about Apple or Google products."
   ]
  },
  {
   "cell_type": "markdown",
   "metadata": {
    "id": "WAQUxVcCTaDj"
   },
   "source": [
    "## Overview and Business Understanding/Questions\n",
    "\n"
   ]
  },
  {
   "cell_type": "markdown",
   "metadata": {
    "id": "AOLUgodQh5_f"
   },
   "source": [
    "My stakeholder is Google, who wishes to classify Twitter sentiment about both their own products as well as Apple products. \n",
    "\n",
    "These sentiments offer informal reviews of Google and Apple products, which can better help Google with future product development by gauging the failures and success of their own products and a major competitor's products. \n",
    "\n",
    "How can we categorize tweets as positive or negative?  \n",
    "\n",
    "What kind of terms and hashtags are more likely to surround or embody positve or negative sentiment?"
   ]
  },
  {
   "cell_type": "markdown",
   "metadata": {
    "id": "fFbptutLTaDj"
   },
   "source": [
    "## Data Source and Exploration\n",
    "\n"
   ]
  },
  {
   "cell_type": "markdown",
   "metadata": {
    "id": "qoHzBnUATaDj"
   },
   "source": [
    "This data comes from Data World at the following site: https://data.world/crowdflower/brands-and-product-emotions\n",
    "Tweets regarding Google and Apple product were collected and contributors evaluated the tweets as containing positive, negative, or neutral content.\n",
    "\n",
    "All features in the dataset were used. These were:\n",
    "\n",
    "tweet_text\n",
    "\n",
    "emotion_in_tweet_is_directed_at\n",
    "\n",
    "is_there_an_emotion_directed_at_a_brand_or_product\n",
    "\n",
    "There was some sort of error in the downloaded file that prevented accurate formatting.  I used Excel as an intermediary to import, edit, and then export the csv file again to fix the formatting issue. "
   ]
  },
  {
   "cell_type": "markdown",
   "metadata": {
    "id": "NsBiTO-BTaDp"
   },
   "source": [
    "## Importing, Previewing, and Cleaning the Data\n",
    "\n",
    "\n"
   ]
  },
  {
   "cell_type": "code",
   "execution_count": 1,
   "metadata": {
    "id": "IO3EDkkBTaDj"
   },
   "outputs": [],
   "source": [
    "#Initial import\n",
    "import pandas as pd"
   ]
  },
  {
   "cell_type": "code",
   "execution_count": 2,
   "metadata": {
    "colab": {
     "base_uri": "https://localhost:8080/",
     "height": 583
    },
    "id": "lf6NxfQYTaDk",
    "outputId": "e800f82b-fb23-4441-b6cd-a4ed641a613f",
    "scrolled": false
   },
   "outputs": [
    {
     "data": {
      "text/html": [
       "<div>\n",
       "<style scoped>\n",
       "    .dataframe tbody tr th:only-of-type {\n",
       "        vertical-align: middle;\n",
       "    }\n",
       "\n",
       "    .dataframe tbody tr th {\n",
       "        vertical-align: top;\n",
       "    }\n",
       "\n",
       "    .dataframe thead th {\n",
       "        text-align: right;\n",
       "    }\n",
       "</style>\n",
       "<table border=\"1\" class=\"dataframe\">\n",
       "  <thead>\n",
       "    <tr style=\"text-align: right;\">\n",
       "      <th></th>\n",
       "      <th>tweet_text</th>\n",
       "      <th>emotion_in_tweet_is_directed_at</th>\n",
       "      <th>is_there_an_emotion_directed_at_a_brand_or_product</th>\n",
       "      <th>Unnamed: 3</th>\n",
       "      <th>Unnamed: 4</th>\n",
       "      <th>Unnamed: 5</th>\n",
       "    </tr>\n",
       "  </thead>\n",
       "  <tbody>\n",
       "    <tr>\n",
       "      <th>0</th>\n",
       "      <td>.@wesley83 I have a 3G iPhone. After 3 hrs twe...</td>\n",
       "      <td>iPhone</td>\n",
       "      <td>Negative emotion</td>\n",
       "      <td>NaN</td>\n",
       "      <td>NaN</td>\n",
       "      <td>NaN</td>\n",
       "    </tr>\n",
       "    <tr>\n",
       "      <th>1</th>\n",
       "      <td>@jessedee Know about @fludapp ? Awesome iPad/i...</td>\n",
       "      <td>iPad or iPhone App</td>\n",
       "      <td>Positive emotion</td>\n",
       "      <td>NaN</td>\n",
       "      <td>NaN</td>\n",
       "      <td>NaN</td>\n",
       "    </tr>\n",
       "    <tr>\n",
       "      <th>2</th>\n",
       "      <td>@swonderlin Can not wait for #iPad 2 also. The...</td>\n",
       "      <td>iPad</td>\n",
       "      <td>Positive emotion</td>\n",
       "      <td>NaN</td>\n",
       "      <td>NaN</td>\n",
       "      <td>NaN</td>\n",
       "    </tr>\n",
       "    <tr>\n",
       "      <th>3</th>\n",
       "      <td>@sxsw I hope this year's festival isn't as cra...</td>\n",
       "      <td>iPad or iPhone App</td>\n",
       "      <td>Negative emotion</td>\n",
       "      <td>NaN</td>\n",
       "      <td>NaN</td>\n",
       "      <td>NaN</td>\n",
       "    </tr>\n",
       "    <tr>\n",
       "      <th>4</th>\n",
       "      <td>@sxtxstate great stuff on Fri #SXSW: Marissa M...</td>\n",
       "      <td>Google</td>\n",
       "      <td>Positive emotion</td>\n",
       "      <td>NaN</td>\n",
       "      <td>NaN</td>\n",
       "      <td>NaN</td>\n",
       "    </tr>\n",
       "  </tbody>\n",
       "</table>\n",
       "</div>"
      ],
      "text/plain": [
       "                                          tweet_text  \\\n",
       "0  .@wesley83 I have a 3G iPhone. After 3 hrs twe...   \n",
       "1  @jessedee Know about @fludapp ? Awesome iPad/i...   \n",
       "2  @swonderlin Can not wait for #iPad 2 also. The...   \n",
       "3  @sxsw I hope this year's festival isn't as cra...   \n",
       "4  @sxtxstate great stuff on Fri #SXSW: Marissa M...   \n",
       "\n",
       "  emotion_in_tweet_is_directed_at  \\\n",
       "0                          iPhone   \n",
       "1              iPad or iPhone App   \n",
       "2                            iPad   \n",
       "3              iPad or iPhone App   \n",
       "4                          Google   \n",
       "\n",
       "  is_there_an_emotion_directed_at_a_brand_or_product Unnamed: 3 Unnamed: 4  \\\n",
       "0                                   Negative emotion        NaN        NaN   \n",
       "1                                   Positive emotion        NaN        NaN   \n",
       "2                                   Positive emotion        NaN        NaN   \n",
       "3                                   Negative emotion        NaN        NaN   \n",
       "4                                   Positive emotion        NaN        NaN   \n",
       "\n",
       "  Unnamed: 5  \n",
       "0        NaN  \n",
       "1        NaN  \n",
       "2        NaN  \n",
       "3        NaN  \n",
       "4        NaN  "
      ]
     },
     "execution_count": 2,
     "metadata": {},
     "output_type": "execute_result"
    }
   ],
   "source": [
    "#Read the data and set variable\n",
    "df = pd.read_csv('tweets.csv')\n",
    "\n",
    "#Read the data and set variable (Colab)\n",
    "# url = 'https://raw.githubusercontent.com/clarkkon/NLP-Classifier-Twitter-Sentiment-re-Apple-and-Google-Products/main/tweets.csv'\n",
    "# df = pd.read_csv(url)\n",
    "\n",
    "#Previw data\n",
    "df.head()"
   ]
  },
  {
   "cell_type": "markdown",
   "metadata": {
    "id": "CBa7Z9pdTaDl"
   },
   "source": [
    "It seems that additional columns were created in my editing of the file's formatting.  These Unnamed columns are superfluous, so I will remove them. \n",
    "\n",
    "The main features are also a little wordy. Out of convenience, I'm going to simplify these column names. "
   ]
  },
  {
   "cell_type": "code",
   "execution_count": 3,
   "metadata": {
    "id": "K3Haq9WoTaDl"
   },
   "outputs": [],
   "source": [
    "#Drop unnecessary columns\n",
    "df = df.drop(columns=['Unnamed: 3', 'Unnamed: 4', 'Unnamed: 5'], axis=1)\n",
    "\n",
    "#Rename features for convenience\n",
    "df = df.rename(columns={'tweet_text': 'tweets', \n",
    "                        'emotion_in_tweet_is_directed_at': 'company', \n",
    "                        'is_there_an_emotion_directed_at_a_brand_or_product': 'emotion'})"
   ]
  },
  {
   "cell_type": "code",
   "execution_count": 4,
   "metadata": {
    "colab": {
     "base_uri": "https://localhost:8080/",
     "height": 206
    },
    "id": "lgAB068NTaDl",
    "outputId": "c57b5eac-cec7-45ed-9c01-8a030a826fe2",
    "scrolled": false
   },
   "outputs": [
    {
     "data": {
      "text/html": [
       "<div>\n",
       "<style scoped>\n",
       "    .dataframe tbody tr th:only-of-type {\n",
       "        vertical-align: middle;\n",
       "    }\n",
       "\n",
       "    .dataframe tbody tr th {\n",
       "        vertical-align: top;\n",
       "    }\n",
       "\n",
       "    .dataframe thead th {\n",
       "        text-align: right;\n",
       "    }\n",
       "</style>\n",
       "<table border=\"1\" class=\"dataframe\">\n",
       "  <thead>\n",
       "    <tr style=\"text-align: right;\">\n",
       "      <th></th>\n",
       "      <th>tweets</th>\n",
       "      <th>company</th>\n",
       "      <th>emotion</th>\n",
       "    </tr>\n",
       "  </thead>\n",
       "  <tbody>\n",
       "    <tr>\n",
       "      <th>0</th>\n",
       "      <td>.@wesley83 I have a 3G iPhone. After 3 hrs twe...</td>\n",
       "      <td>iPhone</td>\n",
       "      <td>Negative emotion</td>\n",
       "    </tr>\n",
       "    <tr>\n",
       "      <th>1</th>\n",
       "      <td>@jessedee Know about @fludapp ? Awesome iPad/i...</td>\n",
       "      <td>iPad or iPhone App</td>\n",
       "      <td>Positive emotion</td>\n",
       "    </tr>\n",
       "    <tr>\n",
       "      <th>2</th>\n",
       "      <td>@swonderlin Can not wait for #iPad 2 also. The...</td>\n",
       "      <td>iPad</td>\n",
       "      <td>Positive emotion</td>\n",
       "    </tr>\n",
       "    <tr>\n",
       "      <th>3</th>\n",
       "      <td>@sxsw I hope this year's festival isn't as cra...</td>\n",
       "      <td>iPad or iPhone App</td>\n",
       "      <td>Negative emotion</td>\n",
       "    </tr>\n",
       "    <tr>\n",
       "      <th>4</th>\n",
       "      <td>@sxtxstate great stuff on Fri #SXSW: Marissa M...</td>\n",
       "      <td>Google</td>\n",
       "      <td>Positive emotion</td>\n",
       "    </tr>\n",
       "  </tbody>\n",
       "</table>\n",
       "</div>"
      ],
      "text/plain": [
       "                                              tweets             company  \\\n",
       "0  .@wesley83 I have a 3G iPhone. After 3 hrs twe...              iPhone   \n",
       "1  @jessedee Know about @fludapp ? Awesome iPad/i...  iPad or iPhone App   \n",
       "2  @swonderlin Can not wait for #iPad 2 also. The...                iPad   \n",
       "3  @sxsw I hope this year's festival isn't as cra...  iPad or iPhone App   \n",
       "4  @sxtxstate great stuff on Fri #SXSW: Marissa M...              Google   \n",
       "\n",
       "            emotion  \n",
       "0  Negative emotion  \n",
       "1  Positive emotion  \n",
       "2  Positive emotion  \n",
       "3  Negative emotion  \n",
       "4  Positive emotion  "
      ]
     },
     "execution_count": 4,
     "metadata": {},
     "output_type": "execute_result"
    }
   ],
   "source": [
    "#View data\n",
    "df.head()"
   ]
  },
  {
   "cell_type": "markdown",
   "metadata": {
    "id": "UQJEgy4bmiBD"
   },
   "source": [
    "Great!  The excess columns have been removed and the main features have been simplified."
   ]
  },
  {
   "cell_type": "code",
   "execution_count": 5,
   "metadata": {
    "colab": {
     "base_uri": "https://localhost:8080/"
    },
    "id": "MgMMky8CTaDl",
    "outputId": "2eb37ae5-4768-41b9-e95d-a999b02b473a"
   },
   "outputs": [
    {
     "name": "stdout",
     "output_type": "stream",
     "text": [
      "<class 'pandas.core.frame.DataFrame'>\n",
      "RangeIndex: 9261 entries, 0 to 9260\n",
      "Data columns (total 3 columns):\n",
      " #   Column   Non-Null Count  Dtype \n",
      "---  ------   --------------  ----- \n",
      " 0   tweets   9261 non-null   object\n",
      " 1   company  3306 non-null   object\n",
      " 2   emotion  9081 non-null   object\n",
      "dtypes: object(3)\n",
      "memory usage: 217.2+ KB\n"
     ]
    }
   ],
   "source": [
    "#Check for missing data\n",
    "df.info()"
   ]
  },
  {
   "cell_type": "markdown",
   "metadata": {
    "id": "0ATLL26WTaDl"
   },
   "source": [
    "It looks like we're missing quite a few values for the company, and 180 values for emotion.  For the purposes of this classifer model, it may not be necessary to have all rows contain company information, so I will leave that for now.  However, the emotion class is essential, so let's take a look at what's happening there. "
   ]
  },
  {
   "cell_type": "code",
   "execution_count": 6,
   "metadata": {
    "colab": {
     "base_uri": "https://localhost:8080/"
    },
    "id": "tO8oYIvfTaDm",
    "outputId": "93cc3e4c-7f05-4995-d4ca-99cbb7eeec8b",
    "scrolled": true
   },
   "outputs": [
    {
     "data": {
      "text/plain": [
       "No emotion toward brand or product      5374\n",
       "Positive emotion                        2976\n",
       "Negative emotion                         570\n",
       "I can't tell                             156\n",
       " USA                                       1\n",
       " Android                                   1\n",
       "iPad                                       1\n",
       " Andro... {link} #sxsw #music #news\"       1\n",
       " Texas                                     1\n",
       "Name: emotion, dtype: int64"
      ]
     },
     "execution_count": 6,
     "metadata": {},
     "output_type": "execute_result"
    }
   ],
   "source": [
    "#Preview emotion values\n",
    "df.emotion.value_counts()"
   ]
  },
  {
   "cell_type": "markdown",
   "metadata": {
    "id": "aNKZJzvzTaDm"
   },
   "source": [
    "It seems that there are a few entries that have been mislabeled, perhaps shifted into an inappropriate column.  Since there are so few of these in comparison with the rest of the data, I am simply going to delete these mislabeled rows.\n",
    "\n",
    "There are also 156 containing the string \"I can't tell.\"  This will probably not be useful for our purposes, so I'm going to go ahead and delete any row that contains these uninformative values in the emotion column. "
   ]
  },
  {
   "cell_type": "code",
   "execution_count": 7,
   "metadata": {
    "id": "ZPOSnHfjTaDm"
   },
   "outputs": [],
   "source": [
    "#Remove outlying values\n",
    "index_names = df[(df['emotion'] != 'No emotion toward brand or product') &\n",
    "                (df['emotion'] != 'Positive emotion') &\n",
    "                (df['emotion'] != 'Negative emotion')].index\n",
    "df.drop(index_names, inplace = True)"
   ]
  },
  {
   "cell_type": "code",
   "execution_count": 8,
   "metadata": {
    "colab": {
     "base_uri": "https://localhost:8080/"
    },
    "id": "DIf69G0uTaDm",
    "outputId": "724e2fb7-a593-4251-989c-9d4ad339c0e0",
    "scrolled": true
   },
   "outputs": [
    {
     "data": {
      "text/plain": [
       "No emotion toward brand or product    5374\n",
       "Positive emotion                      2976\n",
       "Negative emotion                       570\n",
       "Name: emotion, dtype: int64"
      ]
     },
     "execution_count": 8,
     "metadata": {},
     "output_type": "execute_result"
    }
   ],
   "source": [
    "#Confirm removal of outliers\n",
    "df.emotion.value_counts()"
   ]
  },
  {
   "cell_type": "code",
   "execution_count": 9,
   "metadata": {
    "colab": {
     "base_uri": "https://localhost:8080/"
    },
    "id": "7LbnbxVYTaDm",
    "outputId": "ac06193a-3aa4-4d90-ac54-0e7b64b1e267"
   },
   "outputs": [
    {
     "name": "stdout",
     "output_type": "stream",
     "text": [
      "<class 'pandas.core.frame.DataFrame'>\n",
      "Int64Index: 8920 entries, 0 to 9260\n",
      "Data columns (total 3 columns):\n",
      " #   Column   Non-Null Count  Dtype \n",
      "---  ------   --------------  ----- \n",
      " 0   tweets   8920 non-null   object\n",
      " 1   company  3280 non-null   object\n",
      " 2   emotion  8920 non-null   object\n",
      "dtypes: object(3)\n",
      "memory usage: 278.8+ KB\n"
     ]
    }
   ],
   "source": [
    "#Preview data\n",
    "df.info()"
   ]
  },
  {
   "cell_type": "markdown",
   "metadata": {
    "id": "PVM5Jh70TaDm"
   },
   "source": [
    "Great, so now our three classes make sense and all null or useless values have been removed.  It still looks like over half of the rows do not have company information, but I will leave it for now in case this is somehow helpful for the classifier.  I am curious as to the values in this column"
   ]
  },
  {
   "cell_type": "code",
   "execution_count": 10,
   "metadata": {
    "colab": {
     "base_uri": "https://localhost:8080/"
    },
    "id": "lbRm2BTKTaDm",
    "outputId": "4ec8d23a-db20-4654-ddd8-3f01ae59cfdd",
    "scrolled": true
   },
   "outputs": [
    {
     "data": {
      "text/plain": [
       "iPad                               941\n",
       "Apple                              659\n",
       "iPad or iPhone App                 469\n",
       "Google                             429\n",
       "iPhone                             296\n",
       "Other Google product or service    292\n",
       "Android App                         81\n",
       "Android                             78\n",
       "Other Apple product or service      35\n",
       "Name: company, dtype: int64"
      ]
     },
     "execution_count": 10,
     "metadata": {},
     "output_type": "execute_result"
    }
   ],
   "source": [
    "#Preview company values\n",
    "df.company.value_counts()"
   ]
  },
  {
   "cell_type": "markdown",
   "metadata": {
    "id": "0FgCrzUwTaDm"
   },
   "source": [
    "The labels are subdivided within the larger categories of Apple or Google.  While I am not sure the distinction between \"iPad,\" \"iPad or iPhone App,\" and \"iPhone,\" it is possible that the model will be better able to evaluate an emotion based on these subcategories (perhaps a label of 'iPhone' is more likely to be associated with a negative emotion, for example), so I will leave these as they are for now. Again, it may be easier to simply remove this column in the future. "
   ]
  },
  {
   "cell_type": "markdown",
   "metadata": {
    "id": "gwxoAjuUTaDp"
   },
   "source": [
    "## Manipulating the Data"
   ]
  },
  {
   "cell_type": "markdown",
   "metadata": {
    "id": "NVpLYXkoTaDn"
   },
   "source": [
    "Below I standardize the tweets so they are all lowercase"
   ]
  },
  {
   "cell_type": "code",
   "execution_count": 11,
   "metadata": {
    "colab": {
     "base_uri": "https://localhost:8080/",
     "height": 206
    },
    "id": "uH5lW9tATaDn",
    "outputId": "280654f7-04cb-4ddb-b15c-1ec04580311e",
    "scrolled": true
   },
   "outputs": [
    {
     "data": {
      "text/html": [
       "<div>\n",
       "<style scoped>\n",
       "    .dataframe tbody tr th:only-of-type {\n",
       "        vertical-align: middle;\n",
       "    }\n",
       "\n",
       "    .dataframe tbody tr th {\n",
       "        vertical-align: top;\n",
       "    }\n",
       "\n",
       "    .dataframe thead th {\n",
       "        text-align: right;\n",
       "    }\n",
       "</style>\n",
       "<table border=\"1\" class=\"dataframe\">\n",
       "  <thead>\n",
       "    <tr style=\"text-align: right;\">\n",
       "      <th></th>\n",
       "      <th>tweets</th>\n",
       "      <th>company</th>\n",
       "      <th>emotion</th>\n",
       "    </tr>\n",
       "  </thead>\n",
       "  <tbody>\n",
       "    <tr>\n",
       "      <th>0</th>\n",
       "      <td>.@wesley83 i have a 3g iphone. after 3 hrs twe...</td>\n",
       "      <td>iPhone</td>\n",
       "      <td>Negative emotion</td>\n",
       "    </tr>\n",
       "    <tr>\n",
       "      <th>1</th>\n",
       "      <td>@jessedee know about @fludapp ? awesome ipad/i...</td>\n",
       "      <td>iPad or iPhone App</td>\n",
       "      <td>Positive emotion</td>\n",
       "    </tr>\n",
       "    <tr>\n",
       "      <th>2</th>\n",
       "      <td>@swonderlin can not wait for #ipad 2 also. the...</td>\n",
       "      <td>iPad</td>\n",
       "      <td>Positive emotion</td>\n",
       "    </tr>\n",
       "    <tr>\n",
       "      <th>3</th>\n",
       "      <td>@sxsw i hope this year's festival isn't as cra...</td>\n",
       "      <td>iPad or iPhone App</td>\n",
       "      <td>Negative emotion</td>\n",
       "    </tr>\n",
       "    <tr>\n",
       "      <th>4</th>\n",
       "      <td>@sxtxstate great stuff on fri #sxsw: marissa m...</td>\n",
       "      <td>Google</td>\n",
       "      <td>Positive emotion</td>\n",
       "    </tr>\n",
       "  </tbody>\n",
       "</table>\n",
       "</div>"
      ],
      "text/plain": [
       "                                              tweets             company  \\\n",
       "0  .@wesley83 i have a 3g iphone. after 3 hrs twe...              iPhone   \n",
       "1  @jessedee know about @fludapp ? awesome ipad/i...  iPad or iPhone App   \n",
       "2  @swonderlin can not wait for #ipad 2 also. the...                iPad   \n",
       "3  @sxsw i hope this year's festival isn't as cra...  iPad or iPhone App   \n",
       "4  @sxtxstate great stuff on fri #sxsw: marissa m...              Google   \n",
       "\n",
       "            emotion  \n",
       "0  Negative emotion  \n",
       "1  Positive emotion  \n",
       "2  Positive emotion  \n",
       "3  Negative emotion  \n",
       "4  Positive emotion  "
      ]
     },
     "execution_count": 11,
     "metadata": {},
     "output_type": "execute_result"
    }
   ],
   "source": [
    "#Standardize tweets to lowercase\n",
    "df.tweets = df.tweets.str.lower()\n",
    "df.head()"
   ]
  },
  {
   "cell_type": "markdown",
   "metadata": {
    "id": "M6tGM6q1TaDn"
   },
   "source": [
    "I now need to tokenize the tweets."
   ]
  },
  {
   "cell_type": "code",
   "execution_count": 12,
   "metadata": {
    "colab": {
     "base_uri": "https://localhost:8080/",
     "height": 206
    },
    "id": "KkGuBTKLTaDn",
    "outputId": "ba082bf9-ce17-4596-faec-14a1fba69280",
    "scrolled": false
   },
   "outputs": [
    {
     "data": {
      "text/html": [
       "<div>\n",
       "<style scoped>\n",
       "    .dataframe tbody tr th:only-of-type {\n",
       "        vertical-align: middle;\n",
       "    }\n",
       "\n",
       "    .dataframe tbody tr th {\n",
       "        vertical-align: top;\n",
       "    }\n",
       "\n",
       "    .dataframe thead th {\n",
       "        text-align: right;\n",
       "    }\n",
       "</style>\n",
       "<table border=\"1\" class=\"dataframe\">\n",
       "  <thead>\n",
       "    <tr style=\"text-align: right;\">\n",
       "      <th></th>\n",
       "      <th>tweets</th>\n",
       "      <th>company</th>\n",
       "      <th>emotion</th>\n",
       "      <th>tweets_tokenized</th>\n",
       "    </tr>\n",
       "  </thead>\n",
       "  <tbody>\n",
       "    <tr>\n",
       "      <th>0</th>\n",
       "      <td>.@wesley83 i have a 3g iphone. after 3 hrs twe...</td>\n",
       "      <td>iPhone</td>\n",
       "      <td>Negative emotion</td>\n",
       "      <td>[wesley83, have, 3g, iphone, after, hrs, tweet...</td>\n",
       "    </tr>\n",
       "    <tr>\n",
       "      <th>1</th>\n",
       "      <td>@jessedee know about @fludapp ? awesome ipad/i...</td>\n",
       "      <td>iPad or iPhone App</td>\n",
       "      <td>Positive emotion</td>\n",
       "      <td>[jessedee, know, about, fludapp, awesome, ipad...</td>\n",
       "    </tr>\n",
       "    <tr>\n",
       "      <th>2</th>\n",
       "      <td>@swonderlin can not wait for #ipad 2 also. the...</td>\n",
       "      <td>iPad</td>\n",
       "      <td>Positive emotion</td>\n",
       "      <td>[swonderlin, can, not, wait, for, ipad, also, ...</td>\n",
       "    </tr>\n",
       "    <tr>\n",
       "      <th>3</th>\n",
       "      <td>@sxsw i hope this year's festival isn't as cra...</td>\n",
       "      <td>iPad or iPhone App</td>\n",
       "      <td>Negative emotion</td>\n",
       "      <td>[sxsw, hope, this, year, festival, isn, as, cr...</td>\n",
       "    </tr>\n",
       "    <tr>\n",
       "      <th>4</th>\n",
       "      <td>@sxtxstate great stuff on fri #sxsw: marissa m...</td>\n",
       "      <td>Google</td>\n",
       "      <td>Positive emotion</td>\n",
       "      <td>[sxtxstate, great, stuff, on, fri, sxsw, maris...</td>\n",
       "    </tr>\n",
       "  </tbody>\n",
       "</table>\n",
       "</div>"
      ],
      "text/plain": [
       "                                              tweets             company  \\\n",
       "0  .@wesley83 i have a 3g iphone. after 3 hrs twe...              iPhone   \n",
       "1  @jessedee know about @fludapp ? awesome ipad/i...  iPad or iPhone App   \n",
       "2  @swonderlin can not wait for #ipad 2 also. the...                iPad   \n",
       "3  @sxsw i hope this year's festival isn't as cra...  iPad or iPhone App   \n",
       "4  @sxtxstate great stuff on fri #sxsw: marissa m...              Google   \n",
       "\n",
       "            emotion                                   tweets_tokenized  \n",
       "0  Negative emotion  [wesley83, have, 3g, iphone, after, hrs, tweet...  \n",
       "1  Positive emotion  [jessedee, know, about, fludapp, awesome, ipad...  \n",
       "2  Positive emotion  [swonderlin, can, not, wait, for, ipad, also, ...  \n",
       "3  Negative emotion  [sxsw, hope, this, year, festival, isn, as, cr...  \n",
       "4  Positive emotion  [sxtxstate, great, stuff, on, fri, sxsw, maris...  "
      ]
     },
     "execution_count": 12,
     "metadata": {},
     "output_type": "execute_result"
    }
   ],
   "source": [
    "#Tokenizer import\n",
    "from nltk.tokenize import RegexpTokenizer\n",
    "\n",
    "#Token pattern\n",
    "basic_token_pattern = r\"(?u)\\b\\w\\w+\\b\"\n",
    "\n",
    "#Tokenizer variable\n",
    "tokenizer = RegexpTokenizer(basic_token_pattern)\n",
    "\n",
    "#Apply tokenizer\n",
    "df[\"tweets_tokenized\"] = df[\"tweets\"].apply(tokenizer.tokenize)\n",
    "\n",
    "#Preview change\n",
    "df.head()"
   ]
  },
  {
   "cell_type": "code",
   "execution_count": 13,
   "metadata": {
    "colab": {
     "base_uri": "https://localhost:8080/",
     "height": 306
    },
    "id": "3JVYgWkxTaDn",
    "outputId": "0608a73a-f21c-4ae8-cd7e-7c64ce0987cd",
    "scrolled": false
   },
   "outputs": [
    {
     "data": {
      "image/png": "[encoded data removed]",
      "text/plain": [
       "<Figure size 1584x360 with 3 Axes>"
      ]
     },
     "metadata": {
      "needs_background": "light"
     },
     "output_type": "display_data"
    }
   ],
   "source": [
    "#Import frequency distribution and plot\n",
    "import nltk\n",
    "from nltk.probability import FreqDist\n",
    "import matplotlib.pyplot as plt\n",
    "\n",
    "#Function to plot Top 10 tokens by emotion\n",
    "def plot_frequency_by_emotion(dataframe):\n",
    "    # Tokenize words in the 'tweets_tokenized' column and creating a list of all tokens\n",
    "    all_tokens = [token for tweet in df['tweets_tokenized'] for token in tweet]\n",
    "\n",
    "    # Calculate frequency distribution for all tokens\n",
    "    all_tokens_freq = FreqDist(all_tokens)\n",
    "\n",
    "    # Set up subplots for each emotion category\n",
    "    fig, axes = plt.subplots(1, 3, figsize=(22,5))\n",
    "\n",
    "    # Plot frequency distribution for each category\n",
    "    for index, emotion in enumerate(df['emotion'].unique()):\n",
    "        # Filter dataframe by emotion category and tokenizing words\n",
    "        category_tokens = [token for tweet in df[df['emotion'] == emotion]['tweets_tokenized'] for token in tweet]\n",
    "\n",
    "        # Calculate frequency distribution for this category\n",
    "        category_tokens_freq = FreqDist(category_tokens)\n",
    "\n",
    "        # Get top 10 most common tokens and their counts\n",
    "        top_10_tokens = [token[0] for token in category_tokens_freq.most_common(10)]\n",
    "        top_10_counts = [token[1] for token in category_tokens_freq.most_common(10)]\n",
    "\n",
    "        # Plot bar chart of top 10 tokens and their counts\n",
    "        ax = axes[index]\n",
    "        ax.bar(top_10_tokens, top_10_counts)\n",
    "        ax.set_title(emotion)\n",
    "        ax.set_xlabel('Word')\n",
    "        ax.set_ylabel('Frequency')\n",
    "\n",
    "    plt.suptitle('Top 10 Words by Emotion Category')\n",
    "    plt.show()\n",
    "\n",
    "plot_frequency_by_emotion(df)\n"
   ]
  },
  {
   "cell_type": "markdown",
   "metadata": {
    "id": "73eX-tlDn68c"
   },
   "source": [
    "Informative! It seems that these tweets were potentially collected during a South by Southwest conference.. There looks to be significant overlap in these top 10 terms and there are stopwords that I will eventually remove.  "
   ]
  },
  {
   "cell_type": "markdown",
   "metadata": {
    "id": "D-usXOVMt9sw"
   },
   "source": [
    "###Build and Evaluate a Baseline Model"
   ]
  },
  {
   "cell_type": "code",
   "execution_count": 14,
   "metadata": {
    "id": "OdJH_DAGTaDn"
   },
   "outputs": [],
   "source": [
    "#Import train test split\n",
    "from sklearn.model_selection import train_test_split\n",
    "\n",
    "X = pd.DataFrame(data=df.tweets)\n",
    "y = df.emotion\n",
    "\n",
    "# Split data into training and testing sets\n",
    "X_train, X_test, y_train, y_test = train_test_split(X, y, test_size=0.2, random_state=42)"
   ]
  },
  {
   "cell_type": "code",
   "execution_count": 15,
   "metadata": {
    "id": "jtCur5UaTaDn"
   },
   "outputs": [],
   "source": [
    "# Import the relevant vectorizer class\n",
    "from sklearn.feature_extraction.text import TfidfVectorizer\n",
    "\n",
    "# Instantiate a vectorizer with max_features=10\n",
    "# (we are using the default token pattern)\n",
    "tfidf = TfidfVectorizer(max_features=10)\n",
    "\n",
    "# Fit the vectorizer on X_train[\"text\"] and transform it\n",
    "X_train_vectorized = tfidf.fit_transform(X_train[\"tweets\"])\n"
   ]
  },
  {
   "cell_type": "code",
   "execution_count": 16,
   "metadata": {
    "id": "jnZ3PTPVTaDn"
   },
   "outputs": [],
   "source": [
    "# We should still have the same number of rows\n",
    "assert X_train_vectorized.shape[0] == X_train.shape[0]\n",
    "\n",
    "# The vectorized version should have 10 columns, since we set\n",
    "# max_features=10\n",
    "assert X_train_vectorized.shape[1] == 10"
   ]
  },
  {
   "cell_type": "code",
   "execution_count": 17,
   "metadata": {
    "colab": {
     "base_uri": "https://localhost:8080/"
    },
    "id": "6Sbbla3ETaDo",
    "outputId": "b236eb72-50c0-498f-e7ac-0c6ad70ffbfa"
   },
   "outputs": [
    {
     "data": {
      "text/plain": [
       "array([0.60364146, 0.60406447, 0.60406447, 0.6033637 , 0.6033637 ])"
      ]
     },
     "execution_count": 17,
     "metadata": {},
     "output_type": "execute_result"
    }
   ],
   "source": [
    "# Import relevant class and function\n",
    "from sklearn.naive_bayes import MultinomialNB\n",
    "from sklearn.model_selection import cross_val_score\n",
    "\n",
    "# Instantiate a MultinomialNB classifier\n",
    "baseline_model = MultinomialNB()\n",
    "\n",
    "# Evaluate the classifier on X_train_vectorized and y_train\n",
    "baseline_cv = cross_val_score(baseline_model, X_train_vectorized, y_train)\n",
    "baseline_cv"
   ]
  },
  {
   "cell_type": "code",
   "execution_count": 18,
   "metadata": {
    "colab": {
     "base_uri": "https://localhost:8080/"
    },
    "id": "iT0gnL36dFQk",
    "outputId": "3cd50faf-5121-440f-cddd-1b7688be0997"
   },
   "outputs": [
    {
     "data": {
      "text/plain": [
       "No emotion toward brand or product    0.603700\n",
       "Positive emotion                      0.335342\n",
       "Negative emotion                      0.060959\n",
       "Name: emotion, dtype: float64"
      ]
     },
     "execution_count": 18,
     "metadata": {},
     "output_type": "execute_result"
    }
   ],
   "source": [
    "#Comparing the above cv with the class balance\n",
    "y_train.value_counts(normalize=True)"
   ]
  },
  {
   "cell_type": "markdown",
   "metadata": {
    "id": "u6NvcBo3uhRi"
   },
   "source": [
    "If we were to guess the plurality every time, \"No emotion,\" we could expect a 60.37% accuracy.  So right now this model is actually a reduction in accuracy at an average of 60.34%.\n",
    "\n",
    "Let's see if removing stopwords helps."
   ]
  },
  {
   "cell_type": "markdown",
   "metadata": {
    "id": "hZNMbx5y4vL_"
   },
   "source": [
    "###Build a Second Model without Stopwords"
   ]
  },
  {
   "cell_type": "code",
   "execution_count": 19,
   "metadata": {
    "id": "aU5fqcrsTaDo"
   },
   "outputs": [],
   "source": [
    "#Download and import stopwords\n",
    "nltk.download('stopwords', quiet=True)\n",
    "from nltk.corpus import stopwords\n",
    "\n",
    "stopwords_list = stopwords.words('english')"
   ]
  },
  {
   "cell_type": "code",
   "execution_count": 20,
   "metadata": {
    "id": "RPE5hbd1TaDo"
   },
   "outputs": [],
   "source": [
    "#Function to remove stopwords\n",
    "def remove_stopwords(token_list):\n",
    "    \"\"\"\n",
    "    Given a list of tokens, return a list where the tokens\n",
    "    that are also present in stopwords_list have been\n",
    "    removed\n",
    "    \"\"\"\n",
    "    stopwords_removed = [token for token in token_list if token not in stopwords_list]\n",
    "    return stopwords_removed"
   ]
  },
  {
   "cell_type": "code",
   "execution_count": 21,
   "metadata": {
    "colab": {
     "base_uri": "https://localhost:8080/",
     "height": 206
    },
    "id": "YSHxylJMTaDo",
    "outputId": "53c2366f-5ad1-418d-f5d0-d33d62a63088",
    "scrolled": true
   },
   "outputs": [
    {
     "data": {
      "text/html": [
       "<div>\n",
       "<style scoped>\n",
       "    .dataframe tbody tr th:only-of-type {\n",
       "        vertical-align: middle;\n",
       "    }\n",
       "\n",
       "    .dataframe tbody tr th {\n",
       "        vertical-align: top;\n",
       "    }\n",
       "\n",
       "    .dataframe thead th {\n",
       "        text-align: right;\n",
       "    }\n",
       "</style>\n",
       "<table border=\"1\" class=\"dataframe\">\n",
       "  <thead>\n",
       "    <tr style=\"text-align: right;\">\n",
       "      <th></th>\n",
       "      <th>tweets</th>\n",
       "      <th>company</th>\n",
       "      <th>emotion</th>\n",
       "      <th>tweets_tokenized</th>\n",
       "    </tr>\n",
       "  </thead>\n",
       "  <tbody>\n",
       "    <tr>\n",
       "      <th>0</th>\n",
       "      <td>.@wesley83 i have a 3g iphone. after 3 hrs twe...</td>\n",
       "      <td>iPhone</td>\n",
       "      <td>Negative emotion</td>\n",
       "      <td>[wesley83, 3g, iphone, hrs, tweeting, rise_aus...</td>\n",
       "    </tr>\n",
       "    <tr>\n",
       "      <th>1</th>\n",
       "      <td>@jessedee know about @fludapp ? awesome ipad/i...</td>\n",
       "      <td>iPad or iPhone App</td>\n",
       "      <td>Positive emotion</td>\n",
       "      <td>[jessedee, know, fludapp, awesome, ipad, iphon...</td>\n",
       "    </tr>\n",
       "    <tr>\n",
       "      <th>2</th>\n",
       "      <td>@swonderlin can not wait for #ipad 2 also. the...</td>\n",
       "      <td>iPad</td>\n",
       "      <td>Positive emotion</td>\n",
       "      <td>[swonderlin, wait, ipad, also, sale, sxsw]</td>\n",
       "    </tr>\n",
       "    <tr>\n",
       "      <th>3</th>\n",
       "      <td>@sxsw i hope this year's festival isn't as cra...</td>\n",
       "      <td>iPad or iPhone App</td>\n",
       "      <td>Negative emotion</td>\n",
       "      <td>[sxsw, hope, year, festival, crashy, year, iph...</td>\n",
       "    </tr>\n",
       "    <tr>\n",
       "      <th>4</th>\n",
       "      <td>@sxtxstate great stuff on fri #sxsw: marissa m...</td>\n",
       "      <td>Google</td>\n",
       "      <td>Positive emotion</td>\n",
       "      <td>[sxtxstate, great, stuff, fri, sxsw, marissa, ...</td>\n",
       "    </tr>\n",
       "  </tbody>\n",
       "</table>\n",
       "</div>"
      ],
      "text/plain": [
       "                                              tweets             company  \\\n",
       "0  .@wesley83 i have a 3g iphone. after 3 hrs twe...              iPhone   \n",
       "1  @jessedee know about @fludapp ? awesome ipad/i...  iPad or iPhone App   \n",
       "2  @swonderlin can not wait for #ipad 2 also. the...                iPad   \n",
       "3  @sxsw i hope this year's festival isn't as cra...  iPad or iPhone App   \n",
       "4  @sxtxstate great stuff on fri #sxsw: marissa m...              Google   \n",
       "\n",
       "            emotion                                   tweets_tokenized  \n",
       "0  Negative emotion  [wesley83, 3g, iphone, hrs, tweeting, rise_aus...  \n",
       "1  Positive emotion  [jessedee, know, fludapp, awesome, ipad, iphon...  \n",
       "2  Positive emotion         [swonderlin, wait, ipad, also, sale, sxsw]  \n",
       "3  Negative emotion  [sxsw, hope, year, festival, crashy, year, iph...  \n",
       "4  Positive emotion  [sxtxstate, great, stuff, fri, sxsw, marissa, ...  "
      ]
     },
     "execution_count": 21,
     "metadata": {},
     "output_type": "execute_result"
    }
   ],
   "source": [
    "#Remove stopwords from tweets_tokenized\n",
    "df.tweets_tokenized = df.tweets_tokenized.apply(remove_stopwords)\n",
    "df.head()"
   ]
  },
  {
   "cell_type": "code",
   "execution_count": 22,
   "metadata": {
    "colab": {
     "base_uri": "https://localhost:8080/",
     "height": 306
    },
    "id": "jdVTdg9sTaDo",
    "outputId": "b4e60d37-1389-42f9-d755-ae205968615f",
    "scrolled": false
   },
   "outputs": [
    {
     "data": {
      "image/png": "[encoded data removed]",
      "text/plain": [
       "<Figure size 1584x360 with 3 Axes>"
      ]
     },
     "metadata": {
      "needs_background": "light"
     },
     "output_type": "display_data"
    }
   ],
   "source": [
    "#Visualize token frequency by emotion without stopwords\n",
    "plot_frequency_by_emotion(df)"
   ]
  },
  {
   "cell_type": "markdown",
   "metadata": {
    "id": "vZ-TAjQxTaDo"
   },
   "source": [
    "So the stopwords have been removed, great!  There still seems to be significant overlap between the words in each category, for example the words sxsw, mention, ipad, apple, iphone, google, link, rt, and quot are found in all three, and 'store' is found in two out of the three.  Since these terms are so common among all three, they may not be particularly useful for the model to distiguish between these three categories.  Before iterating our next model, I will remove them.  "
   ]
  },
  {
   "cell_type": "code",
   "execution_count": 23,
   "metadata": {
    "colab": {
     "base_uri": "https://localhost:8080/"
    },
    "id": "19KA3xu9TaDo",
    "outputId": "90d5e4a0-c754-4c30-acc3-57cb227e7241",
    "scrolled": false
   },
   "outputs": [
    {
     "name": "stdout",
     "output_type": "stream",
     "text": [
      "Original list length: 179\n",
      "List length after adding 'for': 190\n"
     ]
    }
   ],
   "source": [
    "#Confirm length of stopword list\n",
    "print(\"Original list length:\", len(stopwords_list))\n",
    "\n",
    "#Add new words\n",
    "new_words = ['sxsw', 'mention', 'ipad', 'quot', 'iphone', 'google', 'rt', 'apple', 'link', 'quot', 'store']\n",
    "stopwords_list.extend(new_words)\n",
    "\n",
    "#Verify new length of stopword list\n",
    "print(\"List length after adding 'for':\", len(stopwords_list))"
   ]
  },
  {
   "cell_type": "code",
   "execution_count": 24,
   "metadata": {
    "id": "AROUfBXI1hD_"
   },
   "outputs": [],
   "source": [
    "#Apply stopwords removal\n",
    "df.tweets_tokenized = df.tweets_tokenized.apply(remove_stopwords)"
   ]
  },
  {
   "cell_type": "markdown",
   "metadata": {
    "id": "-x-J5tuqt1wV"
   },
   "source": [
    "Let's update the dataframe with the appended list and see the frequency distribution."
   ]
  },
  {
   "cell_type": "code",
   "execution_count": 25,
   "metadata": {
    "colab": {
     "base_uri": "https://localhost:8080/",
     "height": 332
    },
    "id": "TLWB7dUVti-H",
    "outputId": "869da355-50be-411e-ce7e-11d792d91fa6"
   },
   "outputs": [
    {
     "data": {
      "image/png": "[encoded data removed]",
      "text/plain": [
       "<Figure size 1584x360 with 3 Axes>"
      ]
     },
     "metadata": {
      "needs_background": "light"
     },
     "output_type": "display_data"
    }
   ],
   "source": [
    "#Visualize token frequency by emotion with new stopwords\n",
    "plot_frequency_by_emotion(df)"
   ]
  },
  {
   "cell_type": "markdown",
   "metadata": {
    "id": "D3uvqgOLt7bm"
   },
   "source": [
    "Ok, that removed much of our original top 10, but it looks like there is still some significant overlap.  The words app, new, and austin are in three of the top 10, while social, amp, circles, launch, pop, and android are in two.  Let's move ahead and see how this first change affects the accuracy of our model. "
   ]
  },
  {
   "cell_type": "code",
   "execution_count": 26,
   "metadata": {
    "id": "nDxQuUDXdfOd"
   },
   "outputs": [],
   "source": [
    "# Instantiate the vectorizer\n",
    "tfidf = TfidfVectorizer(\n",
    "    max_features=10,\n",
    "    stop_words=stopwords_list\n",
    ")\n",
    "\n",
    "# Fit the vectorizer on X_train and transform it\n",
    "X_train_vectorized = tfidf.fit_transform(X_train[\"tweets\"])"
   ]
  },
  {
   "cell_type": "code",
   "execution_count": 27,
   "metadata": {
    "colab": {
     "base_uri": "https://localhost:8080/"
    },
    "id": "gPIen6bfdkl5",
    "outputId": "50745506-5a66-48c4-96d8-21316d6383cf"
   },
   "outputs": [
    {
     "data": {
      "text/plain": [
       "array([0.59803922, 0.61667835, 0.6152768 , 0.61387526, 0.60406447])"
      ]
     },
     "execution_count": 27,
     "metadata": {},
     "output_type": "execute_result"
    }
   ],
   "source": [
    "# Evaluate the classifier on X_train_vectorized and y_train\n",
    "stopwords_removed_cv = cross_val_score(baseline_model, X_train_vectorized, y_train)\n",
    "stopwords_removed_cv"
   ]
  },
  {
   "cell_type": "code",
   "execution_count": 28,
   "metadata": {
    "colab": {
     "base_uri": "https://localhost:8080/"
    },
    "id": "e7iadMY8ptLW",
    "outputId": "55390bd4-4c8d-4538-adb8-437a7013805b"
   },
   "outputs": [
    {
     "name": "stdout",
     "output_type": "stream",
     "text": [
      "Baseline:          0.6036995597117614\n",
      "Stopwords removed: 0.6095868200118169\n"
     ]
    }
   ],
   "source": [
    "#Compare original model to new model\n",
    "print(\"Baseline:         \", baseline_cv.mean())\n",
    "print(\"Stopwords removed:\", stopwords_removed_cv.mean())"
   ]
  },
  {
   "cell_type": "markdown",
   "metadata": {
    "id": "jjmpUuKJtRd1"
   },
   "source": [
    "The slightest improvement.  Rather than keep adding to the stopword list, let's see if stemming helps the model improve."
   ]
  },
  {
   "cell_type": "markdown",
   "metadata": {
    "id": "Mrj33PXs4-aq"
   },
   "source": [
    "### Build a Third Model with Stemmer"
   ]
  },
  {
   "cell_type": "code",
   "execution_count": 29,
   "metadata": {
    "id": "XfYIN4t_wDMO"
   },
   "outputs": [],
   "source": [
    "#Import stemmer\n",
    "from nltk.stem.snowball import SnowballStemmer\n",
    "stemmer = SnowballStemmer(language=\"english\")\n",
    "\n",
    "#Stemmer function\n",
    "def stem_and_tokenize(document):\n",
    "    tokens = tokenizer.tokenize(document)\n",
    "    return [stemmer.stem(token) for token in tokens]"
   ]
  },
  {
   "cell_type": "markdown",
   "metadata": {
    "id": "8OW_yPO1wZyS"
   },
   "source": [
    "I also need to stem the stopwords"
   ]
  },
  {
   "cell_type": "code",
   "execution_count": 30,
   "metadata": {
    "id": "e4o4t-VSwOp5"
   },
   "outputs": [],
   "source": [
    "#Stem stopwords\n",
    "stemmed_stopwords = [stemmer.stem(word) for word in stopwords_list]"
   ]
  },
  {
   "cell_type": "code",
   "execution_count": 31,
   "metadata": {
    "colab": {
     "base_uri": "https://localhost:8080/"
    },
    "id": "1jqcVTvwxMJJ",
    "outputId": "d9458ba2-530f-40e0-c7ff-2b708257c314"
   },
   "outputs": [],
   "source": [
    "# Instantiate the vectorizer\n",
    "tfidf = TfidfVectorizer(\n",
    "    max_features=10,\n",
    "    stop_words=stemmed_stopwords,\n",
    "    tokenizer=stem_and_tokenize\n",
    ")\n",
    "\n",
    "# Fit the vectorizer on X_train[\"text\"] and transform it\n",
    "X_train_vectorized = tfidf.fit_transform(X_train[\"tweets\"])"
   ]
  },
  {
   "cell_type": "code",
   "execution_count": 32,
   "metadata": {
    "colab": {
     "base_uri": "https://localhost:8080/"
    },
    "id": "YRdPpgwmxUUA",
    "outputId": "da9f87e7-4799-4950-a89c-44a75e6ca87a"
   },
   "outputs": [
    {
     "data": {
      "text/plain": [
       "array([0.60084034, 0.61457603, 0.61247372, 0.60967064, 0.60546601])"
      ]
     },
     "execution_count": 32,
     "metadata": {},
     "output_type": "execute_result"
    }
   ],
   "source": [
    "# Evaluate the classifier on X_train_vectorized and y_train\n",
    "stemmed_cv = cross_val_score(baseline_model, X_train_vectorized, y_train)\n",
    "stemmed_cv"
   ]
  },
  {
   "cell_type": "code",
   "execution_count": 33,
   "metadata": {
    "colab": {
     "base_uri": "https://localhost:8080/"
    },
    "id": "j_RXqRcsxW7x",
    "outputId": "591560cd-1208-4d56-e582-434109ec31ad"
   },
   "outputs": [
    {
     "name": "stdout",
     "output_type": "stream",
     "text": [
      "Stopwords removed: 0.6095868200118169\n",
      "Stemmed:           0.6086053482360008\n"
     ]
    }
   ],
   "source": [
    "#Compare best model with stemmer addition\n",
    "print(\"Stopwords removed:\", stopwords_removed_cv.mean())\n",
    "print(\"Stemmed:          \", stemmed_cv.mean())"
   ]
  },
  {
   "cell_type": "markdown",
   "metadata": {
    "id": "rfprFXRnxqjy"
   },
   "source": [
    "An ever so slightly worse model. So the best model so far is removing the stop words (with the additional stop words appended).\n",
    "\n",
    "Right now I am only allowing the model to look at the tf-idf of the top 10 most frequent tokens. If I allow it to look at all possible tokens, that could lead to high dimensionality issues, but let's take a look at how long our X_train is and figure out what we could change our max_features to. "
   ]
  },
  {
   "cell_type": "markdown",
   "metadata": {
    "id": "FjENJxK05SCA"
   },
   "source": [
    "###Build Fourth Model with Best TF-IDF max_features "
   ]
  },
  {
   "cell_type": "code",
   "execution_count": 34,
   "metadata": {
    "colab": {
     "base_uri": "https://localhost:8080/"
    },
    "id": "6HPCfdQ8zeho",
    "outputId": "03fef519-042d-445b-ef36-5de50ebf62e2"
   },
   "outputs": [
    {
     "data": {
      "text/plain": [
       "7136"
      ]
     },
     "execution_count": 34,
     "metadata": {},
     "output_type": "execute_result"
    }
   ],
   "source": [
    "#Check length of X_train\n",
    "len(X_train)"
   ]
  },
  {
   "cell_type": "markdown",
   "metadata": {
    "id": "OFHATn64zkTH"
   },
   "source": [
    "Setting max_features to 7136 would mean an equal number of rows and columns, something that can cause problems for many model algorithms.\n",
    "\n",
    "I will try increasing max_features from 10 to 200.  Since I will be iterating more models, I will build a function to make the process a little less repetetive."
   ]
  },
  {
   "cell_type": "code",
   "execution_count": 35,
   "metadata": {
    "id": "hDsqnsebzz6A"
   },
   "outputs": [],
   "source": [
    "#Model function\n",
    "def model(maximum_features):\n",
    "  tfidf = TfidfVectorizer(\n",
    "      max_features=maximum_features,\n",
    "      stop_words=stemmed_stopwords,\n",
    "      tokenizer=stem_and_tokenize,\n",
    "      token_pattern=None\n",
    ")\n",
    "  # Initialize the Naive Bayes classifier\n",
    "  baseline_model = MultinomialNB()\n",
    "\n",
    "  #Transform the training data into feature vectors\n",
    "  X_train_vectorized = tfidf.fit_transform(X_train[\"tweets\"])\n",
    "\n",
    "  # Calculate the cross-validation score\n",
    "  cv_score = cross_val_score(baseline_model, X_train_vectorized, y_train)\n",
    "  return cv_score"
   ]
  },
  {
   "cell_type": "code",
   "execution_count": 36,
   "metadata": {
    "colab": {
     "base_uri": "https://localhost:8080/"
    },
    "id": "US5CJ-m415xM",
    "outputId": "c0450ab4-0981-4b9c-ba7e-4531f162457b"
   },
   "outputs": [
    {
     "data": {
      "text/plain": [
       "array([0.65546218, 0.63980378, 0.63770147, 0.63910301, 0.63139453])"
      ]
     },
     "execution_count": 36,
     "metadata": {},
     "output_type": "execute_result"
    }
   ],
   "source": [
    "#Create model with 200 max_features for TF-IDF\n",
    "model_200 = model(200)\n",
    "model_200"
   ]
  },
  {
   "cell_type": "code",
   "execution_count": 37,
   "metadata": {
    "colab": {
     "base_uri": "https://localhost:8080/"
    },
    "id": "sriDNNkZ3Pdv",
    "outputId": "0302fafc-d5dc-488e-a73c-8fd6b589e6ff"
   },
   "outputs": [
    {
     "data": {
      "text/plain": [
       "array([0.67016807, 0.66012614, 0.66152768, 0.66222845, 0.64751226])"
      ]
     },
     "execution_count": 37,
     "metadata": {},
     "output_type": "execute_result"
    }
   ],
   "source": [
    "#Create model with 500 max_features for TF-IDF\n",
    "model_500 = model(500)\n",
    "model_500"
   ]
  },
  {
   "cell_type": "markdown",
   "metadata": {
    "id": "SLCRAOse41cX"
   },
   "source": [
    "The model keeps getting better.  Rather than check every value for max_features, I will create a loop to figure it out the closest max_feature value."
   ]
  },
  {
   "cell_type": "code",
   "execution_count": 38,
   "metadata": {
    "colab": {
     "base_uri": "https://localhost:8080/"
    },
    "id": "Um8G13q17UHu",
    "outputId": "1efb5388-5884-4edc-a31c-75c4e735a73a"
   },
   "outputs": [
    {
     "name": "stdout",
     "output_type": "stream",
     "text": [
      "{500: 0.6603125202428554, 1000: 0.6589119600187657, 1500: 0.6618543142554849, 2000: 0.6618551975800832, 2500: 0.6625558702808384, 3000: 0.6624159124056069, 3500: 0.6600335859641684, 4000: 0.6611541322906177}\n",
      "Best maximum features: 2500\n",
      "Cross-validation score: 0.6625558702808384\n"
     ]
    }
   ],
   "source": [
    "import numpy as np\n",
    "\n",
    "# Define the range of maximum features to test\n",
    "max_features_range = [500, 1000, 1500, 2000, 2500, 3000, 3500, 4000]\n",
    "\n",
    "# Initialize an empty dictionary to store the cross-validation scores\n",
    "cv_scores_dict = {}\n",
    "\n",
    "# Iterate through each value of maximum features and calculate the cross-validation score\n",
    "for max_features in max_features_range:\n",
    "    # Initialize the TfidfVectorizer with the current value of maximum features\n",
    "    tfidf = TfidfVectorizer(\n",
    "        max_features=max_features,\n",
    "        stop_words=stemmed_stopwords,\n",
    "        tokenizer=stem_and_tokenize,\n",
    "        token_pattern=None\n",
    "    )\n",
    "\n",
    "    # Transform the training data into feature vectors\n",
    "    X_train_vectorized = tfidf.fit_transform(X_train[\"tweets\"])\n",
    "\n",
    "    # \n",
    "    # baseline_model = MultinomialNB()\n",
    "\n",
    "    # Calculate the cross-validation score\n",
    "    cv_score = np.mean(cross_val_score(baseline_model, X_train_vectorized, y_train, cv=5))\n",
    "\n",
    "    # Store the cross-validation score in the dictionary\n",
    "    cv_scores_dict[max_features] = cv_score\n",
    "\n",
    "# Print the dictionary of cross-validation scores\n",
    "print(cv_scores_dict)\n",
    "\n",
    "# Find the maximum cross-validation score and the corresponding value of maximum features\n",
    "max_cv_score = max(cv_scores_dict.values())\n",
    "best_max_features = [k for k, v in cv_scores_dict.items() if v == max_cv_score][0]\n",
    "\n",
    "# Print the best value of maximum features and the corresponding cross-validation score\n",
    "print(\"Best maximum features:\", best_max_features)\n",
    "print(\"Cross-validation score:\", max_cv_score)"
   ]
  },
  {
   "cell_type": "markdown",
   "metadata": {
    "id": "wAjkPd8476hj"
   },
   "source": [
    "Great, so our final model will have a max_features value of 2500."
   ]
  },
  {
   "cell_type": "code",
   "execution_count": 39,
   "metadata": {
    "colab": {
     "base_uri": "https://localhost:8080/"
    },
    "id": "9SWtGq5175bq",
    "outputId": "d721236c-d3ab-4e5a-d588-a9768cb3cebd"
   },
   "outputs": [
    {
     "data": {
      "text/plain": [
       "array([0.66386555, 0.66783462, 0.67203924, 0.66012614, 0.64891381])"
      ]
     },
     "execution_count": 39,
     "metadata": {},
     "output_type": "execute_result"
    }
   ],
   "source": [
    "# Instantiate the vectorizer\n",
    "tfidf = TfidfVectorizer(\n",
    "    max_features=2500,\n",
    "    stop_words=stemmed_stopwords,\n",
    "    tokenizer=stem_and_tokenize,\n",
    "    token_pattern=None\n",
    ")\n",
    "# baseline_model = MultinomialNB()\n",
    "\n",
    "#Fit the vectorizer on X_train and transform it\n",
    "X_train_vectorized = tfidf.fit_transform(X_train[\"tweets\"])\n",
    "\n",
    "# Evaluate the classifier on X_train_vectorized and y_train\n",
    "final_cv = cross_val_score(baseline_model, X_train_vectorized, y_train)\n",
    "final_cv"
   ]
  },
  {
   "cell_type": "code",
   "execution_count": 40,
   "metadata": {
    "colab": {
     "base_uri": "https://localhost:8080/"
    },
    "id": "-6HGk1By9HH-",
    "outputId": "d2db29ca-ad81-4d38-9dfe-76b3d8618035"
   },
   "outputs": [
    {
     "data": {
      "text/plain": [
       "0.7449551569506726"
      ]
     },
     "execution_count": 40,
     "metadata": {},
     "output_type": "execute_result"
    }
   ],
   "source": [
    "# Instantiate a MultinomialNB classifier\n",
    "final_model = MultinomialNB()\n",
    "\n",
    "#Train final model with X_train vectorized to include stop words and tokenizer\n",
    "final_model.fit(X_train_vectorized, y_train)\n",
    "\n",
    "#Compute accuracy of final model\n",
    "final_model.score(X_train_vectorized, y_train)"
   ]
  },
  {
   "cell_type": "markdown",
   "metadata": {
    "id": "5lJGCNWE1qS4"
   },
   "source": [
    "Ok, so some difference between the cv score (64.89%) and this accuracy score (74.5%), which means we have some overfitting.  The cv is better indicator for new, unseen data."
   ]
  },
  {
   "cell_type": "code",
   "execution_count": 41,
   "metadata": {
    "colab": {
     "base_uri": "https://localhost:8080/",
     "height": 401
    },
    "id": "aDTQScd6AW4x",
    "outputId": "f7569f49-125e-483c-b340-457558166bd5"
   },
   "outputs": [
    {
     "data": {
      "image/png": "[encoded data removed]",
      "text/plain": [
       "<Figure size 576x1080 with 1 Axes>"
      ]
     },
     "metadata": {
      "needs_background": "light"
     },
     "output_type": "display_data"
    }
   ],
   "source": [
    "#Imports for confusion matrices\n",
    "from sklearn.metrics import confusion_matrix\n",
    "from sklearn.metrics import plot_confusion_matrix\n",
    "\n",
    "# Transform the test data using the vectorizer\n",
    "X_test_vectorized = tfidf.transform(X_test[\"tweets\"])\n",
    "\n",
    "# Make predictions on the test data\n",
    "y_pred = final_model.predict(X_test_vectorized)\n",
    "\n",
    "# Compute the confusion matrix\n",
    "cm = confusion_matrix(y_test, y_pred)\n",
    "\n",
    "# Plot the confusion matrix\n",
    "fig, ax = plt.subplots(figsize=(8, 15))\n",
    "plot_confusion_matrix(final_model, X_test_vectorized, y_test, cmap=plt.cm.Blues, ax=ax)\n",
    "ax.images[-1].colorbar.remove()\n",
    "\n",
    "#Simplify the labels\n",
    "ax.set_xticklabels(['Negative', 'No Emotion', 'Positive'])\n",
    "ax.set_yticklabels(['Negative', 'No Emotion', 'Positive'])\n",
    "\n",
    "#Set title\n",
    "plt.title('Confusion Matrix for Final Model')\n",
    "\n",
    "#Plot\n",
    "plt.show()"
   ]
  },
  {
   "cell_type": "markdown",
   "metadata": {
    "id": "9GrL8Zuw9CUd"
   },
   "source": [
    "It looks like the model is best at intepreting tweets with No Emotion. It is better at interpreting a positive emotion tweet than a negative one, but there is a lean toward labeling positive and negative emotion tweets as no emotion. "
   ]
  },
  {
   "cell_type": "code",
   "execution_count": null,
   "metadata": {
    "id": "bQTyqLx0Ah_K"
   },
   "outputs": [],
   "source": []
  },
  {
   "cell_type": "markdown",
   "metadata": {
    "id": "rTsyoNDFTaDp"
   },
   "source": [
    "## Conclusion and Recommendation"
   ]
  },
  {
   "cell_type": "markdown",
   "metadata": {
    "id": "tHp4MX8-BJZj"
   },
   "source": [
    "This final model interprets tweets with no emotion relatively accurately. This is the plurality of the dataset. \n",
    "\n",
    "If Google is interested in an accurate model that will correctly predict a negative, positive, or emotionless tweet, further iterations with the current dataset could prove fruitful. \n",
    "\n",
    "There is still a high level of overlap between the top 10 tokens of the three classes.  Further removal of these overlapping tokens may help the model better distinguish between the three classes.\n",
    "\n",
    "Beyond this dataset, a higher sample of positive and negative tweets could help the model in its predictive accuracy.  The vast majority of tweets in this dataset were labeled as containing no emotion.  If Google is interested in positive or negative tweets, this dataset could be extended with more relevant information.  \n",
    "\n",
    "In summary, this model provides a adequate baseline for classifying emotionless tweets. For further developement,  high frequency terms that overlap across the three classes (positive, negative, no emotion) could be removed from the dataset while additional positively and negatively-labeled tweets should be introduced to the dataset.  \n",
    "\n",
    "Once this overlap is reduced, the additional data is included, and the cross-validation score is improved for the three classes, the implementing the model on new data can begin. An analysis of the new data's tokens and the corresponding information in each of the three classes will provide Google keen insights for future product development.  \n"
   ]
  },
  {
   "cell_type": "code",
   "execution_count": null,
   "metadata": {
    "id": "n5VyaKeJCE3x"
   },
   "outputs": [],
   "source": []
  }
 ],
 "metadata": {
  "colab": {
   "provenance": []
  },
  "kernelspec": {
   "display_name": "Python (learn-env)",
   "language": "python",
   "name": "learn-env"
  },
  "language_info": {
   "codemirror_mode": {
    "name": "ipython",
    "version": 3
   },
   "file_extension": ".py",
   "mimetype": "text/x-python",
   "name": "python",
   "nbconvert_exporter": "python",
   "pygments_lexer": "ipython3",
   "version": "3.8.5"
  }
 },
 "nbformat": 4,
 "nbformat_minor": 1
}
