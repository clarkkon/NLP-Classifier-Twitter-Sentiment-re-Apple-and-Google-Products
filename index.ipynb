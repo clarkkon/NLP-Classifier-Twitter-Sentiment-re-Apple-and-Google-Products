{
 "cells": [
  {
   "cell_type": "markdown",
   "metadata": {
    "id": "yh4VUrc3TaDf"
   },
   "source": [
    "# NLP Classifer: Twitter Sentiment on Apple and Google Products (Phase 4 Project Submission)"
   ]
  },
  {
   "cell_type": "markdown",
   "metadata": {
    "id": "gBFCMQE_TaDi"
   },
   "source": [
    "* Student name: Konnor Clark\n",
    "* Student pace: self paced\n",
    "* Scheduled project review date/time: 05.11.2023\n",
    "* Instructor name: Morgan Jones\n",
    "* Blog post URL: https://datadruid.blogspot.com/"
   ]
  },
  {
   "cell_type": "markdown",
   "metadata": {
    "id": "MuNtsAUYTaDj"
   },
   "source": [
    "## Project Goal:\n",
    "\n"
   ]
  },
  {
   "cell_type": "markdown",
   "metadata": {
    "id": "xRskuDT9hZnq"
   },
   "source": [
    "This project aims to classify tweets from Twitter as containing positive, negative, or neutral sentiment about Apple or Google products."
   ]
  },
  {
   "cell_type": "markdown",
   "metadata": {
    "id": "WAQUxVcCTaDj"
   },
   "source": [
    "## Overview and Business Understanding/Questions\n",
    "\n"
   ]
  },
  {
   "cell_type": "markdown",
   "metadata": {
    "id": "AOLUgodQh5_f"
   },
   "source": [
    "My stakeholder is Google, who wishes to classify Twitter sentiment about both their own products as well as Apple products. \n",
    "\n",
    "These sentiments offer informal reviews of Google and Apple products, which can better help Google with future product development by gauging the failures and success of their own products and a major competitor's products. \n",
    "\n",
    "How can we categorize tweets as positive or negative?  \n",
    "\n",
    "What kind of terms and hashtags are more likely to surround or embody positive or negative sentiment?"
   ]
  },
  {
   "cell_type": "markdown",
   "metadata": {
    "id": "fFbptutLTaDj"
   },
   "source": [
    "## Data Source and Exploration\n",
    "\n"
   ]
  },
  {
   "cell_type": "markdown",
   "metadata": {
    "id": "qoHzBnUATaDj"
   },
   "source": [
    "This data comes from Data World at the following site: https://data.world/crowdflower/brands-and-product-emotions\n",
    "Tweets regarding Google and Apple product were collected and contributors evaluated the tweets as containing positive, negative, or neutral content.\n",
    "\n",
    "All features in the dataset were used. These were:\n",
    "\n",
    "tweet_text\n",
    "\n",
    "emotion_in_tweet_is_directed_at\n",
    "\n",
    "is_there_an_emotion_directed_at_a_brand_or_product\n",
    "\n",
    "There was some sort of error in the downloaded file that prevented accurate formatting.  I used Excel as an intermediary to import, edit, and then export the csv file again to fix the formatting issue. "
   ]
  },
  {
   "cell_type": "markdown",
   "metadata": {
    "id": "NsBiTO-BTaDp"
   },
   "source": [
    "## Importing, Previewing, and Cleaning the Data\n",
    "\n",
    "\n"
   ]
  },
  {
   "cell_type": "code",
   "execution_count": 1,
   "metadata": {
    "id": "IO3EDkkBTaDj"
   },
   "outputs": [],
   "source": [
    "#Imports\n",
    "import pandas as pd\n",
    "import numpy as np\n",
    "import matplotlib.pyplot as plt\n",
    "import nltk\n",
    "import seaborn as sns\n",
    "from nltk.tokenize import RegexpTokenizer\n",
    "from nltk.probability import FreqDist\n",
    "from nltk.corpus import stopwords\n",
    "from nltk.stem.snowball import SnowballStemmer\n",
    "from sklearn.model_selection import train_test_split\n",
    "from sklearn.feature_extraction.text import TfidfVectorizer\n",
    "from sklearn.feature_extraction.text import CountVectorizer\n",
    "from sklearn.naive_bayes import MultinomialNB\n",
    "from sklearn.model_selection import cross_val_score\n",
    "from sklearn.metrics import precision_score, accuracy_score, recall_score, f1_score\n",
    "from sklearn.metrics import confusion_matrix\n",
    "from sklearn.ensemble import RandomForestClassifier\n",
    "from sklearn.svm import LinearSVC\n",
    "from sklearn.linear_model import LogisticRegression\n",
    "from sklearn.utils.class_weight import compute_class_weight"
   ]
  },
  {
   "cell_type": "code",
   "execution_count": 2,
   "metadata": {
    "colab": {
     "base_uri": "https://localhost:8080/",
     "height": 354
    },
    "id": "lf6NxfQYTaDk",
    "outputId": "7a510327-0766-4ee9-afef-1e3fa1d883fe",
    "scrolled": false
   },
   "outputs": [
    {
     "data": {
      "text/html": [
       "<div>\n",
       "<style scoped>\n",
       "    .dataframe tbody tr th:only-of-type {\n",
       "        vertical-align: middle;\n",
       "    }\n",
       "\n",
       "    .dataframe tbody tr th {\n",
       "        vertical-align: top;\n",
       "    }\n",
       "\n",
       "    .dataframe thead th {\n",
       "        text-align: right;\n",
       "    }\n",
       "</style>\n",
       "<table border=\"1\" class=\"dataframe\">\n",
       "  <thead>\n",
       "    <tr style=\"text-align: right;\">\n",
       "      <th></th>\n",
       "      <th>tweet_text</th>\n",
       "      <th>emotion_in_tweet_is_directed_at</th>\n",
       "      <th>is_there_an_emotion_directed_at_a_brand_or_product</th>\n",
       "      <th>Unnamed: 3</th>\n",
       "      <th>Unnamed: 4</th>\n",
       "      <th>Unnamed: 5</th>\n",
       "    </tr>\n",
       "  </thead>\n",
       "  <tbody>\n",
       "    <tr>\n",
       "      <th>0</th>\n",
       "      <td>.@wesley83 I have a 3G iPhone. After 3 hrs twe...</td>\n",
       "      <td>iPhone</td>\n",
       "      <td>Negative emotion</td>\n",
       "      <td>NaN</td>\n",
       "      <td>NaN</td>\n",
       "      <td>NaN</td>\n",
       "    </tr>\n",
       "    <tr>\n",
       "      <th>1</th>\n",
       "      <td>@jessedee Know about @fludapp ? Awesome iPad/i...</td>\n",
       "      <td>iPad or iPhone App</td>\n",
       "      <td>Positive emotion</td>\n",
       "      <td>NaN</td>\n",
       "      <td>NaN</td>\n",
       "      <td>NaN</td>\n",
       "    </tr>\n",
       "    <tr>\n",
       "      <th>2</th>\n",
       "      <td>@swonderlin Can not wait for #iPad 2 also. The...</td>\n",
       "      <td>iPad</td>\n",
       "      <td>Positive emotion</td>\n",
       "      <td>NaN</td>\n",
       "      <td>NaN</td>\n",
       "      <td>NaN</td>\n",
       "    </tr>\n",
       "    <tr>\n",
       "      <th>3</th>\n",
       "      <td>@sxsw I hope this year's festival isn't as cra...</td>\n",
       "      <td>iPad or iPhone App</td>\n",
       "      <td>Negative emotion</td>\n",
       "      <td>NaN</td>\n",
       "      <td>NaN</td>\n",
       "      <td>NaN</td>\n",
       "    </tr>\n",
       "    <tr>\n",
       "      <th>4</th>\n",
       "      <td>@sxtxstate great stuff on Fri #SXSW: Marissa M...</td>\n",
       "      <td>Google</td>\n",
       "      <td>Positive emotion</td>\n",
       "      <td>NaN</td>\n",
       "      <td>NaN</td>\n",
       "      <td>NaN</td>\n",
       "    </tr>\n",
       "  </tbody>\n",
       "</table>\n",
       "</div>"
      ],
      "text/plain": [
       "                                          tweet_text  \\\n",
       "0  .@wesley83 I have a 3G iPhone. After 3 hrs twe...   \n",
       "1  @jessedee Know about @fludapp ? Awesome iPad/i...   \n",
       "2  @swonderlin Can not wait for #iPad 2 also. The...   \n",
       "3  @sxsw I hope this year's festival isn't as cra...   \n",
       "4  @sxtxstate great stuff on Fri #SXSW: Marissa M...   \n",
       "\n",
       "  emotion_in_tweet_is_directed_at  \\\n",
       "0                          iPhone   \n",
       "1              iPad or iPhone App   \n",
       "2                            iPad   \n",
       "3              iPad or iPhone App   \n",
       "4                          Google   \n",
       "\n",
       "  is_there_an_emotion_directed_at_a_brand_or_product Unnamed: 3 Unnamed: 4  \\\n",
       "0                                   Negative emotion        NaN        NaN   \n",
       "1                                   Positive emotion        NaN        NaN   \n",
       "2                                   Positive emotion        NaN        NaN   \n",
       "3                                   Negative emotion        NaN        NaN   \n",
       "4                                   Positive emotion        NaN        NaN   \n",
       "\n",
       "  Unnamed: 5  \n",
       "0        NaN  \n",
       "1        NaN  \n",
       "2        NaN  \n",
       "3        NaN  \n",
       "4        NaN  "
      ]
     },
     "execution_count": 2,
     "metadata": {},
     "output_type": "execute_result"
    }
   ],
   "source": [
    "#Read the data and set variable\n",
    "df = pd.read_csv('tweets.csv')\n",
    "\n",
    "#Previw data\n",
    "df.head()"
   ]
  },
  {
   "cell_type": "markdown",
   "metadata": {
    "id": "CBa7Z9pdTaDl"
   },
   "source": [
    "It seems that additional columns were created in my editing of the file's formatting.  These Unnamed columns are superfluous, so I will remove them. \n",
    "\n",
    "The main features are also a little wordy. Out of convenience, I'm going to simplify these column names. "
   ]
  },
  {
   "cell_type": "code",
   "execution_count": 3,
   "metadata": {
    "id": "K3Haq9WoTaDl"
   },
   "outputs": [],
   "source": [
    "#Drop unnecessary columns\n",
    "df = df.drop(columns=['Unnamed: 3', 'Unnamed: 4', 'Unnamed: 5'], axis=1)\n",
    "\n",
    "#Rename features for convenience\n",
    "df = df.rename(columns={'tweet_text': 'tweets', \n",
    "                        'emotion_in_tweet_is_directed_at': 'products', \n",
    "                        'is_there_an_emotion_directed_at_a_brand_or_product': 'emotion'})"
   ]
  },
  {
   "cell_type": "code",
   "execution_count": 4,
   "metadata": {
    "colab": {
     "base_uri": "https://localhost:8080/",
     "height": 206
    },
    "id": "lgAB068NTaDl",
    "outputId": "ddde0e30-9d30-4973-a303-6fb5da11d2ea",
    "scrolled": false
   },
   "outputs": [
    {
     "data": {
      "text/html": [
       "<div>\n",
       "<style scoped>\n",
       "    .dataframe tbody tr th:only-of-type {\n",
       "        vertical-align: middle;\n",
       "    }\n",
       "\n",
       "    .dataframe tbody tr th {\n",
       "        vertical-align: top;\n",
       "    }\n",
       "\n",
       "    .dataframe thead th {\n",
       "        text-align: right;\n",
       "    }\n",
       "</style>\n",
       "<table border=\"1\" class=\"dataframe\">\n",
       "  <thead>\n",
       "    <tr style=\"text-align: right;\">\n",
       "      <th></th>\n",
       "      <th>tweets</th>\n",
       "      <th>products</th>\n",
       "      <th>emotion</th>\n",
       "    </tr>\n",
       "  </thead>\n",
       "  <tbody>\n",
       "    <tr>\n",
       "      <th>0</th>\n",
       "      <td>.@wesley83 I have a 3G iPhone. After 3 hrs twe...</td>\n",
       "      <td>iPhone</td>\n",
       "      <td>Negative emotion</td>\n",
       "    </tr>\n",
       "    <tr>\n",
       "      <th>1</th>\n",
       "      <td>@jessedee Know about @fludapp ? Awesome iPad/i...</td>\n",
       "      <td>iPad or iPhone App</td>\n",
       "      <td>Positive emotion</td>\n",
       "    </tr>\n",
       "    <tr>\n",
       "      <th>2</th>\n",
       "      <td>@swonderlin Can not wait for #iPad 2 also. The...</td>\n",
       "      <td>iPad</td>\n",
       "      <td>Positive emotion</td>\n",
       "    </tr>\n",
       "    <tr>\n",
       "      <th>3</th>\n",
       "      <td>@sxsw I hope this year's festival isn't as cra...</td>\n",
       "      <td>iPad or iPhone App</td>\n",
       "      <td>Negative emotion</td>\n",
       "    </tr>\n",
       "    <tr>\n",
       "      <th>4</th>\n",
       "      <td>@sxtxstate great stuff on Fri #SXSW: Marissa M...</td>\n",
       "      <td>Google</td>\n",
       "      <td>Positive emotion</td>\n",
       "    </tr>\n",
       "  </tbody>\n",
       "</table>\n",
       "</div>"
      ],
      "text/plain": [
       "                                              tweets            products  \\\n",
       "0  .@wesley83 I have a 3G iPhone. After 3 hrs twe...              iPhone   \n",
       "1  @jessedee Know about @fludapp ? Awesome iPad/i...  iPad or iPhone App   \n",
       "2  @swonderlin Can not wait for #iPad 2 also. The...                iPad   \n",
       "3  @sxsw I hope this year's festival isn't as cra...  iPad or iPhone App   \n",
       "4  @sxtxstate great stuff on Fri #SXSW: Marissa M...              Google   \n",
       "\n",
       "            emotion  \n",
       "0  Negative emotion  \n",
       "1  Positive emotion  \n",
       "2  Positive emotion  \n",
       "3  Negative emotion  \n",
       "4  Positive emotion  "
      ]
     },
     "execution_count": 4,
     "metadata": {},
     "output_type": "execute_result"
    }
   ],
   "source": [
    "#View data\n",
    "df.head()"
   ]
  },
  {
   "cell_type": "markdown",
   "metadata": {
    "id": "UQJEgy4bmiBD"
   },
   "source": [
    "Great!  The excess columns have been removed and the main features have been simplified."
   ]
  },
  {
   "cell_type": "code",
   "execution_count": 5,
   "metadata": {
    "colab": {
     "base_uri": "https://localhost:8080/"
    },
    "id": "MgMMky8CTaDl",
    "outputId": "5ba6049b-9857-46b1-9446-dc20ace7e028"
   },
   "outputs": [
    {
     "name": "stdout",
     "output_type": "stream",
     "text": [
      "<class 'pandas.core.frame.DataFrame'>\n",
      "RangeIndex: 9261 entries, 0 to 9260\n",
      "Data columns (total 3 columns):\n",
      " #   Column    Non-Null Count  Dtype \n",
      "---  ------    --------------  ----- \n",
      " 0   tweets    9261 non-null   object\n",
      " 1   products  3306 non-null   object\n",
      " 2   emotion   9081 non-null   object\n",
      "dtypes: object(3)\n",
      "memory usage: 217.2+ KB\n"
     ]
    }
   ],
   "source": [
    "#Check for missing data\n",
    "df.info()"
   ]
  },
  {
   "cell_type": "markdown",
   "metadata": {
    "id": "0ATLL26WTaDl"
   },
   "source": [
    "It looks like we're missing quite a few values for the products column, and 180 values for emotion.  For the purposes of this classifer model, it may not be necessary to have all rows contain product information, so I will leave that for now.  However, the emotion class is essential, so let's take a look at what's happening there. "
   ]
  },
  {
   "cell_type": "code",
   "execution_count": 6,
   "metadata": {
    "colab": {
     "base_uri": "https://localhost:8080/"
    },
    "id": "tO8oYIvfTaDm",
    "outputId": "0c5336f5-90b1-4cee-d88f-35377d5d07ca",
    "scrolled": true
   },
   "outputs": [
    {
     "data": {
      "text/plain": [
       "No emotion toward brand or product      5374\n",
       "Positive emotion                        2976\n",
       "Negative emotion                         570\n",
       "I can't tell                             156\n",
       " USA                                       1\n",
       " Andro... {link} #sxsw #music #news\"       1\n",
       " Texas                                     1\n",
       " Android                                   1\n",
       "iPad                                       1\n",
       "Name: emotion, dtype: int64"
      ]
     },
     "execution_count": 6,
     "metadata": {},
     "output_type": "execute_result"
    }
   ],
   "source": [
    "#Preview emotion values\n",
    "df.emotion.value_counts()"
   ]
  },
  {
   "cell_type": "markdown",
   "metadata": {
    "id": "aNKZJzvzTaDm"
   },
   "source": [
    "It seems that there are a few entries that have been mislabeled, perhaps shifted into an inappropriate column.  Since there are so few of these in comparison with the rest of the data, I am simply going to delete these mislabeled rows.\n",
    "\n",
    "There are also 156 containing the string \"I can't tell.\"  This will probably not be useful for our purposes, so I'm going to go ahead and delete any row that contains these uninformative values in the emotion column. "
   ]
  },
  {
   "cell_type": "code",
   "execution_count": 7,
   "metadata": {
    "id": "ZPOSnHfjTaDm"
   },
   "outputs": [],
   "source": [
    "#Remove outlying values\n",
    "index_names = df[(df['emotion'] != 'No emotion toward brand or product') &\n",
    "                (df['emotion'] != 'Positive emotion') &\n",
    "                (df['emotion'] != 'Negative emotion')].index\n",
    "df.drop(index_names, inplace = True)"
   ]
  },
  {
   "cell_type": "code",
   "execution_count": 8,
   "metadata": {
    "colab": {
     "base_uri": "https://localhost:8080/"
    },
    "id": "DIf69G0uTaDm",
    "outputId": "dc8dc623-310b-475a-898c-b61b4892d345",
    "scrolled": true
   },
   "outputs": [
    {
     "data": {
      "text/plain": [
       "No emotion toward brand or product    5374\n",
       "Positive emotion                      2976\n",
       "Negative emotion                       570\n",
       "Name: emotion, dtype: int64"
      ]
     },
     "execution_count": 8,
     "metadata": {},
     "output_type": "execute_result"
    }
   ],
   "source": [
    "#Confirm removal of outliers\n",
    "df.emotion.value_counts()"
   ]
  },
  {
   "cell_type": "markdown",
   "metadata": {
    "id": "tBDMCGDBOWju"
   },
   "source": [
    "Great, so now our three classes make sense and all null or useless values have been removed. \n",
    "There are significantly more tweets with no emotion than with positive or negative emotion. There are very few negative emotion tweets in the dataset, so my expectation is that this model will not be able to classify negative tweets as effectively. I'm going to visualize the distribution of these classes to see the difference more clearly."
   ]
  },
  {
   "cell_type": "code",
   "execution_count": 9,
   "metadata": {
    "colab": {
     "base_uri": "https://localhost:8080/",
     "height": 564
    },
    "id": "Tam1ZEmEjvU4",
    "outputId": "bb93b755-5ef6-4aab-89a7-992c583feee2"
   },
   "outputs": [
    {
     "data": {
      "image/png": "[encoded data removed]",
      "text/plain": [
       "<Figure size 720x432 with 1 Axes>"
      ]
     },
     "metadata": {
      "needs_background": "light"
     },
     "output_type": "display_data"
    }
   ],
   "source": [
    "# Count the occurrences of each emotion class\n",
    "class_counts = df['emotion'].value_counts()\n",
    "\n",
    "# Calculate percentage\n",
    "total = sum(class_counts.values)\n",
    "percentages = [(value/total)*100 for value in class_counts.values]\n",
    "\n",
    "# Create bar chart\n",
    "fig, ax = plt.subplots(figsize=(10, 6))\n",
    "colors = ['darkblue', 'darkgreen', 'darkred']\n",
    "ax.bar(class_counts.index, percentages, color=colors)\n",
    "\n",
    "# Set axis labels and title\n",
    "ax.set_xlabel('Emotion Classes')\n",
    "ax.set_ylabel('Percentage')\n",
    "ax.set_title('Percentage of Emotion Classes in Dataset')\n",
    "\n",
    "# Display the plot\n",
    "plt.show()"
   ]
  },
  {
   "cell_type": "markdown",
   "metadata": {
    "id": "45SSXGWL4e4-"
   },
   "source": [
    "I'm also going to plot a stacked bar graph in case this makes the distribution clearer for the reader."
   ]
  },
  {
   "cell_type": "code",
   "execution_count": 10,
   "metadata": {
    "colab": {
     "base_uri": "https://localhost:8080/",
     "height": 564
    },
    "id": "1ENM58hS3jm3",
    "outputId": "7883a3c5-abc6-475e-90cc-add5ca0c0db4"
   },
   "outputs": [
    {
     "data": {
      "image/png": "[encoded data removed]",
      "text/plain": [
       "<Figure size 216x432 with 1 Axes>"
      ]
     },
     "metadata": {
      "needs_background": "light"
     },
     "output_type": "display_data"
    }
   ],
   "source": [
    "# Count the occurrences of each emotion class\n",
    "class_counts = df['emotion'].value_counts()\n",
    "\n",
    "# Calculate percentage\n",
    "total = sum(class_counts.values)\n",
    "percentages = [(value/total)*100 for value in class_counts.values]\n",
    "\n",
    "# Create bar chart with stacked bars\n",
    "fig, ax = plt.subplots(figsize=(3, 6))\n",
    "ax.bar(0, percentages[0], label='No Emotion', color='darkblue')\n",
    "ax.bar(0, percentages[1], bottom=percentages[0], label='Positive', color='darkgreen')\n",
    "ax.bar(0, percentages[2], bottom=sum(percentages[:2]), label='Negative', color='darkred')\n",
    "\n",
    "# Set axis labels and title\n",
    "ax.set_xlabel('Emotion Classes')\n",
    "ax.set_ylabel('Percentage')\n",
    "ax.set_title('Percentage of Emotion Classes in Dataset')\n",
    "\n",
    "# Add legend and display the plot\n",
    "ax.legend()\n",
    "plt.show()"
   ]
  },
  {
   "cell_type": "markdown",
   "metadata": {
    "id": "HsHtcR7jOnUr"
   },
   "source": [
    "This confirms how low the distribution is for negative tweets, especially.  We will see how the model fares with so few negative examples."
   ]
  },
  {
   "cell_type": "code",
   "execution_count": 11,
   "metadata": {
    "colab": {
     "base_uri": "https://localhost:8080/"
    },
    "id": "7LbnbxVYTaDm",
    "outputId": "1a27ac37-80f4-4b20-fbbe-5f3df6521682"
   },
   "outputs": [
    {
     "name": "stdout",
     "output_type": "stream",
     "text": [
      "<class 'pandas.core.frame.DataFrame'>\n",
      "Int64Index: 8920 entries, 0 to 9260\n",
      "Data columns (total 3 columns):\n",
      " #   Column    Non-Null Count  Dtype \n",
      "---  ------    --------------  ----- \n",
      " 0   tweets    8920 non-null   object\n",
      " 1   products  3280 non-null   object\n",
      " 2   emotion   8920 non-null   object\n",
      "dtypes: object(3)\n",
      "memory usage: 278.8+ KB\n"
     ]
    }
   ],
   "source": [
    "#Preview data\n",
    "df.info()"
   ]
  },
  {
   "cell_type": "markdown",
   "metadata": {
    "id": "PVM5Jh70TaDm"
   },
   "source": [
    "It still looks like over half of the rows do not have product information, but I will leave it for now in case this is somehow helpful for the classifier.  I am curious as to the values in this products column. Recall originally this column was labeled as emotion_in_tweet_is_directed_at."
   ]
  },
  {
   "cell_type": "code",
   "execution_count": 12,
   "metadata": {
    "colab": {
     "base_uri": "https://localhost:8080/"
    },
    "id": "lbRm2BTKTaDm",
    "outputId": "6eb1cc9e-83e3-4ca8-87c7-518964945ce4",
    "scrolled": true
   },
   "outputs": [
    {
     "data": {
      "text/plain": [
       "iPad                               941\n",
       "Apple                              659\n",
       "iPad or iPhone App                 469\n",
       "Google                             429\n",
       "iPhone                             296\n",
       "Other Google product or service    292\n",
       "Android App                         81\n",
       "Android                             78\n",
       "Other Apple product or service      35\n",
       "Name: products, dtype: int64"
      ]
     },
     "execution_count": 12,
     "metadata": {},
     "output_type": "execute_result"
    }
   ],
   "source": [
    "#Preview product values\n",
    "df.products.value_counts()"
   ]
  },
  {
   "cell_type": "markdown",
   "metadata": {
    "id": "0FgCrzUwTaDm"
   },
   "source": [
    "The labels are subdivided within the larger categories of Apple or Google.  While I am not sure the distinction between \"iPad,\" \"iPad or iPhone App,\" and \"iPhone,\" it is possible that the model will be better able to evaluate an emotion based on these subcategories (perhaps a label of 'iPhone' is more likely to be associated with a negative emotion, for example), so I will leave these as they are for now. Again, it may be easier to simply remove this column in the future. "
   ]
  },
  {
   "cell_type": "markdown",
   "metadata": {
    "id": "gwxoAjuUTaDp"
   },
   "source": [
    "## Manipulating the Data"
   ]
  },
  {
   "cell_type": "markdown",
   "metadata": {
    "id": "NVpLYXkoTaDn"
   },
   "source": [
    "Below I standardize the tweets so they are all lowercase"
   ]
  },
  {
   "cell_type": "code",
   "execution_count": 13,
   "metadata": {
    "colab": {
     "base_uri": "https://localhost:8080/",
     "height": 206
    },
    "id": "uH5lW9tATaDn",
    "outputId": "d65c6d04-cec2-4cfe-9e90-ed4d6b0075fc",
    "scrolled": true
   },
   "outputs": [
    {
     "data": {
      "text/html": [
       "<div>\n",
       "<style scoped>\n",
       "    .dataframe tbody tr th:only-of-type {\n",
       "        vertical-align: middle;\n",
       "    }\n",
       "\n",
       "    .dataframe tbody tr th {\n",
       "        vertical-align: top;\n",
       "    }\n",
       "\n",
       "    .dataframe thead th {\n",
       "        text-align: right;\n",
       "    }\n",
       "</style>\n",
       "<table border=\"1\" class=\"dataframe\">\n",
       "  <thead>\n",
       "    <tr style=\"text-align: right;\">\n",
       "      <th></th>\n",
       "      <th>tweets</th>\n",
       "      <th>products</th>\n",
       "      <th>emotion</th>\n",
       "    </tr>\n",
       "  </thead>\n",
       "  <tbody>\n",
       "    <tr>\n",
       "      <th>0</th>\n",
       "      <td>.@wesley83 i have a 3g iphone. after 3 hrs twe...</td>\n",
       "      <td>iPhone</td>\n",
       "      <td>Negative emotion</td>\n",
       "    </tr>\n",
       "    <tr>\n",
       "      <th>1</th>\n",
       "      <td>@jessedee know about @fludapp ? awesome ipad/i...</td>\n",
       "      <td>iPad or iPhone App</td>\n",
       "      <td>Positive emotion</td>\n",
       "    </tr>\n",
       "    <tr>\n",
       "      <th>2</th>\n",
       "      <td>@swonderlin can not wait for #ipad 2 also. the...</td>\n",
       "      <td>iPad</td>\n",
       "      <td>Positive emotion</td>\n",
       "    </tr>\n",
       "    <tr>\n",
       "      <th>3</th>\n",
       "      <td>@sxsw i hope this year's festival isn't as cra...</td>\n",
       "      <td>iPad or iPhone App</td>\n",
       "      <td>Negative emotion</td>\n",
       "    </tr>\n",
       "    <tr>\n",
       "      <th>4</th>\n",
       "      <td>@sxtxstate great stuff on fri #sxsw: marissa m...</td>\n",
       "      <td>Google</td>\n",
       "      <td>Positive emotion</td>\n",
       "    </tr>\n",
       "  </tbody>\n",
       "</table>\n",
       "</div>"
      ],
      "text/plain": [
       "                                              tweets            products  \\\n",
       "0  .@wesley83 i have a 3g iphone. after 3 hrs twe...              iPhone   \n",
       "1  @jessedee know about @fludapp ? awesome ipad/i...  iPad or iPhone App   \n",
       "2  @swonderlin can not wait for #ipad 2 also. the...                iPad   \n",
       "3  @sxsw i hope this year's festival isn't as cra...  iPad or iPhone App   \n",
       "4  @sxtxstate great stuff on fri #sxsw: marissa m...              Google   \n",
       "\n",
       "            emotion  \n",
       "0  Negative emotion  \n",
       "1  Positive emotion  \n",
       "2  Positive emotion  \n",
       "3  Negative emotion  \n",
       "4  Positive emotion  "
      ]
     },
     "execution_count": 13,
     "metadata": {},
     "output_type": "execute_result"
    }
   ],
   "source": [
    "#Standardize tweets to lowercase\n",
    "df.tweets = df.tweets.str.lower()\n",
    "df.head()"
   ]
  },
  {
   "cell_type": "markdown",
   "metadata": {
    "id": "M6tGM6q1TaDn"
   },
   "source": [
    "I now need to tokenize the tweets."
   ]
  },
  {
   "cell_type": "code",
   "execution_count": 14,
   "metadata": {
    "colab": {
     "base_uri": "https://localhost:8080/",
     "height": 206
    },
    "id": "KkGuBTKLTaDn",
    "outputId": "34dee8e2-8968-464a-ed41-06acaf0110f8",
    "scrolled": false
   },
   "outputs": [
    {
     "data": {
      "text/html": [
       "<div>\n",
       "<style scoped>\n",
       "    .dataframe tbody tr th:only-of-type {\n",
       "        vertical-align: middle;\n",
       "    }\n",
       "\n",
       "    .dataframe tbody tr th {\n",
       "        vertical-align: top;\n",
       "    }\n",
       "\n",
       "    .dataframe thead th {\n",
       "        text-align: right;\n",
       "    }\n",
       "</style>\n",
       "<table border=\"1\" class=\"dataframe\">\n",
       "  <thead>\n",
       "    <tr style=\"text-align: right;\">\n",
       "      <th></th>\n",
       "      <th>tweets</th>\n",
       "      <th>products</th>\n",
       "      <th>emotion</th>\n",
       "      <th>tweets_tokenized</th>\n",
       "    </tr>\n",
       "  </thead>\n",
       "  <tbody>\n",
       "    <tr>\n",
       "      <th>0</th>\n",
       "      <td>.@wesley83 i have a 3g iphone. after 3 hrs twe...</td>\n",
       "      <td>iPhone</td>\n",
       "      <td>Negative emotion</td>\n",
       "      <td>[wesley83, have, 3g, iphone, after, hrs, tweet...</td>\n",
       "    </tr>\n",
       "    <tr>\n",
       "      <th>1</th>\n",
       "      <td>@jessedee know about @fludapp ? awesome ipad/i...</td>\n",
       "      <td>iPad or iPhone App</td>\n",
       "      <td>Positive emotion</td>\n",
       "      <td>[jessedee, know, about, fludapp, awesome, ipad...</td>\n",
       "    </tr>\n",
       "    <tr>\n",
       "      <th>2</th>\n",
       "      <td>@swonderlin can not wait for #ipad 2 also. the...</td>\n",
       "      <td>iPad</td>\n",
       "      <td>Positive emotion</td>\n",
       "      <td>[swonderlin, can, not, wait, for, ipad, also, ...</td>\n",
       "    </tr>\n",
       "    <tr>\n",
       "      <th>3</th>\n",
       "      <td>@sxsw i hope this year's festival isn't as cra...</td>\n",
       "      <td>iPad or iPhone App</td>\n",
       "      <td>Negative emotion</td>\n",
       "      <td>[sxsw, hope, this, year, festival, isn, as, cr...</td>\n",
       "    </tr>\n",
       "    <tr>\n",
       "      <th>4</th>\n",
       "      <td>@sxtxstate great stuff on fri #sxsw: marissa m...</td>\n",
       "      <td>Google</td>\n",
       "      <td>Positive emotion</td>\n",
       "      <td>[sxtxstate, great, stuff, on, fri, sxsw, maris...</td>\n",
       "    </tr>\n",
       "  </tbody>\n",
       "</table>\n",
       "</div>"
      ],
      "text/plain": [
       "                                              tweets            products  \\\n",
       "0  .@wesley83 i have a 3g iphone. after 3 hrs twe...              iPhone   \n",
       "1  @jessedee know about @fludapp ? awesome ipad/i...  iPad or iPhone App   \n",
       "2  @swonderlin can not wait for #ipad 2 also. the...                iPad   \n",
       "3  @sxsw i hope this year's festival isn't as cra...  iPad or iPhone App   \n",
       "4  @sxtxstate great stuff on fri #sxsw: marissa m...              Google   \n",
       "\n",
       "            emotion                                   tweets_tokenized  \n",
       "0  Negative emotion  [wesley83, have, 3g, iphone, after, hrs, tweet...  \n",
       "1  Positive emotion  [jessedee, know, about, fludapp, awesome, ipad...  \n",
       "2  Positive emotion  [swonderlin, can, not, wait, for, ipad, also, ...  \n",
       "3  Negative emotion  [sxsw, hope, this, year, festival, isn, as, cr...  \n",
       "4  Positive emotion  [sxtxstate, great, stuff, on, fri, sxsw, maris...  "
      ]
     },
     "execution_count": 14,
     "metadata": {},
     "output_type": "execute_result"
    }
   ],
   "source": [
    "#Token pattern\n",
    "basic_token_pattern = r\"(?u)\\b\\w\\w+\\b\"\n",
    "\n",
    "#Tokenizer variable\n",
    "tokenizer = RegexpTokenizer(basic_token_pattern)\n",
    "\n",
    "#Apply tokenizer\n",
    "df[\"tweets_tokenized\"] = df[\"tweets\"].apply(tokenizer.tokenize)\n",
    "\n",
    "#Preview change\n",
    "df.head()"
   ]
  },
  {
   "cell_type": "code",
   "execution_count": 15,
   "metadata": {
    "colab": {
     "base_uri": "https://localhost:8080/",
     "height": 355
    },
    "id": "3JVYgWkxTaDn",
    "outputId": "cc411fb9-a07c-4634-f54e-dee62a1ede46",
    "scrolled": false
   },
   "outputs": [
    {
     "data": {
      "image/png": "[encoded data removed]",
      "text/plain": [
       "<Figure size 1584x360 with 3 Axes>"
      ]
     },
     "metadata": {
      "needs_background": "light"
     },
     "output_type": "display_data"
    }
   ],
   "source": [
    "#Function to plot Top 10 tokens by emotion\n",
    "def plot_frequency_by_emotion(dataframe):\n",
    "    # Tokenize words in the 'tweets_tokenized' column and creating a list of all tokens\n",
    "    all_tokens = [token for tweet in df['tweets_tokenized'] for token in tweet]\n",
    "\n",
    "    # Calculate frequency distribution for all tokens\n",
    "    all_tokens_freq = FreqDist(all_tokens)\n",
    "\n",
    "    # Set up subplots for each emotion category\n",
    "    fig, axes = plt.subplots(1, 3, figsize=(22,5))\n",
    "\n",
    "    # Plot frequency distribution for each category\n",
    "    for index, emotion in enumerate(df['emotion'].unique()):\n",
    "        # Filter dataframe by emotion category and tokenizing words\n",
    "        category_tokens = [token for tweet in df[df['emotion'] == emotion]['tweets_tokenized'] for token in tweet]\n",
    "\n",
    "        # Calculate frequency distribution for this category\n",
    "        category_tokens_freq = FreqDist(category_tokens)\n",
    "\n",
    "        # Get top 10 most common tokens and their counts\n",
    "        top_10_tokens = [token[0] for token in category_tokens_freq.most_common(10)]\n",
    "        top_10_counts = [token[1] for token in category_tokens_freq.most_common(10)]\n",
    "\n",
    "        # Plot bar chart of top 10 tokens and their counts\n",
    "        ax = axes[index]\n",
    "        ax.bar(top_10_tokens, top_10_counts)\n",
    "        ax.set_title(emotion)\n",
    "        ax.set_xlabel('Word')\n",
    "        ax.set_ylabel('Frequency')\n",
    "\n",
    "    plt.suptitle('Top 10 Words by Emotion Category')\n",
    "    plt.show()\n",
    "\n",
    "plot_frequency_by_emotion(df)\n"
   ]
  },
  {
   "cell_type": "markdown",
   "metadata": {
    "id": "73eX-tlDn68c"
   },
   "source": [
    "Informative! It seems that these tweets were potentially collected during a South by Southwest conference.. There looks to be significant overlap in these top 10 terms and there are stopwords that I will eventually remove.  "
   ]
  },
  {
   "cell_type": "markdown",
   "metadata": {
    "id": "D-usXOVMt9sw"
   },
   "source": [
    "###Build and Evaluate a Baseline Model"
   ]
  },
  {
   "cell_type": "code",
   "execution_count": 16,
   "metadata": {
    "id": "OdJH_DAGTaDn"
   },
   "outputs": [],
   "source": [
    "X = pd.DataFrame(data=df.tweets)\n",
    "y = df.emotion\n",
    "\n",
    "# Split data into training and testing sets\n",
    "X_train, X_test, y_train, y_test = train_test_split(X, y, test_size=0.2, random_state=42)"
   ]
  },
  {
   "cell_type": "code",
   "execution_count": 17,
   "metadata": {
    "id": "jtCur5UaTaDn"
   },
   "outputs": [],
   "source": [
    "# Instantiate a vectorizer with max_features=10\n",
    "# (we are using the default token pattern)\n",
    "tfidf = TfidfVectorizer(max_features=10)\n",
    "\n",
    "# Fit the vectorizer on X_train[\"text\"] and transform it\n",
    "X_train_vectorized = tfidf.fit_transform(X_train[\"tweets\"])\n"
   ]
  },
  {
   "cell_type": "code",
   "execution_count": 18,
   "metadata": {
    "id": "jnZ3PTPVTaDn"
   },
   "outputs": [],
   "source": [
    "# We should still have the same number of rows\n",
    "assert X_train_vectorized.shape[0] == X_train.shape[0]\n",
    "\n",
    "# The vectorized version should have 10 columns, since we set\n",
    "# max_features=10\n",
    "assert X_train_vectorized.shape[1] == 10"
   ]
  },
  {
   "cell_type": "code",
   "execution_count": 19,
   "metadata": {
    "colab": {
     "base_uri": "https://localhost:8080/"
    },
    "id": "6Sbbla3ETaDo",
    "outputId": "5f8a3e3e-1539-4a12-ff28-5a89f722a9f0"
   },
   "outputs": [
    {
     "data": {
      "text/plain": [
       "array([0.60364146, 0.60406447, 0.60406447, 0.6033637 , 0.6033637 ])"
      ]
     },
     "execution_count": 19,
     "metadata": {},
     "output_type": "execute_result"
    }
   ],
   "source": [
    "# Instantiate a MultinomialNB classifier\n",
    "baseline_model = MultinomialNB()\n",
    "\n",
    "# Evaluate the classifier on X_train_vectorized and y_train\n",
    "baseline_cv = cross_val_score(baseline_model, X_train_vectorized, y_train)\n",
    "baseline_cv"
   ]
  },
  {
   "cell_type": "code",
   "execution_count": 20,
   "metadata": {
    "colab": {
     "base_uri": "https://localhost:8080/"
    },
    "id": "iT0gnL36dFQk",
    "outputId": "f15cc9d0-3f82-4689-8f6e-03755bb1bb49"
   },
   "outputs": [
    {
     "data": {
      "text/plain": [
       "No emotion toward brand or product    0.603700\n",
       "Positive emotion                      0.335342\n",
       "Negative emotion                      0.060959\n",
       "Name: emotion, dtype: float64"
      ]
     },
     "execution_count": 20,
     "metadata": {},
     "output_type": "execute_result"
    }
   ],
   "source": [
    "#Comparing the above cv with the class balance\n",
    "y_train.value_counts(normalize=True)"
   ]
  },
  {
   "cell_type": "markdown",
   "metadata": {
    "id": "u6NvcBo3uhRi"
   },
   "source": [
    "If we were to guess the plurality every time, \"No emotion,\" we could expect a 60.37% accuracy.  So right now this model is actually a reduction in accuracy at an average of 60.36%.\n",
    "\n",
    "Let's see if removing stopwords helps."
   ]
  },
  {
   "cell_type": "markdown",
   "metadata": {
    "id": "hZNMbx5y4vL_"
   },
   "source": [
    "###Build a Second Model without Stopwords"
   ]
  },
  {
   "cell_type": "code",
   "execution_count": 21,
   "metadata": {
    "id": "aU5fqcrsTaDo"
   },
   "outputs": [],
   "source": [
    "#Download stopwords\n",
    "nltk.download('stopwords', quiet=True)\n",
    "\n",
    "stopwords_list = stopwords.words('english')"
   ]
  },
  {
   "cell_type": "code",
   "execution_count": 22,
   "metadata": {
    "id": "RPE5hbd1TaDo"
   },
   "outputs": [],
   "source": [
    "#Function to remove stopwords\n",
    "def remove_stopwords(token_list):\n",
    "    \"\"\"\n",
    "    Given a list of tokens, return a list where the tokens\n",
    "    that are also present in stopwords_list have been\n",
    "    removed\n",
    "    \"\"\"\n",
    "    stopwords_removed = [token for token in token_list if token not in stopwords_list]\n",
    "    return stopwords_removed"
   ]
  },
  {
   "cell_type": "code",
   "execution_count": 23,
   "metadata": {
    "colab": {
     "base_uri": "https://localhost:8080/",
     "height": 206
    },
    "id": "YSHxylJMTaDo",
    "outputId": "35c15d2d-103a-4f26-df19-9c8e9e9a7c98",
    "scrolled": true
   },
   "outputs": [
    {
     "data": {
      "text/html": [
       "<div>\n",
       "<style scoped>\n",
       "    .dataframe tbody tr th:only-of-type {\n",
       "        vertical-align: middle;\n",
       "    }\n",
       "\n",
       "    .dataframe tbody tr th {\n",
       "        vertical-align: top;\n",
       "    }\n",
       "\n",
       "    .dataframe thead th {\n",
       "        text-align: right;\n",
       "    }\n",
       "</style>\n",
       "<table border=\"1\" class=\"dataframe\">\n",
       "  <thead>\n",
       "    <tr style=\"text-align: right;\">\n",
       "      <th></th>\n",
       "      <th>tweets</th>\n",
       "      <th>products</th>\n",
       "      <th>emotion</th>\n",
       "      <th>tweets_tokenized</th>\n",
       "    </tr>\n",
       "  </thead>\n",
       "  <tbody>\n",
       "    <tr>\n",
       "      <th>0</th>\n",
       "      <td>.@wesley83 i have a 3g iphone. after 3 hrs twe...</td>\n",
       "      <td>iPhone</td>\n",
       "      <td>Negative emotion</td>\n",
       "      <td>[wesley83, 3g, iphone, hrs, tweeting, rise_aus...</td>\n",
       "    </tr>\n",
       "    <tr>\n",
       "      <th>1</th>\n",
       "      <td>@jessedee know about @fludapp ? awesome ipad/i...</td>\n",
       "      <td>iPad or iPhone App</td>\n",
       "      <td>Positive emotion</td>\n",
       "      <td>[jessedee, know, fludapp, awesome, ipad, iphon...</td>\n",
       "    </tr>\n",
       "    <tr>\n",
       "      <th>2</th>\n",
       "      <td>@swonderlin can not wait for #ipad 2 also. the...</td>\n",
       "      <td>iPad</td>\n",
       "      <td>Positive emotion</td>\n",
       "      <td>[swonderlin, wait, ipad, also, sale, sxsw]</td>\n",
       "    </tr>\n",
       "    <tr>\n",
       "      <th>3</th>\n",
       "      <td>@sxsw i hope this year's festival isn't as cra...</td>\n",
       "      <td>iPad or iPhone App</td>\n",
       "      <td>Negative emotion</td>\n",
       "      <td>[sxsw, hope, year, festival, crashy, year, iph...</td>\n",
       "    </tr>\n",
       "    <tr>\n",
       "      <th>4</th>\n",
       "      <td>@sxtxstate great stuff on fri #sxsw: marissa m...</td>\n",
       "      <td>Google</td>\n",
       "      <td>Positive emotion</td>\n",
       "      <td>[sxtxstate, great, stuff, fri, sxsw, marissa, ...</td>\n",
       "    </tr>\n",
       "  </tbody>\n",
       "</table>\n",
       "</div>"
      ],
      "text/plain": [
       "                                              tweets            products  \\\n",
       "0  .@wesley83 i have a 3g iphone. after 3 hrs twe...              iPhone   \n",
       "1  @jessedee know about @fludapp ? awesome ipad/i...  iPad or iPhone App   \n",
       "2  @swonderlin can not wait for #ipad 2 also. the...                iPad   \n",
       "3  @sxsw i hope this year's festival isn't as cra...  iPad or iPhone App   \n",
       "4  @sxtxstate great stuff on fri #sxsw: marissa m...              Google   \n",
       "\n",
       "            emotion                                   tweets_tokenized  \n",
       "0  Negative emotion  [wesley83, 3g, iphone, hrs, tweeting, rise_aus...  \n",
       "1  Positive emotion  [jessedee, know, fludapp, awesome, ipad, iphon...  \n",
       "2  Positive emotion         [swonderlin, wait, ipad, also, sale, sxsw]  \n",
       "3  Negative emotion  [sxsw, hope, year, festival, crashy, year, iph...  \n",
       "4  Positive emotion  [sxtxstate, great, stuff, fri, sxsw, marissa, ...  "
      ]
     },
     "execution_count": 23,
     "metadata": {},
     "output_type": "execute_result"
    }
   ],
   "source": [
    "#Remove stopwords from tweets_tokenized\n",
    "df.tweets_tokenized = df.tweets_tokenized.apply(remove_stopwords)\n",
    "df.head()"
   ]
  },
  {
   "cell_type": "code",
   "execution_count": 24,
   "metadata": {
    "colab": {
     "base_uri": "https://localhost:8080/",
     "height": 355
    },
    "id": "jdVTdg9sTaDo",
    "outputId": "c89ea5a6-a662-449d-bf3c-2ab379538417",
    "scrolled": false
   },
   "outputs": [
    {
     "data": {
      "image/png": "[encoded data removed]",
      "text/plain": [
       "<Figure size 1584x360 with 3 Axes>"
      ]
     },
     "metadata": {
      "needs_background": "light"
     },
     "output_type": "display_data"
    }
   ],
   "source": [
    "#Visualize token frequency by emotion without stopwords\n",
    "plot_frequency_by_emotion(df)"
   ]
  },
  {
   "cell_type": "markdown",
   "metadata": {
    "id": "vZ-TAjQxTaDo"
   },
   "source": [
    "So the stopwords have been removed, great!  There still seems to be significant overlap between the words in each category, for example the words sxsw, mention, ipad, apple, iphone, google, link, rt, and quot are found in all three, and 'store' is found in two out of the three.  Since these terms are so common among all three, they may not be particularly useful for the model to distiguish between these three categories.  Before iterating our next model, I will remove them.  "
   ]
  },
  {
   "cell_type": "code",
   "execution_count": 25,
   "metadata": {
    "colab": {
     "base_uri": "https://localhost:8080/"
    },
    "id": "19KA3xu9TaDo",
    "outputId": "8c1d360c-3680-4465-ad7c-1cf418738417",
    "scrolled": false
   },
   "outputs": [
    {
     "name": "stdout",
     "output_type": "stream",
     "text": [
      "Original list length: 179\n",
      "List length after adding 'for': 190\n"
     ]
    }
   ],
   "source": [
    "#Confirm length of stopword list\n",
    "print(\"Original list length:\", len(stopwords_list))\n",
    "\n",
    "#Add new words\n",
    "new_words = ['sxsw', 'mention', 'ipad', 'quot', 'iphone', 'google', 'rt', 'apple', 'link', 'quot', 'store']\n",
    "stopwords_list.extend(new_words)\n",
    "\n",
    "#Verify new length of stopword list\n",
    "print(\"List length after adding 'for':\", len(stopwords_list))"
   ]
  },
  {
   "cell_type": "code",
   "execution_count": 26,
   "metadata": {
    "id": "AROUfBXI1hD_"
   },
   "outputs": [],
   "source": [
    "#Apply stopwords removal\n",
    "df.tweets_tokenized = df.tweets_tokenized.apply(remove_stopwords)"
   ]
  },
  {
   "cell_type": "markdown",
   "metadata": {
    "id": "-x-J5tuqt1wV"
   },
   "source": [
    "Let's update the dataframe with the appended list and see the frequency distribution."
   ]
  },
  {
   "cell_type": "code",
   "execution_count": 27,
   "metadata": {
    "colab": {
     "base_uri": "https://localhost:8080/",
     "height": 357
    },
    "id": "TLWB7dUVti-H",
    "outputId": "b2aebf89-e978-430c-f33f-18a4d68b4f01"
   },
   "outputs": [
    {
     "data": {
      "image/png": "[encoded data removed]",
      "text/plain": [
       "<Figure size 1584x360 with 3 Axes>"
      ]
     },
     "metadata": {
      "needs_background": "light"
     },
     "output_type": "display_data"
    }
   ],
   "source": [
    "#Visualize token frequency by emotion with new stopwords\n",
    "plot_frequency_by_emotion(df)"
   ]
  },
  {
   "cell_type": "markdown",
   "metadata": {
    "id": "3EWMCCnerKSC"
   },
   "source": [
    "This is useful for me, but perhaps less useful as a visualization for a stakeholder, so let's make one with a few less terms. "
   ]
  },
  {
   "cell_type": "code",
   "execution_count": 28,
   "metadata": {
    "colab": {
     "base_uri": "https://localhost:8080/",
     "height": 357
    },
    "id": "9Pc5e7gmVRYe",
    "outputId": "ddcc6036-0a8b-4556-e268-71d79090e75a"
   },
   "outputs": [
    {
     "data": {
      "image/png": "[encoded data removed]",
      "text/plain": [
       "<Figure size 1584x360 with 3 Axes>"
      ]
     },
     "metadata": {
      "needs_background": "light"
     },
     "output_type": "display_data"
    }
   ],
   "source": [
    "#Function to plot Top 5 tokens by emotion\n",
    "def plot_frequency5_by_emotion(dataframe):\n",
    "    # Tokenize words in the 'tweets_tokenized' column and creating a list of all tokens\n",
    "    all_tokens = [token for tweet in df['tweets_tokenized'] for token in tweet]\n",
    "\n",
    "    # Calculate frequency distribution for all tokens\n",
    "    all_tokens_freq = FreqDist(all_tokens)\n",
    "\n",
    "    # Set up subplots for each emotion category\n",
    "    fig, axes = plt.subplots(1, 3, figsize=(22,5))\n",
    "\n",
    "    # Plot frequency distribution for each category\n",
    "    for index, emotion in enumerate(df['emotion'].unique()):\n",
    "        # Filter dataframe by emotion category and tokenizing words\n",
    "        category_tokens = [token for tweet in df[df['emotion'] == emotion]['tweets_tokenized'] for token in tweet]\n",
    "\n",
    "        # Calculate frequency distribution for this category\n",
    "        category_tokens_freq = FreqDist(category_tokens)\n",
    "\n",
    "        # Get top 3 most common tokens and their counts\n",
    "        top_5_tokens = [token[0] for token in category_tokens_freq.most_common(5)]\n",
    "        top_5_counts = [token[1] for token in category_tokens_freq.most_common(5)]\n",
    "\n",
    "        # Plot bar chart of top 10 tokens and their counts\n",
    "        ax = axes[index]\n",
    "        ax.bar(top_5_tokens, top_5_counts)\n",
    "        ax.set_title(emotion)\n",
    "        ax.set_xlabel('Word')\n",
    "        ax.set_ylabel('Frequency')\n",
    "\n",
    "    plt.suptitle('Top 5 Words by Emotion Category')\n",
    "    plt.show()\n",
    "\n",
    "plot_frequency5_by_emotion(df)"
   ]
  },
  {
   "cell_type": "markdown",
   "metadata": {
    "id": "D3uvqgOLt7bm"
   },
   "source": [
    "Ok, that removed much of our original top 10, but it looks like there is still some significant overlap.  The words app, new, and austin are in three of the top 10, while social, amp, circles, launch, pop, and android are in two.  Let's move ahead and see how this first change affects the accuracy of our model. "
   ]
  },
  {
   "cell_type": "code",
   "execution_count": 29,
   "metadata": {
    "id": "nDxQuUDXdfOd"
   },
   "outputs": [],
   "source": [
    "# Instantiate the vectorizer\n",
    "tfidf = TfidfVectorizer(\n",
    "    max_features=10,\n",
    "    stop_words=stopwords_list\n",
    ")\n",
    "\n",
    "# Instantiate a MultinomialNB classifier\n",
    "second_model = MultinomialNB()\n",
    "\n",
    "# Fit the vectorizer on X_train and transform it\n",
    "X_train_vectorized = tfidf.fit_transform(X_train[\"tweets\"])"
   ]
  },
  {
   "cell_type": "code",
   "execution_count": 30,
   "metadata": {
    "colab": {
     "base_uri": "https://localhost:8080/"
    },
    "id": "gPIen6bfdkl5",
    "outputId": "ab04c896-ad85-411d-b9df-644440772476"
   },
   "outputs": [
    {
     "data": {
      "text/plain": [
       "array([0.59803922, 0.61667835, 0.6152768 , 0.61387526, 0.60406447])"
      ]
     },
     "execution_count": 30,
     "metadata": {},
     "output_type": "execute_result"
    }
   ],
   "source": [
    "# Evaluate the classifier on X_train_vectorized and y_train\n",
    "stopwords_removed_cv = cross_val_score(second_model, X_train_vectorized, y_train)\n",
    "stopwords_removed_cv"
   ]
  },
  {
   "cell_type": "code",
   "execution_count": 31,
   "metadata": {
    "colab": {
     "base_uri": "https://localhost:8080/"
    },
    "id": "e7iadMY8ptLW",
    "outputId": "510eae72-26e6-42dc-bd2d-03661ee74781"
   },
   "outputs": [
    {
     "name": "stdout",
     "output_type": "stream",
     "text": [
      "Baseline:          0.6036995597117614\n",
      "Stopwords removed: 0.6095868200118169\n"
     ]
    }
   ],
   "source": [
    "#Compare original model to new model\n",
    "print(\"Baseline:         \", baseline_cv.mean())\n",
    "print(\"Stopwords removed:\", stopwords_removed_cv.mean())"
   ]
  },
  {
   "cell_type": "markdown",
   "metadata": {
    "id": "jjmpUuKJtRd1"
   },
   "source": [
    "The slightest improvement.  Rather than keep adding to the stopword list, let's see if stemming helps the model improve."
   ]
  },
  {
   "cell_type": "markdown",
   "metadata": {
    "id": "Mrj33PXs4-aq"
   },
   "source": [
    "### Build a Third Model with Stemmer"
   ]
  },
  {
   "cell_type": "code",
   "execution_count": 32,
   "metadata": {
    "id": "XfYIN4t_wDMO"
   },
   "outputs": [],
   "source": [
    "#Stemmer variable\n",
    "stemmer = SnowballStemmer(language=\"english\")\n",
    "\n",
    "#Stemmer function\n",
    "def stem_and_tokenize(document):\n",
    "    tokens = tokenizer.tokenize(document)\n",
    "    return [stemmer.stem(token) for token in tokens]"
   ]
  },
  {
   "cell_type": "markdown",
   "metadata": {
    "id": "8OW_yPO1wZyS"
   },
   "source": [
    "I also need to stem the stopwords"
   ]
  },
  {
   "cell_type": "code",
   "execution_count": 33,
   "metadata": {
    "id": "e4o4t-VSwOp5"
   },
   "outputs": [],
   "source": [
    "#Stem stopwords\n",
    "stemmed_stopwords = [stemmer.stem(word) for word in stopwords_list]"
   ]
  },
  {
   "cell_type": "code",
   "execution_count": 34,
   "metadata": {
    "colab": {
     "base_uri": "https://localhost:8080/"
    },
    "id": "1jqcVTvwxMJJ",
    "outputId": "14cc3fbd-2db2-43a0-857b-05cf2c93d322"
   },
   "outputs": [],
   "source": [
    "# Instantiate the vectorizer\n",
    "tfidf = TfidfVectorizer(\n",
    "    max_features=10,\n",
    "    stop_words=stemmed_stopwords,\n",
    "    tokenizer=stem_and_tokenize\n",
    ")\n",
    "\n",
    "# Instantiate a MultinomialNB classifier\n",
    "third_model = MultinomialNB()\n",
    "\n",
    "# Fit the vectorizer on X_train[\"text\"] and transform it\n",
    "X_train_vectorized = tfidf.fit_transform(X_train[\"tweets\"])"
   ]
  },
  {
   "cell_type": "code",
   "execution_count": 35,
   "metadata": {
    "colab": {
     "base_uri": "https://localhost:8080/"
    },
    "id": "YRdPpgwmxUUA",
    "outputId": "dd2eacd2-3d22-4274-e429-3f96f3876c88"
   },
   "outputs": [
    {
     "data": {
      "text/plain": [
       "array([0.60084034, 0.61457603, 0.61247372, 0.60967064, 0.60546601])"
      ]
     },
     "execution_count": 35,
     "metadata": {},
     "output_type": "execute_result"
    }
   ],
   "source": [
    "# Evaluate the classifier on X_train_vectorized and y_train\n",
    "stemmed_cv = cross_val_score(third_model, X_train_vectorized, y_train)\n",
    "stemmed_cv"
   ]
  },
  {
   "cell_type": "code",
   "execution_count": 36,
   "metadata": {
    "colab": {
     "base_uri": "https://localhost:8080/"
    },
    "id": "j_RXqRcsxW7x",
    "outputId": "0c43388d-316e-45b1-9aba-d875dc1e8ff5"
   },
   "outputs": [
    {
     "name": "stdout",
     "output_type": "stream",
     "text": [
      "Stopwords removed: 0.6095868200118169\n",
      "Stemmed:           0.6086053482360008\n"
     ]
    }
   ],
   "source": [
    "#Compare best model with stemmer addition\n",
    "print(\"Stopwords removed:\", stopwords_removed_cv.mean())\n",
    "print(\"Stemmed:          \", stemmed_cv.mean())"
   ]
  },
  {
   "cell_type": "markdown",
   "metadata": {
    "id": "rfprFXRnxqjy"
   },
   "source": [
    "An ever so slightly worse model. So the best model so far is removing the stop words (with the additional stop words appended)."
   ]
  },
  {
   "cell_type": "markdown",
   "metadata": {
    "id": "Z7hd0artpPMF"
   },
   "source": [
    "### Pause in Modeling- Data Exploration"
   ]
  },
  {
   "cell_type": "markdown",
   "metadata": {
    "id": "oPpk8ETDpXuP"
   },
   "source": [
    "Now that we have started stemming, let's make another column with the stemmed words and explore what we find.  The analysis of the data from the tweets would be the next step after using the model to correctly predict and categorize the emotion class of new data, so let's see what this current data can tells us as a preview for future applications of our final model. "
   ]
  },
  {
   "cell_type": "code",
   "execution_count": 37,
   "metadata": {
    "id": "ZtB7qVU2ustm"
   },
   "outputs": [],
   "source": [
    "# define a function to apply the stemmer to each word in a list\n",
    "def stem_words(words):\n",
    "    stemmed_words = [stemmer.stem(word) for word in words]\n",
    "    return stemmed_words\n",
    "\n",
    "# apply the stem_words function to each list of words in the tweets_tokenized column\n",
    "df['tweets_stemmed'] = df['tweets_tokenized'].apply(lambda x: stem_words(x))"
   ]
  },
  {
   "cell_type": "code",
   "execution_count": 38,
   "metadata": {
    "colab": {
     "base_uri": "https://localhost:8080/",
     "height": 302
    },
    "id": "yQm3rQaHuu1L",
    "outputId": "32bd05e6-11f3-4ac1-84f4-77bb6d172186"
   },
   "outputs": [
    {
     "data": {
      "text/html": [
       "<div>\n",
       "<style scoped>\n",
       "    .dataframe tbody tr th:only-of-type {\n",
       "        vertical-align: middle;\n",
       "    }\n",
       "\n",
       "    .dataframe tbody tr th {\n",
       "        vertical-align: top;\n",
       "    }\n",
       "\n",
       "    .dataframe thead th {\n",
       "        text-align: right;\n",
       "    }\n",
       "</style>\n",
       "<table border=\"1\" class=\"dataframe\">\n",
       "  <thead>\n",
       "    <tr style=\"text-align: right;\">\n",
       "      <th></th>\n",
       "      <th>tweets</th>\n",
       "      <th>products</th>\n",
       "      <th>emotion</th>\n",
       "      <th>tweets_tokenized</th>\n",
       "      <th>tweets_stemmed</th>\n",
       "    </tr>\n",
       "  </thead>\n",
       "  <tbody>\n",
       "    <tr>\n",
       "      <th>0</th>\n",
       "      <td>.@wesley83 i have a 3g iphone. after 3 hrs twe...</td>\n",
       "      <td>iPhone</td>\n",
       "      <td>Negative emotion</td>\n",
       "      <td>[wesley83, 3g, hrs, tweeting, rise_austin, dea...</td>\n",
       "      <td>[wesley83, 3g, hrs, tweet, rise_austin, dead, ...</td>\n",
       "    </tr>\n",
       "    <tr>\n",
       "      <th>1</th>\n",
       "      <td>@jessedee know about @fludapp ? awesome ipad/i...</td>\n",
       "      <td>iPad or iPhone App</td>\n",
       "      <td>Positive emotion</td>\n",
       "      <td>[jessedee, know, fludapp, awesome, app, likely...</td>\n",
       "      <td>[jessede, know, fludapp, awesom, app, like, ap...</td>\n",
       "    </tr>\n",
       "    <tr>\n",
       "      <th>2</th>\n",
       "      <td>@swonderlin can not wait for #ipad 2 also. the...</td>\n",
       "      <td>iPad</td>\n",
       "      <td>Positive emotion</td>\n",
       "      <td>[swonderlin, wait, also, sale]</td>\n",
       "      <td>[swonderlin, wait, also, sale]</td>\n",
       "    </tr>\n",
       "    <tr>\n",
       "      <th>3</th>\n",
       "      <td>@sxsw i hope this year's festival isn't as cra...</td>\n",
       "      <td>iPad or iPhone App</td>\n",
       "      <td>Negative emotion</td>\n",
       "      <td>[hope, year, festival, crashy, year, app]</td>\n",
       "      <td>[hope, year, festiv, crashi, year, app]</td>\n",
       "    </tr>\n",
       "    <tr>\n",
       "      <th>4</th>\n",
       "      <td>@sxtxstate great stuff on fri #sxsw: marissa m...</td>\n",
       "      <td>Google</td>\n",
       "      <td>Positive emotion</td>\n",
       "      <td>[sxtxstate, great, stuff, fri, marissa, mayer,...</td>\n",
       "      <td>[sxtxstate, great, stuff, fri, marissa, mayer,...</td>\n",
       "    </tr>\n",
       "  </tbody>\n",
       "</table>\n",
       "</div>"
      ],
      "text/plain": [
       "                                              tweets            products  \\\n",
       "0  .@wesley83 i have a 3g iphone. after 3 hrs twe...              iPhone   \n",
       "1  @jessedee know about @fludapp ? awesome ipad/i...  iPad or iPhone App   \n",
       "2  @swonderlin can not wait for #ipad 2 also. the...                iPad   \n",
       "3  @sxsw i hope this year's festival isn't as cra...  iPad or iPhone App   \n",
       "4  @sxtxstate great stuff on fri #sxsw: marissa m...              Google   \n",
       "\n",
       "            emotion                                   tweets_tokenized  \\\n",
       "0  Negative emotion  [wesley83, 3g, hrs, tweeting, rise_austin, dea...   \n",
       "1  Positive emotion  [jessedee, know, fludapp, awesome, app, likely...   \n",
       "2  Positive emotion                     [swonderlin, wait, also, sale]   \n",
       "3  Negative emotion          [hope, year, festival, crashy, year, app]   \n",
       "4  Positive emotion  [sxtxstate, great, stuff, fri, marissa, mayer,...   \n",
       "\n",
       "                                      tweets_stemmed  \n",
       "0  [wesley83, 3g, hrs, tweet, rise_austin, dead, ...  \n",
       "1  [jessede, know, fludapp, awesom, app, like, ap...  \n",
       "2                     [swonderlin, wait, also, sale]  \n",
       "3            [hope, year, festiv, crashi, year, app]  \n",
       "4  [sxtxstate, great, stuff, fri, marissa, mayer,...  "
      ]
     },
     "execution_count": 38,
     "metadata": {},
     "output_type": "execute_result"
    }
   ],
   "source": [
    "df.head()"
   ]
  },
  {
   "cell_type": "markdown",
   "metadata": {
    "id": "W_Aql7dxuDcl"
   },
   "source": [
    "Now that we have the tokens stemmed in a column, let's redo our function for plotting the frequency of terms with this new tweets_stemmed column and see how that changes the results. "
   ]
  },
  {
   "cell_type": "code",
   "execution_count": 39,
   "metadata": {
    "colab": {
     "base_uri": "https://localhost:8080/",
     "height": 357
    },
    "id": "p24Bd8r4tp1E",
    "outputId": "55e262c1-4956-4e34-9d8e-515170a92a08"
   },
   "outputs": [
    {
     "data": {
      "image/png": "[encoded data removed]",
      "text/plain": [
       "<Figure size 1584x360 with 3 Axes>"
      ]
     },
     "metadata": {
      "needs_background": "light"
     },
     "output_type": "display_data"
    }
   ],
   "source": [
    "#Function to plot Top 5 tokens by emotion\n",
    "def plot_frequency5_by_emotion(dataframe):\n",
    "    # Tokenize words in the 'tweets_tokenized' column and creating a list of all tokens\n",
    "    all_tokens = [token for tweet in df['tweets_stemmed'] for token in tweet]\n",
    "\n",
    "    # Calculate frequency distribution for all tokens\n",
    "    all_tokens_freq = FreqDist(all_tokens)\n",
    "\n",
    "    # Set up subplots for each emotion category\n",
    "    fig, axes = plt.subplots(1, 3, figsize=(22,5))\n",
    "\n",
    "    # Plot frequency distribution for each category\n",
    "    for index, emotion in enumerate(df['emotion'].unique()):\n",
    "        # Filter dataframe by emotion category and tokenizing words\n",
    "        category_tokens = [token for tweet in df[df['emotion'] == emotion]['tweets_stemmed'] for token in tweet]\n",
    "\n",
    "        # Calculate frequency distribution for this category\n",
    "        category_tokens_freq = FreqDist(category_tokens)\n",
    "\n",
    "        # Get top 3 most common tokens and their counts\n",
    "        top_5_tokens = [token[0] for token in category_tokens_freq.most_common(5)]\n",
    "        top_5_counts = [token[1] for token in category_tokens_freq.most_common(5)]\n",
    "\n",
    "        # Plot bar chart of top 10 tokens and their counts\n",
    "        ax = axes[index]\n",
    "        ax.bar(top_5_tokens, top_5_counts)\n",
    "        ax.set_title(emotion)\n",
    "        ax.set_xlabel('Word')\n",
    "        ax.set_ylabel('Frequency')\n",
    "\n",
    "    plt.suptitle('Top 5 Words by Emotion Category')\n",
    "    plt.show()\n",
    "\n",
    "plot_frequency5_by_emotion(df)"
   ]
  },
  {
   "cell_type": "markdown",
   "metadata": {
    "id": "oppG0m21t3Sl"
   },
   "source": [
    "Interesting.  The top five terms are different once the tokens have been stemmed.  This is the visualization we will use for the presentation to the stakeholders. "
   ]
  },
  {
   "cell_type": "markdown",
   "metadata": {
    "id": "RDD6Q6dC7jhE"
   },
   "source": [
    "Recall that the words app, new, austin, and pop are high frequency in two. So note especially iPad2 is a frequent word in the the postivively-labelled tweets that is unique to the positive emotion class and is a product rather than a random word, so this could be interesting to explore.  \n",
    "\n",
    "Let's take a look at all the positive labeled tweets with the word iPad2 in them. Below is the most recent dataframe."
   ]
  },
  {
   "cell_type": "code",
   "execution_count": 40,
   "metadata": {
    "colab": {
     "base_uri": "https://localhost:8080/",
     "height": 302
    },
    "id": "V31-W91P981s",
    "outputId": "944886b0-4bc4-4759-e6d3-bf3975345cd0"
   },
   "outputs": [
    {
     "data": {
      "text/html": [
       "<div>\n",
       "<style scoped>\n",
       "    .dataframe tbody tr th:only-of-type {\n",
       "        vertical-align: middle;\n",
       "    }\n",
       "\n",
       "    .dataframe tbody tr th {\n",
       "        vertical-align: top;\n",
       "    }\n",
       "\n",
       "    .dataframe thead th {\n",
       "        text-align: right;\n",
       "    }\n",
       "</style>\n",
       "<table border=\"1\" class=\"dataframe\">\n",
       "  <thead>\n",
       "    <tr style=\"text-align: right;\">\n",
       "      <th></th>\n",
       "      <th>tweets</th>\n",
       "      <th>products</th>\n",
       "      <th>emotion</th>\n",
       "      <th>tweets_tokenized</th>\n",
       "      <th>tweets_stemmed</th>\n",
       "    </tr>\n",
       "  </thead>\n",
       "  <tbody>\n",
       "    <tr>\n",
       "      <th>0</th>\n",
       "      <td>.@wesley83 i have a 3g iphone. after 3 hrs twe...</td>\n",
       "      <td>iPhone</td>\n",
       "      <td>Negative emotion</td>\n",
       "      <td>[wesley83, 3g, hrs, tweeting, rise_austin, dea...</td>\n",
       "      <td>[wesley83, 3g, hrs, tweet, rise_austin, dead, ...</td>\n",
       "    </tr>\n",
       "    <tr>\n",
       "      <th>1</th>\n",
       "      <td>@jessedee know about @fludapp ? awesome ipad/i...</td>\n",
       "      <td>iPad or iPhone App</td>\n",
       "      <td>Positive emotion</td>\n",
       "      <td>[jessedee, know, fludapp, awesome, app, likely...</td>\n",
       "      <td>[jessede, know, fludapp, awesom, app, like, ap...</td>\n",
       "    </tr>\n",
       "    <tr>\n",
       "      <th>2</th>\n",
       "      <td>@swonderlin can not wait for #ipad 2 also. the...</td>\n",
       "      <td>iPad</td>\n",
       "      <td>Positive emotion</td>\n",
       "      <td>[swonderlin, wait, also, sale]</td>\n",
       "      <td>[swonderlin, wait, also, sale]</td>\n",
       "    </tr>\n",
       "    <tr>\n",
       "      <th>3</th>\n",
       "      <td>@sxsw i hope this year's festival isn't as cra...</td>\n",
       "      <td>iPad or iPhone App</td>\n",
       "      <td>Negative emotion</td>\n",
       "      <td>[hope, year, festival, crashy, year, app]</td>\n",
       "      <td>[hope, year, festiv, crashi, year, app]</td>\n",
       "    </tr>\n",
       "    <tr>\n",
       "      <th>4</th>\n",
       "      <td>@sxtxstate great stuff on fri #sxsw: marissa m...</td>\n",
       "      <td>Google</td>\n",
       "      <td>Positive emotion</td>\n",
       "      <td>[sxtxstate, great, stuff, fri, marissa, mayer,...</td>\n",
       "      <td>[sxtxstate, great, stuff, fri, marissa, mayer,...</td>\n",
       "    </tr>\n",
       "  </tbody>\n",
       "</table>\n",
       "</div>"
      ],
      "text/plain": [
       "                                              tweets            products  \\\n",
       "0  .@wesley83 i have a 3g iphone. after 3 hrs twe...              iPhone   \n",
       "1  @jessedee know about @fludapp ? awesome ipad/i...  iPad or iPhone App   \n",
       "2  @swonderlin can not wait for #ipad 2 also. the...                iPad   \n",
       "3  @sxsw i hope this year's festival isn't as cra...  iPad or iPhone App   \n",
       "4  @sxtxstate great stuff on fri #sxsw: marissa m...              Google   \n",
       "\n",
       "            emotion                                   tweets_tokenized  \\\n",
       "0  Negative emotion  [wesley83, 3g, hrs, tweeting, rise_austin, dea...   \n",
       "1  Positive emotion  [jessedee, know, fludapp, awesome, app, likely...   \n",
       "2  Positive emotion                     [swonderlin, wait, also, sale]   \n",
       "3  Negative emotion          [hope, year, festival, crashy, year, app]   \n",
       "4  Positive emotion  [sxtxstate, great, stuff, fri, marissa, mayer,...   \n",
       "\n",
       "                                      tweets_stemmed  \n",
       "0  [wesley83, 3g, hrs, tweet, rise_austin, dead, ...  \n",
       "1  [jessede, know, fludapp, awesom, app, like, ap...  \n",
       "2                     [swonderlin, wait, also, sale]  \n",
       "3            [hope, year, festiv, crashi, year, app]  \n",
       "4  [sxtxstate, great, stuff, fri, marissa, mayer,...  "
      ]
     },
     "execution_count": 40,
     "metadata": {},
     "output_type": "execute_result"
    }
   ],
   "source": [
    "#Preview data\n",
    "df.head()"
   ]
  },
  {
   "cell_type": "markdown",
   "metadata": {
    "id": "9qtk_nnTe6hd"
   },
   "source": [
    "Let's just look at the positive tweets that contained with word ipad2."
   ]
  },
  {
   "cell_type": "code",
   "execution_count": 41,
   "metadata": {
    "colab": {
     "base_uri": "https://localhost:8080/",
     "height": 337
    },
    "id": "8Q4TBXO89nui",
    "outputId": "88372959-3370-4cd6-f5b7-97266521f999"
   },
   "outputs": [
    {
     "data": {
      "text/html": [
       "<div>\n",
       "<style scoped>\n",
       "    .dataframe tbody tr th:only-of-type {\n",
       "        vertical-align: middle;\n",
       "    }\n",
       "\n",
       "    .dataframe tbody tr th {\n",
       "        vertical-align: top;\n",
       "    }\n",
       "\n",
       "    .dataframe thead th {\n",
       "        text-align: right;\n",
       "    }\n",
       "</style>\n",
       "<table border=\"1\" class=\"dataframe\">\n",
       "  <thead>\n",
       "    <tr style=\"text-align: right;\">\n",
       "      <th></th>\n",
       "      <th>tweets</th>\n",
       "      <th>products</th>\n",
       "      <th>emotion</th>\n",
       "      <th>tweets_tokenized</th>\n",
       "      <th>tweets_stemmed</th>\n",
       "    </tr>\n",
       "  </thead>\n",
       "  <tbody>\n",
       "    <tr>\n",
       "      <th>19</th>\n",
       "      <td>need to buy an ipad2 while i'm in austin at #s...</td>\n",
       "      <td>iPad</td>\n",
       "      <td>Positive emotion</td>\n",
       "      <td>[need, buy, ipad2, austin, sure, need, austin]</td>\n",
       "      <td>[need, buy, ipad2, austin, sure, need, austin]</td>\n",
       "    </tr>\n",
       "    <tr>\n",
       "      <th>35</th>\n",
       "      <td>the best!  rt @mention ha! first in line for #...</td>\n",
       "      <td>iPad</td>\n",
       "      <td>Positive emotion</td>\n",
       "      <td>[best, ha, first, line, ipad2, pop, event, pla...</td>\n",
       "      <td>[best, ha, first, line, ipad2, pop, event, pla...</td>\n",
       "    </tr>\n",
       "    <tr>\n",
       "      <th>39</th>\n",
       "      <td>@mention  - great weather to greet you for #sx...</td>\n",
       "      <td>Apple</td>\n",
       "      <td>Positive emotion</td>\n",
       "      <td>[great, weather, greet, still, need, sweater, ...</td>\n",
       "      <td>[great, weather, greet, still, need, sweater, ...</td>\n",
       "    </tr>\n",
       "    <tr>\n",
       "      <th>44</th>\n",
       "      <td>#ipad2 's ۷#smartcover۪ opens to instant acces...</td>\n",
       "      <td>iPad or iPhone App</td>\n",
       "      <td>Positive emotion</td>\n",
       "      <td>[ipad2, smartcover, opens, instant, access, wa...</td>\n",
       "      <td>[ipad2, smartcov, open, instant, access, wait,...</td>\n",
       "    </tr>\n",
       "    <tr>\n",
       "      <th>61</th>\n",
       "      <td>#omfg! rt @mention heard about apple's pop-up ...</td>\n",
       "      <td>Apple</td>\n",
       "      <td>Positive emotion</td>\n",
       "      <td>[omfg, heard, pop, downtown, austin, pics, alr...</td>\n",
       "      <td>[omfg, heard, pop, downtown, austin, pic, alre...</td>\n",
       "    </tr>\n",
       "  </tbody>\n",
       "</table>\n",
       "</div>"
      ],
      "text/plain": [
       "                                               tweets            products  \\\n",
       "19  need to buy an ipad2 while i'm in austin at #s...                iPad   \n",
       "35  the best!  rt @mention ha! first in line for #...                iPad   \n",
       "39  @mention  - great weather to greet you for #sx...               Apple   \n",
       "44  #ipad2 's ۷#smartcover۪ opens to instant acces...  iPad or iPhone App   \n",
       "61  #omfg! rt @mention heard about apple's pop-up ...               Apple   \n",
       "\n",
       "             emotion                                   tweets_tokenized  \\\n",
       "19  Positive emotion     [need, buy, ipad2, austin, sure, need, austin]   \n",
       "35  Positive emotion  [best, ha, first, line, ipad2, pop, event, pla...   \n",
       "39  Positive emotion  [great, weather, greet, still, need, sweater, ...   \n",
       "44  Positive emotion  [ipad2, smartcover, opens, instant, access, wa...   \n",
       "61  Positive emotion  [omfg, heard, pop, downtown, austin, pics, alr...   \n",
       "\n",
       "                                       tweets_stemmed  \n",
       "19     [need, buy, ipad2, austin, sure, need, austin]  \n",
       "35  [best, ha, first, line, ipad2, pop, event, pla...  \n",
       "39  [great, weather, greet, still, need, sweater, ...  \n",
       "44  [ipad2, smartcov, open, instant, access, wait,...  \n",
       "61  [omfg, heard, pop, downtown, austin, pic, alre...  "
      ]
     },
     "execution_count": 41,
     "metadata": {},
     "output_type": "execute_result"
    }
   ],
   "source": [
    "#Create new dataframe for positive tweets with ipad2 in them\n",
    "ipad2_df = df[(df['emotion'] == 'Positive emotion') & (df['tweets_stemmed'].apply(lambda x: 'ipad2' in x))]\n",
    "ipad2_df.head()"
   ]
  },
  {
   "cell_type": "markdown",
   "metadata": {
    "id": "fUDG0sE4m-Hv"
   },
   "source": [
    "Great, now we only have the positive tweets with the word ipad2 in it.  Let's create a visualization of the top words in these ipad2 tweets to narrow our focus."
   ]
  },
  {
   "cell_type": "code",
   "execution_count": 42,
   "metadata": {
    "colab": {
     "base_uri": "https://localhost:8080/",
     "height": 502
    },
    "id": "hP23emcjjvt5",
    "outputId": "a27c341c-1175-4f72-a0fa-ae401e4e2fdd"
   },
   "outputs": [
    {
     "data": {
      "image/png": "[encoded data removed]",
      "text/plain": [
       "<Figure size 432x288 with 1 Axes>"
      ]
     },
     "metadata": {
      "needs_background": "light"
     },
     "output_type": "display_data"
    }
   ],
   "source": [
    "ipad2_df = ipad2_df.copy()\n",
    "\n",
    "# join the lists of stemmed words into a single string\n",
    "ipad2_df['tweets_combined'] = ipad2_df['tweets_stemmed'].apply(lambda x: ' '.join(x))\n",
    "\n",
    "# create a CountVectorizer object\n",
    "vectorizer = CountVectorizer(stop_words=['ipad2'])\n",
    "\n",
    "# fit and transform the 'tweets_combined' column\n",
    "X = vectorizer.fit_transform(ipad2_df['tweets_combined'])\n",
    "\n",
    "# sum the counts across all tweets and sort the resulting array in descending order\n",
    "word_counts = X.sum(axis=0).tolist()[0]\n",
    "words = [word for word, index in sorted(vectorizer.vocabulary_.items(), key=lambda x: x[1])]\n",
    "word_counts, words = zip(*sorted(zip(word_counts, words), reverse=True))\n",
    "\n",
    "# create a bar chart of the top 5 words\n",
    "plt.bar(words[:5], word_counts[:5])\n",
    "plt.xticks(rotation=90)\n",
    "plt.xlabel('Words')\n",
    "plt.ylabel('Frequency')\n",
    "plt.title('Top 5 Words in iPad2 Tweets (Stemmed)')\n",
    "plt.show()"
   ]
  },
  {
   "cell_type": "markdown",
   "metadata": {
    "id": "wT52-QlvfMeI"
   },
   "source": [
    "Great. Recall that the words austin and pop are high frequency terms in the other thee emotion classes. Outside of these terms,  the term \"line\" is the highest frequency, so let's take a look at the kinds of tweets that contain it (along with stem ipad2, of course)"
   ]
  },
  {
   "cell_type": "code",
   "execution_count": 43,
   "metadata": {
    "colab": {
     "base_uri": "https://localhost:8080/"
    },
    "id": "582MHmu2AlC7",
    "outputId": "9d83db45-fe5f-4245-90df-77ad685e452a"
   },
   "outputs": [
    {
     "data": {
      "text/plain": [
       "35      the best!  rt @mention ha! first in line for #ipad2 at #sxsw &quot;pop-up&quot; apple store was an event planner #eventprofs #pcma #engage365\n",
       "185                                      it's like 10pm at night and there is a line around the block at the popup apple stores selling ipad2s. #sxsw\n",
       "304                         temporary apple store will be a block from my office! can't wait to see the line tomorrow. photos to come... #sxsw #ipad2\n",
       "349                               hey #sxsw attendees...you should hop in line at the #apple store now. only four days til your new ipad2 comes in...\n",
       "632                                      i've been having meetings while i'm in line at the #sxsw popup apple store for the ipad2. i love this place!\n",
       "1009                                                                         nice line outside #sxsw #apple store! i guess people want some ipad2s!!!\n",
       "1037                                                                     the apple pop-up store line finally dwindled. time to check out ipad2. #sxsw\n",
       "1277                                      expecting to see a flood of shiny new ipad2's today @mention line at apple store was around the block #sxsw\n",
       "1494             brilliant!! rt @mention i've been having meetings while i'm in line at the #sxsw popup apple store for the ipad2. i love this place!\n",
       "1666                                                           woohoo! ۏ@mention standing in line. for the 6th time. #ipad2 #apple #sxsw #popupstore۝\n",
       "2199                                                                     the line at the popup apple store is phenomenal. #sxsw #apple #ipad2  {link}\n",
       "2678        which line at #sxsw will be longer? 3/11 at the temp apple store for the ipad2? or 3/14 at the microsoft booth for ie9? [yeah, right!] :d\n",
       "2679                                                               short line at the apple pop up store in austin. 50-60 people. #ipad2  #sxsw {link}\n",
       "3250                               the line for the apple popup store at #sxsw stretches around the block...guess i won't be getting the ipad2 today!\n",
       "3253                                                     the line for the ipad2 at the pop up apple store has been outlandish the entire week.  #sxsw\n",
       "3437        a busdev guy come to #ipad2 line and ask where wr from, what we feel about ipad2, have o good discussion about iads #apple #crazyco #sxsw\n",
       "3603                  just bought an #ipad2 at the downtown austin apple store. 5 min wait in line to get in. salesperson darryl was excellent. #sxsw\n",
       "3753                                                                              standing in line. for the 6th time. #ipad2 #apple #sxsw #popupstore\n",
       "4092                                #ipad2 takes over #sxsw. the line was already halfway down the block around noon. craziness (via @mention  {link}\n",
       "4096                 i got turkey! rt @mention random apple fan just bought lunch for everyone in line at #sxsw popup apple store #ipad2 cc/ @mention\n",
       "4243                                          first in line @mention #sxsw @mention store for the #ipad2!! (@mention apple store, sxsw) [pic]: {link}\n",
       "4622                                                                                      whoa - line for ipad2 is 3blks long!!! #apple #austin #sxsw\n",
       "4816                                   seeing tons of ipad2s around. guess it just took that long to get through the #sxsw apple store line (@mention\n",
       "6164     rt @mention i got turkey! rt @mention random apple fan just bought lunch for everyone in line at #sxsw popup apple store #ipad2 cc/ @mention\n",
       "6242                                                                   rt @mention in line at the temp apple store at #sxsw!! gotto get the #ipad2 !!\n",
       "6545                                                              rt @mention over 300 people in line at apple store in downtown austin! #ipad2 #sxsw\n",
       "6864              rt @mention the ipad 2 is so thin, i could use it to cut lines of cocaine and then facetime with mel gibson. #winning. #ipad2 #sxsw\n",
       "6884                     @mention on the other hand, judging by the pop-up store constant line, apple and the ipad2 are clearly breaking out at #sxsw\n",
       "7270                                                           in line for the ipad2 - why not!! apple hype team just made the high-five run by #sxsw\n",
       "7410                                                                         anyone know what the line is like at the popup apple store? #sxsw #ipad2\n",
       "7692                                                     days later there's still a line out the door at the #sxsw apple store for the ipad2.  {link}\n",
       "7773                               apple store peeps come running, high-fiving all in line. open any sec? enuf for all us chumps? #sxsw #ipad2 {link}\n",
       "8442                                                                     in line at the apple store - about to loose my ipad virginity.  #sxsw #ipad2\n",
       "8450                                                                               in line at the temp apple store at #sxsw!! gotto get the #ipad2 !!\n",
       "8463                                      #imanidiot to wait in line for an #ipad2 during #sxsw. but will have one! @mention apple store, sxsw {link}\n",
       "Name: tweets, dtype: object"
      ]
     },
     "execution_count": 43,
     "metadata": {},
     "output_type": "execute_result"
    }
   ],
   "source": [
    "# filter the rows that contain the word 'white' in the 'tweets_stemmed' column\n",
    "line_df = ipad2_df[ipad2_df['tweets_stemmed'].apply(lambda x: any(['line' in word for word in x]))]\n",
    "\n",
    "# set the maximum column width to 1000 to see the entire tweet\n",
    "pd.options.display.max_colwidth = 1000\n",
    "\n",
    "# view the first five rows of the 'tweets' column of the 'white_tweets' dataframe\n",
    "line_df['tweets']"
   ]
  },
  {
   "cell_type": "markdown",
   "metadata": {
    "id": "_EB9LVduodHF"
   },
   "source": [
    "Interesting!  A cursory glance suggests that most of these tweets are about waiting in line and/or the size of the line to acquire the ipad2.  Customers are talking about the lines for the ipad2 in a positive way, and so not only does queuing up for a new release seem to generate positive publicity concerning the product itself, but also tracking tweets with the term \"line\" may help Google track the positive zeitgeist surrounding the release of a product.  \n",
    "\n",
    "For the purposes of this project, we will assume these have all been correctly labeled as \"Positive emtion,\" but there are several tweets where this label seems inaccurate.  Several tweets that mention the length of the line leave it ambiguous as to whether their tweet is meant to be a negative or positive comment. For example, take the following tweets:\n",
    "\n",
    "**ipad2 takes over #sxsw. the line was already halfway down the block around noon. craziness**\n",
    "\n",
    "**days later there's still a line out the door at the #sxsw apple store for the ipad2.**\n",
    "\n",
    "These do not necessarily read as positive tweets to me. \n",
    "\n",
    "Another tweet states: \n",
    "\n",
    "**the line for the apple popup store at #sxsw stretches around the block...guess i won't be getting the ipad2**\n",
    "\n",
    "This would seem to me to be a negative tweet.\n",
    "\n",
    "This was a informative avenue of exploration. A comprehensive analsysis of this sort does not fit the scope of this project, but let's look at these tweets in one other way to see if it produces anything fruitful.  Let's look at the top 3 products for each emotion class. "
   ]
  },
  {
   "cell_type": "code",
   "execution_count": 44,
   "metadata": {
    "id": "3ow5t9RGAAeV"
   },
   "outputs": [],
   "source": [
    "def plot_top_products(df, emotion):\n",
    "    # Group the dataframe by products and emotion columns to count the number of tweets for each product-emotion combination\n",
    "    count_df = df[df['emotion'] == emotion].groupby(['products']).size().reset_index(name='counts')\n",
    "    \n",
    "    # Get the top 3 products with the most tweets of the given emotion\n",
    "    top_products = count_df.nlargest(3, 'counts')\n",
    "    \n",
    "    # Plot the bar chart\n",
    "    plt.bar(top_products['products'], top_products['counts'])\n",
    "    plt.title(f'Top 3 products with the most {emotion.lower()} tweets')\n",
    "    plt.xlabel('Products')\n",
    "    plt.ylabel('Number of tweets')\n",
    "    plt.show()"
   ]
  },
  {
   "cell_type": "code",
   "execution_count": 45,
   "metadata": {
    "colab": {
     "base_uri": "https://localhost:8080/",
     "height": 1000
    },
    "id": "c6j76RQPABbb",
    "outputId": "e927d78f-1628-4f18-961c-9d09a813cc72"
   },
   "outputs": [
    {
     "data": {
      "image/png": "[encoded data removed]",
      "text/plain": [
       "<Figure size 432x288 with 1 Axes>"
      ]
     },
     "metadata": {
      "needs_background": "light"
     },
     "output_type": "display_data"
    },
    {
     "data": {
      "image/png": "[encoded data removed]",
      "text/plain": [
       "<Figure size 432x288 with 1 Axes>"
      ]
     },
     "metadata": {
      "needs_background": "light"
     },
     "output_type": "display_data"
    },
    {
     "data": {
      "image/png": "[encoded data removed]",
      "text/plain": [
       "<Figure size 432x288 with 1 Axes>"
      ]
     },
     "metadata": {
      "needs_background": "light"
     },
     "output_type": "display_data"
    }
   ],
   "source": [
    "# Plot the top 3 products with the most negative tweets\n",
    "plot_top_products(df, 'Negative emotion')\n",
    "\n",
    "# Plot the top 3 products with the most positive tweets\n",
    "plot_top_products(df, 'Positive emotion')\n",
    "\n",
    "# Plot the top 3 products with the most no emotion tweets\n",
    "plot_top_products(df, 'No emotion toward brand or product')"
   ]
  },
  {
   "cell_type": "markdown",
   "metadata": {
    "id": "7PF0are_8Epl"
   },
   "source": [
    "Also interesting.  The iPad is number 1 in all three Emotion Classes, and the product label Apple is found in all three Emotion Classes as well.  Let's take a look at the top words for each of these products in each of these emotion classes."
   ]
  },
  {
   "cell_type": "code",
   "execution_count": 46,
   "metadata": {
    "colab": {
     "base_uri": "https://localhost:8080/",
     "height": 1000
    },
    "id": "OxgXHMRWD8t1",
    "outputId": "8c54672c-c5b3-4823-e0ea-375e30aba9c1"
   },
   "outputs": [
    {
     "data": {
      "image/png": "[encoded data removed]",
      "text/plain": [
       "<Figure size 432x288 with 1 Axes>"
      ]
     },
     "metadata": {
      "needs_background": "light"
     },
     "output_type": "display_data"
    },
    {
     "data": {
      "image/png": "[encoded data removed]",
      "text/plain": [
       "<Figure size 432x288 with 1 Axes>"
      ]
     },
     "metadata": {
      "needs_background": "light"
     },
     "output_type": "display_data"
    },
    {
     "data": {
      "image/png": "[encoded data removed]",
      "text/plain": [
       "<Figure size 432x288 with 1 Axes>"
      ]
     },
     "metadata": {
      "needs_background": "light"
     },
     "output_type": "display_data"
    },
    {
     "data": {
      "image/png": "[encoded data removed]",
      "text/plain": [
       "<Figure size 432x288 with 1 Axes>"
      ]
     },
     "metadata": {
      "needs_background": "light"
     },
     "output_type": "display_data"
    },
    {
     "data": {
      "image/png": "[encoded data removed]",
      "text/plain": [
       "<Figure size 432x288 with 1 Axes>"
      ]
     },
     "metadata": {
      "needs_background": "light"
     },
     "output_type": "display_data"
    },
    {
     "data": {
      "image/png": "[encoded data removed]",
      "text/plain": [
       "<Figure size 432x288 with 1 Axes>"
      ]
     },
     "metadata": {
      "needs_background": "light"
     },
     "output_type": "display_data"
    },
    {
     "data": {
      "image/png": "[encoded data removed]",
      "text/plain": [
       "<Figure size 432x288 with 1 Axes>"
      ]
     },
     "metadata": {
      "needs_background": "light"
     },
     "output_type": "display_data"
    },
    {
     "data": {
      "image/png": "[encoded data removed]",
      "text/plain": [
       "<Figure size 432x288 with 1 Axes>"
      ]
     },
     "metadata": {
      "needs_background": "light"
     },
     "output_type": "display_data"
    },
    {
     "data": {
      "image/png": "[encoded data removed]",
      "text/plain": [
       "<Figure size 432x288 with 1 Axes>"
      ]
     },
     "metadata": {
      "needs_background": "light"
     },
     "output_type": "display_data"
    }
   ],
   "source": [
    "# Create a dictionary to map emotion codes to emotion labels\n",
    "emotion_map = {\n",
    "    'Negative emotion': 'negative',\n",
    "    'Positive emotion': 'positive',\n",
    "    'No emotion toward brand or product': 'no emotion'\n",
    "}\n",
    "\n",
    "# Define a function to get the top 10 stemmed words for a given product and emotion\n",
    "def get_top_words(df, product, emotion):\n",
    "    # Filter the dataframe to include only the given product and emotion\n",
    "    filtered_df = df[(df['products'] == product) & (df['emotion'] == emotion)]\n",
    "    # Concatenate all the stemmed words into a list\n",
    "    all_words = [word for tweet in filtered_df['tweets_stemmed'] for word in tweet]\n",
    "    # Count the frequency of each word\n",
    "    word_counts = pd.Series(all_words).value_counts()\n",
    "    # Get the top 10 words\n",
    "    top_words = word_counts.iloc[:10]\n",
    "    return top_words\n",
    "\n",
    "# Define a function to plot a bar chart for the top 10 stemmed words for a given product and emotion\n",
    "def plot_bar_chart(df, product, emotion):\n",
    "    # Get the top 10 stemmed words for the given product and emotion\n",
    "    top_words = get_top_words(df, product, emotion)\n",
    "    # Plot the bar chart\n",
    "    plt.barh(top_words.index, top_words.values)\n",
    "    plt.gca().invert_yaxis()\n",
    "    plt.title(f'Top 10 stemmed words for {emotion_map[emotion]} {product} tweets')\n",
    "    plt.xlabel('Frequency')\n",
    "    plt.ylabel('Words')\n",
    "    plt.show()\n",
    "\n",
    "# Call the plot_bar_chart function for each emotion and each of the top 3 products\n",
    "for emotion in emotion_map.keys():\n",
    "    top_products = df[df['emotion'] == emotion]['products'].value_counts().nlargest(3).index.tolist()\n",
    "    for product in top_products:\n",
    "        plot_bar_chart(df, product, emotion)"
   ]
  },
  {
   "cell_type": "markdown",
   "metadata": {
    "id": "Yit0UfouqyEk"
   },
   "source": [
    "Let's stick with the iPad for now and focus on the positive and negative word clouds, which may be more interesting to a stakeholder.  We see that iPad2 is large and present in the Top 10 words of the positive iPad tweets, as we already knew, but we also see iPad2 in the Top 10 words of the negative iPad tweets (though a smaller size).  The largest word in the negative iPad tweets looks like \"design.\"    \n",
    "\n",
    "Let's take a look at the iPad tweets in the negative emotion class that contain the word \"design.\"  "
   ]
  },
  {
   "cell_type": "code",
   "execution_count": 47,
   "metadata": {
    "colab": {
     "base_uri": "https://localhost:8080/",
     "height": 337
    },
    "id": "cuZ6Gx8NrmV4",
    "outputId": "85cb8a3d-51fa-46de-e4a9-92335b8f2217"
   },
   "outputs": [
    {
     "data": {
      "text/html": [
       "<div>\n",
       "<style scoped>\n",
       "    .dataframe tbody tr th:only-of-type {\n",
       "        vertical-align: middle;\n",
       "    }\n",
       "\n",
       "    .dataframe tbody tr th {\n",
       "        vertical-align: top;\n",
       "    }\n",
       "\n",
       "    .dataframe thead th {\n",
       "        text-align: right;\n",
       "    }\n",
       "</style>\n",
       "<table border=\"1\" class=\"dataframe\">\n",
       "  <thead>\n",
       "    <tr style=\"text-align: right;\">\n",
       "      <th></th>\n",
       "      <th>tweets</th>\n",
       "      <th>products</th>\n",
       "      <th>emotion</th>\n",
       "      <th>tweets_tokenized</th>\n",
       "      <th>tweets_stemmed</th>\n",
       "    </tr>\n",
       "  </thead>\n",
       "  <tbody>\n",
       "    <tr>\n",
       "      <th>66</th>\n",
       "      <td>attending @mention ipad design headaches #sxsw {link}</td>\n",
       "      <td>iPad</td>\n",
       "      <td>Negative emotion</td>\n",
       "      <td>[attending, design, headaches]</td>\n",
       "      <td>[attend, design, headach]</td>\n",
       "    </tr>\n",
       "    <tr>\n",
       "      <th>1788</th>\n",
       "      <td>at #sxsw #tapworthy ipad design headaches - avoiding the pitfalls of the new design challenges</td>\n",
       "      <td>iPad</td>\n",
       "      <td>Negative emotion</td>\n",
       "      <td>[tapworthy, design, headaches, avoiding, pitfalls, new, design, challenges]</td>\n",
       "      <td>[tapworthi, design, headach, avoid, pitfal, new, design, challeng]</td>\n",
       "    </tr>\n",
       "    <tr>\n",
       "      <th>1929</th>\n",
       "      <td>#sxsw: ipad design headaches (take two tablet and call me in the morning) {link}</td>\n",
       "      <td>iPad</td>\n",
       "      <td>Negative emotion</td>\n",
       "      <td>[design, headaches, take, two, tablet, call, morning]</td>\n",
       "      <td>[design, headach, take, two, tablet, call, morn]</td>\n",
       "    </tr>\n",
       "    <tr>\n",
       "      <th>2841</th>\n",
       "      <td>getting ready for &amp;quot;ipad design headaches&amp;quot; #sxsw</td>\n",
       "      <td>iPad</td>\n",
       "      <td>Negative emotion</td>\n",
       "      <td>[getting, ready, design, headaches]</td>\n",
       "      <td>[get, readi, design, headach]</td>\n",
       "    </tr>\n",
       "    <tr>\n",
       "      <th>3120</th>\n",
       "      <td>in ipad design headaches: take two tablets, call me in the am panel - excited to hear @mention live! #sxsw</td>\n",
       "      <td>iPad</td>\n",
       "      <td>Negative emotion</td>\n",
       "      <td>[design, headaches, take, two, tablets, call, panel, excited, hear, live]</td>\n",
       "      <td>[design, headach, take, two, tablet, call, panel, excit, hear, live]</td>\n",
       "    </tr>\n",
       "  </tbody>\n",
       "</table>\n",
       "</div>"
      ],
      "text/plain": [
       "                                                                                                          tweets  \\\n",
       "66                                                         attending @mention ipad design headaches #sxsw {link}   \n",
       "1788              at #sxsw #tapworthy ipad design headaches - avoiding the pitfalls of the new design challenges   \n",
       "1929                            #sxsw: ipad design headaches (take two tablet and call me in the morning) {link}   \n",
       "2841                                                   getting ready for &quot;ipad design headaches&quot; #sxsw   \n",
       "3120  in ipad design headaches: take two tablets, call me in the am panel - excited to hear @mention live! #sxsw   \n",
       "\n",
       "     products           emotion  \\\n",
       "66       iPad  Negative emotion   \n",
       "1788     iPad  Negative emotion   \n",
       "1929     iPad  Negative emotion   \n",
       "2841     iPad  Negative emotion   \n",
       "3120     iPad  Negative emotion   \n",
       "\n",
       "                                                                 tweets_tokenized  \\\n",
       "66                                                 [attending, design, headaches]   \n",
       "1788  [tapworthy, design, headaches, avoiding, pitfalls, new, design, challenges]   \n",
       "1929                        [design, headaches, take, two, tablet, call, morning]   \n",
       "2841                                          [getting, ready, design, headaches]   \n",
       "3120    [design, headaches, take, two, tablets, call, panel, excited, hear, live]   \n",
       "\n",
       "                                                            tweets_stemmed  \n",
       "66                                               [attend, design, headach]  \n",
       "1788    [tapworthi, design, headach, avoid, pitfal, new, design, challeng]  \n",
       "1929                      [design, headach, take, two, tablet, call, morn]  \n",
       "2841                                         [get, readi, design, headach]  \n",
       "3120  [design, headach, take, two, tablet, call, panel, excit, hear, live]  "
      ]
     },
     "execution_count": 47,
     "metadata": {},
     "output_type": "execute_result"
    }
   ],
   "source": [
    "#Create new dataframe for positive tweets with ipad2 in them\n",
    "ipad2_df2 = df[(df['emotion'] == 'Negative emotion') & (df['products'] == 'iPad') & (df['tweets_stemmed'].apply(lambda x: 'design' in x))]\n",
    "ipad2_df2.head()"
   ]
  },
  {
   "cell_type": "code",
   "execution_count": 48,
   "metadata": {
    "colab": {
     "base_uri": "https://localhost:8080/",
     "height": 524
    },
    "id": "UDWzmyYZrzzv",
    "outputId": "cf68b5c9-5c9b-4192-ca56-5996dba97e37"
   },
   "outputs": [
    {
     "data": {
      "image/png": "[encoded data removed]",
      "text/plain": [
       "<Figure size 432x288 with 1 Axes>"
      ]
     },
     "metadata": {
      "needs_background": "light"
     },
     "output_type": "display_data"
    }
   ],
   "source": [
    "# join the lists of stemmed words into a single string\n",
    "ipad2_df2 = ipad2_df2.copy()\n",
    "ipad2_df2['tweets_combined'] = ipad2_df2['tweets_stemmed'].apply(lambda x: ' '.join(x))\n",
    "\n",
    "# create a CountVectorizer object\n",
    "vectorizer = CountVectorizer(stop_words=['design'])\n",
    "\n",
    "# fit and transform the 'tweets_combined' column\n",
    "X = vectorizer.fit_transform(ipad2_df2['tweets_combined'])\n",
    "\n",
    "# sum the counts across all tweets and sort the resulting array in descending order\n",
    "word_counts = X.sum(axis=0).tolist()[0]\n",
    "words = [word for word, index in sorted(vectorizer.vocabulary_.items(), key=lambda x: x[1])]\n",
    "word_counts, words = zip(*sorted(zip(word_counts, words), reverse=True))\n",
    "\n",
    "# create a bar chart of the top 15 words\n",
    "plt.bar(words[:5], word_counts[:5])\n",
    "plt.xticks(rotation=90)\n",
    "plt.xlabel('Words')\n",
    "plt.ylabel('Frequency')\n",
    "plt.title('Top 5 Words with \"Design\" in Negative iPad Tweets (Stemmed)')\n",
    "plt.show()"
   ]
  },
  {
   "cell_type": "markdown",
   "metadata": {
    "id": "6YI7Zp3474vo"
   },
   "source": [
    "It looks like we're getting a warning because of the symbol in front of the word \"button.\"  Since there is only one instance of this word in this visualization of the top terms with \"design,\" let's ignore that for now and focus on the most common stem, \"headach.\"  Future iterations of this project may want to loop through the stemmed words to double-check if there are any other special characters elsewhere in the tweets_stemmed column.  "
   ]
  },
  {
   "cell_type": "code",
   "execution_count": 49,
   "metadata": {
    "colab": {
     "base_uri": "https://localhost:8080/"
    },
    "id": "L8P4JHO6r755",
    "outputId": "76e86b72-f70d-466c-9425-494de8a0e12d"
   },
   "outputs": [
    {
     "data": {
      "text/plain": [
       "66                                                                                     attending @mention ipad design headaches #sxsw {link}\n",
       "1788                                          at #sxsw #tapworthy ipad design headaches - avoiding the pitfalls of the new design challenges\n",
       "1929                                                        #sxsw: ipad design headaches (take two tablet and call me in the morning) {link}\n",
       "2841                                                                               getting ready for &quot;ipad design headaches&quot; #sxsw\n",
       "3120                              in ipad design headaches: take two tablets, call me in the am panel - excited to hear @mention live! #sxsw\n",
       "3224                                                                             kicking off w/ @mention talking ipad design headaches #sxsw\n",
       "3376      ipad design headaches. interface metaphor. looks like a book, make it behave like a book. simple stuff, but often forgotten. #sxsw\n",
       "4063                                                                                    first talk of the day : ipad design headaches. #sxsw\n",
       "4214                                                                                about to learn all about design headaches for ipad #sxsw\n",
       "5429                                            rt @mention #sxsw: ipad design headaches (take two tablet and call me in the morning) {link}\n",
       "6269                                                              rt @mention ipad design headaches with josh clark #tapworthy #sxsw  {link}\n",
       "6777    rt @mention slides from #sxsw talk, &quot;ipad design headaches &quot; {link} #tapworthy . really interesting for designers as well.\n",
       "7679                                                          headed for ipad design headaches (2 tablets, call in the morning) #sxsw {link}\n",
       "8513                                              i just watched &quot;ipad design headaches&quot; at #sxsw. buttons are a hack.  #tapworthy\n",
       "Name: tweets, dtype: object"
      ]
     },
     "execution_count": 49,
     "metadata": {},
     "output_type": "execute_result"
    }
   ],
   "source": [
    "# filter the rows that contain the word 'white' in the 'tweets_stemmed' column\n",
    "wait_df = ipad2_df2[ipad2_df2['tweets_stemmed'].apply(lambda x: any(['headach' in word for word in x]))]\n",
    "\n",
    "# set the maximum column width to 1000 to see the entire tweet\n",
    "pd.options.display.max_colwidth = 1000\n",
    "\n",
    "# view the first five rows of the 'tweets' column of the 'white_tweets' dataframe\n",
    "wait_df['tweets']"
   ]
  },
  {
   "cell_type": "markdown",
   "metadata": {
    "id": "3l2LyYf-Cnrz"
   },
   "source": [
    "Perhaps surprisingly, this looks like the name of a talk given at South by Southwest, and perhaps has been mislabeled negatively, as most of these tweets are simply posting about their attendance at the talk itself.  Some even express their interest in the talk.  \n",
    "\n",
    "This calls into question the data itself, as these tweets shouldn't be labeled as expressing negative emotions.  "
   ]
  },
  {
   "cell_type": "markdown",
   "metadata": {
    "id": "FjENJxK05SCA"
   },
   "source": [
    "###Build Fourth Model with Best TF-IDF max_features "
   ]
  },
  {
   "cell_type": "markdown",
   "metadata": {
    "id": "4qCS8bWvoyN8"
   },
   "source": [
    "Let's resume modeling and assume we have accurately-labeled data. Right now I am only allowing the model to look at the tf-idf of the top 10 most frequent tokens. If I allow it to look at all possible tokens, that could lead to high dimensionality issues, but let's take a look at how long our X_train is and figure out what we could change our max_features to. "
   ]
  },
  {
   "cell_type": "code",
   "execution_count": 50,
   "metadata": {
    "colab": {
     "base_uri": "https://localhost:8080/"
    },
    "id": "6HPCfdQ8zeho",
    "outputId": "f752200d-6cb4-464e-e928-b8764affe233"
   },
   "outputs": [
    {
     "data": {
      "text/plain": [
       "7136"
      ]
     },
     "execution_count": 50,
     "metadata": {},
     "output_type": "execute_result"
    }
   ],
   "source": [
    "#Check length of X_train\n",
    "len(X_train)"
   ]
  },
  {
   "cell_type": "markdown",
   "metadata": {
    "id": "OFHATn64zkTH"
   },
   "source": [
    "Setting max_features to 7136 would mean an equal number of rows and columns, something that can cause problems for many model algorithms.\n",
    "\n",
    "I will try increasing max_features from 10 to 200.  Since I will be iterating more models, I will build a function to make the process a little less repetetive."
   ]
  },
  {
   "cell_type": "code",
   "execution_count": 51,
   "metadata": {
    "id": "hDsqnsebzz6A"
   },
   "outputs": [],
   "source": [
    "#Model function\n",
    "def model(maximum_features):\n",
    "  tfidf = TfidfVectorizer(\n",
    "      max_features=maximum_features,\n",
    "      stop_words=stemmed_stopwords,\n",
    "      tokenizer=stem_and_tokenize,\n",
    "      token_pattern=None\n",
    ")\n",
    "  # Initialize the Naive Bayes classifier\n",
    "  fourth_model = MultinomialNB()\n",
    "\n",
    "  #Transform the training data into feature vectors\n",
    "  X_train_vectorized = tfidf.fit_transform(X_train[\"tweets\"])\n",
    "\n",
    "  # Calculate the cross-validation score\n",
    "  cv_score = cross_val_score(fourth_model, X_train_vectorized, y_train)\n",
    "  return cv_score"
   ]
  },
  {
   "cell_type": "code",
   "execution_count": 52,
   "metadata": {
    "colab": {
     "base_uri": "https://localhost:8080/"
    },
    "id": "US5CJ-m415xM",
    "outputId": "2ff55617-8513-4859-b683-571c97e5a206"
   },
   "outputs": [
    {
     "data": {
      "text/plain": [
       "array([0.65546218, 0.63980378, 0.63770147, 0.63910301, 0.63139453])"
      ]
     },
     "execution_count": 52,
     "metadata": {},
     "output_type": "execute_result"
    }
   ],
   "source": [
    "#Create model with 200 max_features for TF-IDF\n",
    "model_200 = model(200)\n",
    "model_200"
   ]
  },
  {
   "cell_type": "code",
   "execution_count": 53,
   "metadata": {
    "colab": {
     "base_uri": "https://localhost:8080/"
    },
    "id": "sriDNNkZ3Pdv",
    "outputId": "e3ae5d16-5ec4-460c-a557-129f6cc7e285"
   },
   "outputs": [
    {
     "data": {
      "text/plain": [
       "array([0.67016807, 0.66012614, 0.66152768, 0.66222845, 0.64751226])"
      ]
     },
     "execution_count": 53,
     "metadata": {},
     "output_type": "execute_result"
    }
   ],
   "source": [
    "#Create model with 500 max_features for TF-IDF\n",
    "model_500 = model(500)\n",
    "model_500"
   ]
  },
  {
   "cell_type": "markdown",
   "metadata": {
    "id": "SLCRAOse41cX"
   },
   "source": [
    "The model keeps getting better.  Rather than check every value for max_features, I will create a loop to figure it out the closest max_feature value."
   ]
  },
  {
   "cell_type": "code",
   "execution_count": 54,
   "metadata": {
    "colab": {
     "base_uri": "https://localhost:8080/"
    },
    "id": "Um8G13q17UHu",
    "outputId": "5559d1d8-8104-40e2-a26a-514f879341fc"
   },
   "outputs": [
    {
     "name": "stdout",
     "output_type": "stream",
     "text": [
      "{500: 0.6603125202428554, 1000: 0.6589119600187657, 1500: 0.6618543142554849, 2000: 0.6618551975800832, 2500: 0.6625558702808384, 3000: 0.6624159124056069, 3500: 0.6600335859641684, 4000: 0.6611541322906177}\n",
      "Best maximum features: 2500\n",
      "Cross-validation score: 0.6625558702808384\n"
     ]
    }
   ],
   "source": [
    "# Define the range of maximum features to test\n",
    "max_features_range = [500, 1000, 1500, 2000, 2500, 3000, 3500, 4000]\n",
    "\n",
    "# Initialize an empty dictionary to store the cross-validation scores\n",
    "cv_scores_dict = {}\n",
    "\n",
    "# Iterate through each value of maximum features and calculate the cross-validation score\n",
    "for max_features in max_features_range:\n",
    "    # Initialize the TfidfVectorizer with the current value of maximum features\n",
    "    tfidf = TfidfVectorizer(\n",
    "        max_features=max_features,\n",
    "        stop_words=stemmed_stopwords,\n",
    "        tokenizer=stem_and_tokenize,\n",
    "        token_pattern=None\n",
    "    )\n",
    "\n",
    "    # Initialize the Naive Bayes classifier\n",
    "    fourth_model = MultinomialNB()\n",
    "\n",
    "    # Transform the training data into feature vectors\n",
    "    X_train_vectorized = tfidf.fit_transform(X_train[\"tweets\"])\n",
    "\n",
    "    # Calculate the cross-validation score\n",
    "    cv_score = np.mean(cross_val_score(fourth_model, X_train_vectorized, y_train, cv=5))\n",
    "\n",
    "    # Store the cross-validation score in the dictionary\n",
    "    cv_scores_dict[max_features] = cv_score\n",
    "\n",
    "# Print the dictionary of cross-validation scores\n",
    "print(cv_scores_dict)\n",
    "\n",
    "# Find the maximum cross-validation score and the corresponding value of maximum features\n",
    "max_cv_score = max(cv_scores_dict.values())\n",
    "best_max_features = [k for k, v in cv_scores_dict.items() if v == max_cv_score][0]\n",
    "\n",
    "# Print the best value of maximum features and the corresponding cross-validation score\n",
    "print(\"Best maximum features:\", best_max_features)\n",
    "print(\"Cross-validation score:\", max_cv_score)"
   ]
  },
  {
   "cell_type": "markdown",
   "metadata": {
    "id": "wAjkPd8476hj"
   },
   "source": [
    "Great, so our final model will have a max_features value of 2500."
   ]
  },
  {
   "cell_type": "code",
   "execution_count": 55,
   "metadata": {
    "colab": {
     "base_uri": "https://localhost:8080/"
    },
    "id": "9SWtGq5175bq",
    "outputId": "f84c9c62-959b-4750-8483-c05949ac5266"
   },
   "outputs": [
    {
     "name": "stdout",
     "output_type": "stream",
     "text": [
      "Precision: 0.75\n",
      "Accuracy: 0.67\n",
      "Recall: 0.46\n",
      "F1 score: 0.47\n",
      "Final CV score: [0.66386555 0.66783462 0.67203924 0.66012614 0.64891381]\n"
     ]
    }
   ],
   "source": [
    "# Instantiate the vectorizer\n",
    "tfidf = TfidfVectorizer(\n",
    "    max_features=2500,\n",
    "    stop_words=stemmed_stopwords,\n",
    "    tokenizer=stem_and_tokenize,\n",
    "    token_pattern=None\n",
    ")\n",
    "\n",
    "# Instantiate the MultinomialNB model\n",
    "final_NB_model = MultinomialNB()\n",
    "\n",
    "#Fit the vectorizer on X_train and transform it\n",
    "X_train_vectorized = tfidf.fit_transform(X_train[\"tweets\"])\n",
    "final_NB_model.fit(X_train_vectorized, y_train)\n",
    "\n",
    "# Transform the test data using the vectorizer\n",
    "X_test_vectorized = tfidf.transform(X_test[\"tweets\"])\n",
    "\n",
    "# Predict the labels for the test data\n",
    "y_pred = final_NB_model.predict(X_test_vectorized)\n",
    "\n",
    "# Calculate the metrics\n",
    "precision = precision_score(y_test, y_pred, average='macro')\n",
    "accuracy = accuracy_score(y_test, y_pred)\n",
    "recall = recall_score(y_test, y_pred, average='macro')\n",
    "f1 = f1_score(y_test, y_pred, average='macro')\n",
    "\n",
    "# Print the metrics\n",
    "print(\"Precision: {:.2f}\".format(precision))\n",
    "print(\"Accuracy: {:.2f}\".format(accuracy))\n",
    "print(\"Recall: {:.2f}\".format(recall))\n",
    "print(\"F1 score: {:.2f}\".format(f1))\n",
    "\n",
    "# Evaluate the classifier on X_train_vectorized and y_train\n",
    "final_cv = cross_val_score(final_NB_model, X_train_vectorized, y_train)\n",
    "print(\"Final CV score:\", final_cv)"
   ]
  },
  {
   "cell_type": "markdown",
   "metadata": {
    "id": "5lJGCNWE1qS4"
   },
   "source": [
    "Ok, so we have acceptable precision and accuracy scores. Accuracy can be misleading in the case of imbalanced datasets, like ours, so it probably isn't the main metric we will use.  The high precision suggests the model is ok at avoiding false positives.  Recall and the related F1 score are a little low, so this model isn't as good at labeling all postive samples for each class.  \n",
    "\n",
    "The cv is better indicator for new, unseen data.  Recall that simply guessing based on the plurality would result in a 60.37% cv score, so this model with a cv score of 66.39% is only slightly better than random guessing.\n",
    "\n",
    "Let's plot confusion matrix to visualize what this model does."
   ]
  },
  {
   "cell_type": "code",
   "execution_count": 56,
   "metadata": {
    "colab": {
     "base_uri": "https://localhost:8080/",
     "height": 564
    },
    "id": "hDsa_KeAqZKR",
    "outputId": "2dca5c28-1b12-4792-b3ba-193a437617db",
    "scrolled": true
   },
   "outputs": [
    {
     "data": {
      "image/png": "[encoded data removed]",
      "text/plain": [
       "<Figure size 576x432 with 1 Axes>"
      ]
     },
     "metadata": {
      "needs_background": "light"
     },
     "output_type": "display_data"
    }
   ],
   "source": [
    "# Create the confusion matrix\n",
    "cm = confusion_matrix(y_test, y_pred)\n",
    "\n",
    "# Define the new labels\n",
    "labels = ['Negative', 'No Emotion', 'Positive']\n",
    "\n",
    "# Plot the confusion matrix as a heatmap\n",
    "fig, ax = plt.subplots(figsize=(8, 6))\n",
    "sns.heatmap(cm, annot=True, cmap='Blues', fmt='g', xticklabels=labels, yticklabels=labels, ax=ax, cbar=False)\n",
    "ax.set_xlabel('Predicted Label')\n",
    "ax.set_ylabel('True Label')\n",
    "ax.set_title('Confusion Matrix for Final NB Model')\n",
    "\n",
    "plt.show()"
   ]
  },
  {
   "cell_type": "markdown",
   "metadata": {},
   "source": [
    "Let's consolidate that into a binary confusion matrix for the stakeholder presentation."
   ]
  },
  {
   "cell_type": "code",
   "execution_count": 57,
   "metadata": {
    "colab": {
     "base_uri": "https://localhost:8080/",
     "height": 564
    },
    "id": "rGRUJoLG27T_",
    "outputId": "49f6a2f7-81e8-4175-8f8e-55544f2d3bf6"
   },
   "outputs": [
    {
     "data": {
      "image/png": "[encoded data removed]",
      "text/plain": [
       "<Figure size 576x432 with 1 Axes>"
      ]
     },
     "metadata": {
      "needs_background": "light"
     },
     "output_type": "display_data"
    }
   ],
   "source": [
    "# Map the \"Negative emotion\" and \"No emotion toward brand or product\" classes to a single category\n",
    "y_test_new = np.where(y_test == 'Positive emotion', 'Positive', 'Negative or No Emotion')\n",
    "y_pred_new = np.where(y_pred == 'Positive emotion', 'Positive', 'Negative or No Emotion')\n",
    "\n",
    "# Create the confusion matrix\n",
    "cm = confusion_matrix(y_test_new, y_pred_new)\n",
    "\n",
    "# Define the new labels\n",
    "labels = ['Negative or No Emotion', 'Positive']\n",
    "\n",
    "# Plot the confusion matrix as a heatmap\n",
    "fig, ax = plt.subplots(figsize=(8, 6))\n",
    "sns.heatmap(cm, annot=True, cmap='Blues', fmt='g', xticklabels=labels, yticklabels=labels, ax=ax, cbar=False)\n",
    "ax.set_xlabel('Predicted Label')\n",
    "ax.set_ylabel('True Label')\n",
    "ax.set_title('Confusion Matrix for Final NB Model (Positive vs. Negative or No Emotion)')\n",
    "\n",
    "plt.show()"
   ]
  },
  {
   "cell_type": "markdown",
   "metadata": {
    "id": "WEA2H00oqQaZ"
   },
   "source": [
    "This model does well to evaluate the Negative or No Emotion class.  It has a significant number of false negatives.  Just in case another type of model could prove better than this final Naive Bayes model, let's take a look at what some others models' baselines look like. "
   ]
  },
  {
   "cell_type": "code",
   "execution_count": 58,
   "metadata": {
    "colab": {
     "base_uri": "https://localhost:8080/",
     "height": 389
    },
    "id": "bQTyqLx0Ah_K",
    "outputId": "feeebb29-5bb3-419d-b140-33eae5899f8c"
   },
   "outputs": [
    {
     "data": {
      "text/html": [
       "<div>\n",
       "<style scoped>\n",
       "    .dataframe tbody tr th:only-of-type {\n",
       "        vertical-align: middle;\n",
       "    }\n",
       "\n",
       "    .dataframe tbody tr th {\n",
       "        vertical-align: top;\n",
       "    }\n",
       "\n",
       "    .dataframe thead th {\n",
       "        text-align: right;\n",
       "    }\n",
       "</style>\n",
       "<table border=\"1\" class=\"dataframe\">\n",
       "  <thead>\n",
       "    <tr style=\"text-align: right;\">\n",
       "      <th></th>\n",
       "      <th>tweets</th>\n",
       "      <th>products</th>\n",
       "      <th>emotion</th>\n",
       "      <th>tweets_tokenized</th>\n",
       "      <th>tweets_stemmed</th>\n",
       "    </tr>\n",
       "  </thead>\n",
       "  <tbody>\n",
       "    <tr>\n",
       "      <th>0</th>\n",
       "      <td>.@wesley83 i have a 3g iphone. after 3 hrs tweeting at #rise_austin, it was dead!  i need to upgrade. plugin stations at #sxsw.</td>\n",
       "      <td>iPhone</td>\n",
       "      <td>Negative emotion</td>\n",
       "      <td>[wesley83, 3g, hrs, tweeting, rise_austin, dead, need, upgrade, plugin, stations]</td>\n",
       "      <td>[wesley83, 3g, hrs, tweet, rise_austin, dead, need, upgrad, plugin, station]</td>\n",
       "    </tr>\n",
       "    <tr>\n",
       "      <th>1</th>\n",
       "      <td>@jessedee know about @fludapp ? awesome ipad/iphone app that you'll likely appreciate for its design. also, they're giving free ts at #sxsw</td>\n",
       "      <td>iPad or iPhone App</td>\n",
       "      <td>Positive emotion</td>\n",
       "      <td>[jessedee, know, fludapp, awesome, app, likely, appreciate, design, also, giving, free, ts]</td>\n",
       "      <td>[jessede, know, fludapp, awesom, app, like, appreci, design, also, give, free, ts]</td>\n",
       "    </tr>\n",
       "    <tr>\n",
       "      <th>2</th>\n",
       "      <td>@swonderlin can not wait for #ipad 2 also. they should sale them down at #sxsw.</td>\n",
       "      <td>iPad</td>\n",
       "      <td>Positive emotion</td>\n",
       "      <td>[swonderlin, wait, also, sale]</td>\n",
       "      <td>[swonderlin, wait, also, sale]</td>\n",
       "    </tr>\n",
       "    <tr>\n",
       "      <th>3</th>\n",
       "      <td>@sxsw i hope this year's festival isn't as crashy as this year's iphone app. #sxsw</td>\n",
       "      <td>iPad or iPhone App</td>\n",
       "      <td>Negative emotion</td>\n",
       "      <td>[hope, year, festival, crashy, year, app]</td>\n",
       "      <td>[hope, year, festiv, crashi, year, app]</td>\n",
       "    </tr>\n",
       "    <tr>\n",
       "      <th>4</th>\n",
       "      <td>@sxtxstate great stuff on fri #sxsw: marissa mayer (google), tim o'reilly (tech books/conferences) &amp;amp; matt mullenweg (wordpress)</td>\n",
       "      <td>Google</td>\n",
       "      <td>Positive emotion</td>\n",
       "      <td>[sxtxstate, great, stuff, fri, marissa, mayer, tim, reilly, tech, books, conferences, amp, matt, mullenweg, wordpress]</td>\n",
       "      <td>[sxtxstate, great, stuff, fri, marissa, mayer, tim, reilli, tech, book, confer, amp, matt, mullenweg, wordpress]</td>\n",
       "    </tr>\n",
       "  </tbody>\n",
       "</table>\n",
       "</div>"
      ],
      "text/plain": [
       "                                                                                                                                        tweets  \\\n",
       "0              .@wesley83 i have a 3g iphone. after 3 hrs tweeting at #rise_austin, it was dead!  i need to upgrade. plugin stations at #sxsw.   \n",
       "1  @jessedee know about @fludapp ? awesome ipad/iphone app that you'll likely appreciate for its design. also, they're giving free ts at #sxsw   \n",
       "2                                                              @swonderlin can not wait for #ipad 2 also. they should sale them down at #sxsw.   \n",
       "3                                                           @sxsw i hope this year's festival isn't as crashy as this year's iphone app. #sxsw   \n",
       "4          @sxtxstate great stuff on fri #sxsw: marissa mayer (google), tim o'reilly (tech books/conferences) &amp; matt mullenweg (wordpress)   \n",
       "\n",
       "             products           emotion  \\\n",
       "0              iPhone  Negative emotion   \n",
       "1  iPad or iPhone App  Positive emotion   \n",
       "2                iPad  Positive emotion   \n",
       "3  iPad or iPhone App  Negative emotion   \n",
       "4              Google  Positive emotion   \n",
       "\n",
       "                                                                                                         tweets_tokenized  \\\n",
       "0                                       [wesley83, 3g, hrs, tweeting, rise_austin, dead, need, upgrade, plugin, stations]   \n",
       "1                             [jessedee, know, fludapp, awesome, app, likely, appreciate, design, also, giving, free, ts]   \n",
       "2                                                                                          [swonderlin, wait, also, sale]   \n",
       "3                                                                               [hope, year, festival, crashy, year, app]   \n",
       "4  [sxtxstate, great, stuff, fri, marissa, mayer, tim, reilly, tech, books, conferences, amp, matt, mullenweg, wordpress]   \n",
       "\n",
       "                                                                                                     tweets_stemmed  \n",
       "0                                      [wesley83, 3g, hrs, tweet, rise_austin, dead, need, upgrad, plugin, station]  \n",
       "1                                [jessede, know, fludapp, awesom, app, like, appreci, design, also, give, free, ts]  \n",
       "2                                                                                    [swonderlin, wait, also, sale]  \n",
       "3                                                                           [hope, year, festiv, crashi, year, app]  \n",
       "4  [sxtxstate, great, stuff, fri, marissa, mayer, tim, reilli, tech, book, confer, amp, matt, mullenweg, wordpress]  "
      ]
     },
     "execution_count": 58,
     "metadata": {},
     "output_type": "execute_result"
    }
   ],
   "source": [
    "df2 = df\n",
    "df2.head()"
   ]
  },
  {
   "cell_type": "code",
   "execution_count": 59,
   "metadata": {
    "id": "nv2Kj8GxEIAE"
   },
   "outputs": [],
   "source": [
    "X = df2.drop(columns=['emotion']) #Collection of documents\n",
    "y = df2['emotion'] # Target or the labels we want to predict (i.e., the 3 different emotion labels)\n",
    "X_train, X_test, y_train, y_test = train_test_split(X, y, \n",
    "                                                    test_size=0.25,\n",
    "                                                    random_state = 0)"
   ]
  },
  {
   "cell_type": "code",
   "execution_count": 60,
   "metadata": {
    "colab": {
     "base_uri": "https://localhost:8080/"
    },
    "id": "gb0Iyxb7EXXl",
    "outputId": "9e9682bd-e94b-44fd-d7b9-d74b9bcc7962"
   },
   "outputs": [],
   "source": [
    "# define a custom tokenizer to join lists of strings into a single string\n",
    "def join_tokens(tokens_list):\n",
    "    return ' '.join(tokens_list)\n",
    "\n",
    "\n",
    "# extract features and labels\n",
    "tfidf = TfidfVectorizer(tokenizer=join_tokens)\n",
    "features = tfidf.fit_transform(df2['tweets_stemmed'].apply(join_tokens)).toarray()\n",
    "labels = df2['emotion']\n",
    "\n",
    "# define models\n",
    "models = [\n",
    "    RandomForestClassifier(n_estimators=100, max_depth=5, random_state=0),\n",
    "    LinearSVC(),\n",
    "    MultinomialNB(),\n",
    "    LogisticRegression(random_state=0),\n",
    "]\n",
    "\n",
    "# 5-fold cross-validation\n",
    "CV = 5\n",
    "cv_df = pd.DataFrame(index=range(CV * len(models)))\n",
    "entries = []\n",
    "for model in models:\n",
    "    model_name = model.__class__.__name__\n",
    "    accuracies = cross_val_score(model, features, labels, scoring='accuracy', cv=CV)\n",
    "    for fold_idx, accuracy in enumerate(accuracies):\n",
    "        entries.append((model_name, fold_idx, accuracy))\n",
    "cv_df = pd.DataFrame(entries, columns=['model_name', 'fold_idx', 'accuracy'])\n"
   ]
  },
  {
   "cell_type": "code",
   "execution_count": 61,
   "metadata": {
    "colab": {
     "base_uri": "https://localhost:8080/"
    },
    "id": "8ZkrBR31JvaG",
    "outputId": "fe8fe9af-29f1-42ac-fdca-22e483906c02"
   },
   "outputs": [
    {
     "name": "stdout",
     "output_type": "stream",
     "text": [
      "                        accuracy          \n",
      "                            mean       std\n",
      "model_name                                \n",
      "LinearSVC               0.607511  0.002581\n",
      "LogisticRegression      0.605830  0.004941\n",
      "MultinomialNB           0.602354  0.000307\n",
      "RandomForestClassifier  0.606951  0.002923\n"
     ]
    }
   ],
   "source": [
    "# Group the data by model name and compute the mean and standard deviation of the accuracy\n",
    "results = cv_df.groupby('model_name').agg({'accuracy': ['mean', 'std']})\n",
    "\n",
    "# Print the results\n",
    "print(results)"
   ]
  },
  {
   "cell_type": "markdown",
   "metadata": {
    "id": "7ETNLjG-6tlG"
   },
   "source": [
    "And let's visualize this just for good measure."
   ]
  },
  {
   "cell_type": "code",
   "execution_count": 62,
   "metadata": {
    "colab": {
     "base_uri": "https://localhost:8080/",
     "height": 488
    },
    "id": "ZmQGC7R0I9Vv",
    "outputId": "566243eb-e671-4a7d-bf09-4ec83db185d9"
   },
   "outputs": [
    {
     "data": {
      "image/png": "[encoded data removed]",
      "text/plain": [
       "<Figure size 576x360 with 1 Axes>"
      ]
     },
     "metadata": {
      "needs_background": "light"
     },
     "output_type": "display_data"
    }
   ],
   "source": [
    "plt.figure(figsize=(8,5))\n",
    "sns.boxplot(x='model_name', y='accuracy', \n",
    "            data=cv_df, \n",
    "            color='lightblue', \n",
    "            showmeans=True)\n",
    "plt.title(\"MEAN ACCURACY (cv = 5)n\", size=14);"
   ]
  },
  {
   "cell_type": "markdown",
   "metadata": {
    "id": "gY9G58o0u0gp"
   },
   "source": [
    "There doesn't seem to be that major difference between the models.  The LinearSVC is a few tenths of a percent better than the MultinomialNB, so perhaps we could try it out and see.  Let's add in a balanced class weight since we have an imbalanced dataset. "
   ]
  },
  {
   "cell_type": "code",
   "execution_count": 63,
   "metadata": {
    "colab": {
     "base_uri": "https://localhost:8080/"
    },
    "id": "5NC_5oKrMhzL",
    "outputId": "d0fcb83b-bab5-4e4f-9310-9f3802411730"
   },
   "outputs": [
    {
     "name": "stdout",
     "output_type": "stream",
     "text": [
      "Precision: 0.55\n",
      "Accuracy: 0.65\n",
      "Recall: 0.59\n",
      "F1 score: 0.56\n",
      "Final CV score: [0.64872945 0.66068759 0.66442451 0.64723468 0.6554559 ]\n"
     ]
    }
   ],
   "source": [
    "# Instantiate the vectorizer\n",
    "tfidf = TfidfVectorizer(\n",
    "    max_features=2500,\n",
    "    stop_words=stemmed_stopwords,\n",
    "    tokenizer=stem_and_tokenize,\n",
    "    token_pattern=None\n",
    ")\n",
    "\n",
    "# Calculate the class weights\n",
    "class_weights = compute_class_weight(class_weight='balanced', classes=np.unique(y_train), y=y_train)\n",
    "\n",
    "# Create a dictionary with the class weights\n",
    "class_weight = dict(zip(np.unique(y_train), class_weights))\n",
    "\n",
    "# Instantiate the LinearSVC model with class weights\n",
    "final_SVC_model = LinearSVC(class_weight=class_weight)\n",
    "\n",
    "# Fit the vectorizer on X_train and transform it\n",
    "X_train_vectorized = tfidf.fit_transform(X_train['tweets'])\n",
    "\n",
    "# Train the model on the training data\n",
    "final_SVC_model.fit(X_train_vectorized, y_train)\n",
    "\n",
    "# Transform the test data using the vectorizer\n",
    "X_test_vectorized = tfidf.transform(X_test['tweets'])\n",
    "\n",
    "# Predict the labels for the test data\n",
    "y_pred = final_SVC_model.predict(X_test_vectorized)\n",
    "\n",
    "# Calculate the metrics\n",
    "precision = precision_score(y_test, y_pred, average='macro')\n",
    "accuracy = accuracy_score(y_test, y_pred)\n",
    "recall = recall_score(y_test, y_pred, average='macro')\n",
    "f1 = f1_score(y_test, y_pred, average='macro')\n",
    "\n",
    "# Print the metrics\n",
    "print(\"Precision: {:.2f}\".format(precision))\n",
    "print(\"Accuracy: {:.2f}\".format(accuracy))\n",
    "print(\"Recall: {:.2f}\".format(recall))\n",
    "print(\"F1 score: {:.2f}\".format(f1))\n",
    "\n",
    "# Evaluate the classifier on X_train_vectorized and y_train\n",
    "final_cv = cross_val_score(final_SVC_model, X_train_vectorized, y_train)\n",
    "print(\"Final CV score:\", final_cv)\n"
   ]
  },
  {
   "cell_type": "markdown",
   "metadata": {
    "id": "u7UOs3EhRG45"
   },
   "source": [
    "Recall that the MultinomialNB model produced the following metrics: \n",
    "\n",
    "Precision: 0.75\n",
    "\n",
    "Accuracy: 0.67\n",
    "\n",
    "Recall: 0.46\n",
    "\n",
    "F1 score: 0.47\n",
    "\n",
    "Final CV score: [0.66386555 0.66783462 0.67203924 0.66012614 0.64891381]\n",
    "\n",
    "So this model has decreased precision and a slight descrease in the CV score, but increased recall and F1 score. \n",
    "\n",
    "If Google wants to prioritize precision, the final MultinomialNB model with precision of 0.75 is better, which means it correctly identifies more true positives and has fewer false positives.\n",
    "\n",
    "If Google wants to prioritize recall, the LinearSVC model with recall of 0.59 is better, which means it correctly identifies more true positives and has fewer false negatives.\n",
    "\n",
    "The F1 score, which balances both precision and recall, is also better in the LinearSVC model.\n",
    "\n",
    "Finally, the MultinomialNB model has slightly better performance with a higher accuracy and mean CV score, but the difference is not very significant. \n",
    "\n",
    "Let's plot the confusion matrix for this SVC model so we can see how it compares to the NB model. "
   ]
  },
  {
   "cell_type": "code",
   "execution_count": 64,
   "metadata": {
    "colab": {
     "base_uri": "https://localhost:8080/",
     "height": 564
    },
    "id": "rxIhibjYsf4t",
    "outputId": "befd110e-5756-4a79-e63b-1cc4a0856483",
    "scrolled": true
   },
   "outputs": [
    {
     "data": {
      "image/png": "[encoded data removed]",
      "text/plain": [
       "<Figure size 576x432 with 1 Axes>"
      ]
     },
     "metadata": {
      "needs_background": "light"
     },
     "output_type": "display_data"
    }
   ],
   "source": [
    "# Create the confusion matrix\n",
    "cm = confusion_matrix(y_test, y_pred)\n",
    "\n",
    "# Define the new labels\n",
    "labels = ['Negative', 'No Emotion', 'Positive']\n",
    "\n",
    "# Plot the confusion matrix as a heatmap\n",
    "fig, ax = plt.subplots(figsize=(8, 6))\n",
    "sns.heatmap(cm, annot=True, cmap='Blues', fmt='g', xticklabels=labels, yticklabels=labels, ax=ax, cbar=False)\n",
    "ax.set_xlabel('Predicted Label')\n",
    "ax.set_ylabel('True Label')\n",
    "ax.set_title('Confusion Matrix for Final SVC Model')\n",
    "\n",
    "plt.show()"
   ]
  },
  {
   "cell_type": "markdown",
   "metadata": {},
   "source": [
    "Again, let's consolidate that confusion matrix for the stakholder presentation. "
   ]
  },
  {
   "cell_type": "code",
   "execution_count": 65,
   "metadata": {
    "colab": {
     "base_uri": "https://localhost:8080/",
     "height": 564
    },
    "id": "w9rHg6Ad2xjG",
    "outputId": "dea979b3-28e6-452a-dce1-951dc01e8808"
   },
   "outputs": [
    {
     "data": {
      "image/png": "[encoded data removed]",
      "text/plain": [
       "<Figure size 576x432 with 1 Axes>"
      ]
     },
     "metadata": {
      "needs_background": "light"
     },
     "output_type": "display_data"
    }
   ],
   "source": [
    "# Map the \"Negative emotion\" and \"No emotion toward brand or product\" classes to a single category\n",
    "y_test_new = np.where(y_test == 'Positive emotion', 'Positive', 'Negative or No Emotion')\n",
    "y_pred_new = np.where(y_pred == 'Positive emotion', 'Positive', 'Negative or No Emotion')\n",
    "\n",
    "# Create the confusion matrix\n",
    "cm = confusion_matrix(y_test_new, y_pred_new)\n",
    "\n",
    "# Define the new labels\n",
    "labels = ['Negative or No Emotion', 'Positive']\n",
    "\n",
    "# Plot the confusion matrix as a heatmap\n",
    "fig, ax = plt.subplots(figsize=(8, 6))\n",
    "sns.heatmap(cm, annot=True, cmap='Blues', fmt='g', xticklabels=labels, yticklabels=labels, ax=ax, cbar=False)\n",
    "ax.set_xlabel('Predicted Label')\n",
    "ax.set_ylabel('True Label')\n",
    "ax.set_title('Confusion Matrix for Final SVC Model (Positive vs. Negative or No Emotion)')\n",
    "\n",
    "plt.show()"
   ]
  },
  {
   "cell_type": "markdown",
   "metadata": {
    "id": "Z9b8c-XBI3En"
   },
   "source": [
    "It looks like the model is best at intepreting tweets with No Emotion.   This SVC model has more true positives and true negatives than the NB model.  The NB model has less false positives and both have comparable false negatives.  In terms of specific numbers the NB model has 123 False Positives and 224 True Positives, while the SVC model has 290 False Positives and 420 True Positives.  So the SVC model has 107 more False positives, but it also has 196 more True Positives.  Since the SVC model performs better in the 3 out of the 4 categories of this confusion matrix, we will stick with the SVC model as our final model.  "
   ]
  },
  {
   "cell_type": "markdown",
   "metadata": {
    "id": "rTsyoNDFTaDp"
   },
   "source": [
    "## Conclusion and Recommendations"
   ]
  },
  {
   "cell_type": "markdown",
   "metadata": {
    "id": "tHp4MX8-BJZj"
   },
   "source": [
    "This final model interprets tweets with no emotion relatively accurately. This is the plurality of the dataset. \n",
    "\n",
    "If Google is interested in an accurate model that will correctly predict a negative, positive, or emotionless tweet, further iterations with the current dataset could prove fruitful. \n",
    "\n",
    "There is still a high level of overlap between the top 10 tokens of the three classes.  Further removal of these overlapping tokens may help the model better distinguish between the three classes.\n",
    "\n",
    "Beyond this dataset, a higher sample of positive and negative tweets could help the model in its predictive accuracy.  The vast majority of tweets in this dataset were labeled as containing no emotion.  If Google is interested in positive or negative tweets, this dataset could be extended with more relevant information.  \n",
    "\n",
    "As for the analysis of the data itself, I have presented two methods of narrowing down the most popular terminology in the positve and negative tweets.  Investigating certain high frequency terms in the positive category, such as the terms \"ipad2\" and \"line,\" may help Google track the positive zeitgeist surrounding the release of a product, which in turn may inform further product development.  In this case, queues to purchase the iPad2 resulted in positive Twitter discourse on the release of the product.  \n",
    "\n",
    "Investigating certain high frequency terms in the negative category could prove similarly fruitful, if the labels of postiive and negative are accurate.  Unfortunately, investigating the stems \"design\" and \"headach\" demonstrated the inaccuracies of the baseline dataset.  Therefore, any further models on this dataset should cease until the accuracy of the is_there_an_emotion_directed_at_a_brand_or_product feature is verified.  \n",
    "\n",
    "\n",
    "**In summary:**\n",
    "\n",
    "This model provides a adequate baseline for classifying emotionless tweets. For further developement, high frequency terms that overlap across the three classes (positive, negative, no emotion) could be removed from the dataset while additional positively and negatively-labeled tweets should be introduced to the dataset.  Moreover, the is_there_an_emotion_directed_at_a_brand_or_product column of the initial dataset needs to be edited and re-labeled accurately for any supervised learning model to function effectively.  \n",
    "\n",
    "Once this overlap is reduced, the additional data is included, and the current data is correcly labeled, the implementation of a similar model on new data can begin. An analysis of the new data's tokens and the corresponding information in each of the three classes will provide Google keen insights for future product development, as demonstrated.    "
   ]
  },
  {
   "cell_type": "code",
   "execution_count": null,
   "metadata": {
    "id": "n5VyaKeJCE3x"
   },
   "outputs": [],
   "source": []
  }
 ],
 "metadata": {
  "colab": {
   "provenance": []
  },
  "kernelspec": {
   "display_name": "Python (learn-env)",
   "language": "python",
   "name": "learn-env"
  },
  "language_info": {
   "codemirror_mode": {
    "name": "ipython",
    "version": 3
   },
   "file_extension": ".py",
   "mimetype": "text/x-python",
   "name": "python",
   "nbconvert_exporter": "python",
   "pygments_lexer": "ipython3",
   "version": "3.8.5"
  }
 },
 "nbformat": 4,
 "nbformat_minor": 1
}
